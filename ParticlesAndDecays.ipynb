{
 "cells": [
  {
   "cell_type": "markdown",
   "metadata": {
    "slideshow": {
     "slide_type": "slide"
    }
   },
   "source": [
    "<h1><center><span style=\"color:blue\">Particles and decays<br>in the Scikit-HEP project</span></center></h1>\n",
    "\n",
    "<h2><center>Eduardo Rodrigues<br>University of Cincinnati </center></h2>\n",
    "\n",
    "<h3><center><span style=\"color:gray\">PyHEP 2019 Workshop, Abingdon, 16-18 October 2019</span></center></h3>"
   ]
  },
  {
   "cell_type": "markdown",
   "metadata": {
    "slideshow": {
     "slide_type": "slide"
    }
   },
   "source": [
    "<center><img src=\"images/Particle_logo.png\" alt=\"Particle package logo\" style=\"width: 200px;\"/></center>\n",
    "\n",
    "<h2><center><span style=\"color:green\">PDG particle data and MC identification codes<br>with the <i>Particle</i> package</span></center></h2>\n",
    "\n",
    "### **Pythonic interface to**\n",
    "- Particle Data Group (PDG) particle data table.\n",
    "- Particle MC identification codes, with inter-MC converters.\n",
    "- With various extra goodies."
   ]
  },
  {
   "cell_type": "markdown",
   "metadata": {
    "slideshow": {
     "slide_type": "slide"
    }
   },
   "source": [
    "### Package motivation - particle data\n",
    "\n",
    "- The [PDG](http://pdg.lbl.gov/) provides a <span style=\"color:green\">downloadable table of particle masses, widths, charges and Monte Carlo particle ID numbers</span> (PDG IDs).\n",
    "  - Most recent file [here](http://pdg.lbl.gov/2019/html/computer_read.html).\n",
    "- It <span style=\"color:green\">also provided an experimental file with extended information</span>\n",
    "(spin, quark content, P and C parities, etc.) until 2008 only, see [here](http://pdg.lbl.gov/2008/html/computer_read.html) (not widely known!).\n",
    "\n",
    "- But <span style=\"color:green\">*anyone* wanting to use these data</span>, the only readily available,\n",
    "<span style=\"color:green\">has to parse the file programmatically</span>.\n",
    "- Why not make a Python package to deal with all these data, for everyone?"
   ]
  },
  {
   "cell_type": "markdown",
   "metadata": {
    "slideshow": {
     "slide_type": "subslide"
    }
   },
   "source": [
    "### Package motivation - MC identification codes\n",
    "\n",
    "- The <span style=\"color:green\">C++ HepPID and HepPDT libraries provide functions for processing particle ID codes</apan>\n",
    "in the standard particle (aka PDG) numbering scheme.\n",
    "- Different event generators have their separate set of particle IDs: Pythia, EvtGen, etc.\n",
    "- Again, why not make a package providing all functionality/conversions, Python-ically, for everyone?"
   ]
  },
  {
   "cell_type": "markdown",
   "metadata": {
    "slideshow": {
     "slide_type": "slide"
    }
   },
   "source": [
    "### Package, in short\n",
    "\n",
    "- <span style=\"color:green\">Particle</span> - loads extended **PDG data tables** and implements search and manipulations / display.\n",
    "- <span style=\"color:green\">PDGID</span> - find out as much as possible from the PDG ID number. **No table lookup**.\n",
    "- <span style=\"color:green\">Converters for MC IDs</span> used in Pythia and Geant.\n",
    "\n",
    "\n",
    "- Basic usage via the command line.\n",
    "- Fexible / advanced usage programmatically."
   ]
  },
  {
   "cell_type": "markdown",
   "metadata": {
    "slideshow": {
     "slide_type": "slide"
    }
   },
   "source": [
    "### 1. Command line usage\n",
    "\n",
    "Search and query ..."
   ]
  },
  {
   "cell_type": "code",
   "execution_count": null,
   "metadata": {
    "slideshow": {
     "slide_type": "-"
    }
   },
   "outputs": [],
   "source": [
    "!python -m particle -h"
   ]
  },
  {
   "cell_type": "code",
   "execution_count": null,
   "metadata": {
    "scrolled": true
   },
   "outputs": [],
   "source": [
    "!python -m particle --version"
   ]
  },
  {
   "cell_type": "markdown",
   "metadata": {
    "slideshow": {
     "slide_type": "subslide"
    }
   },
   "source": [
    "#### PDGID"
   ]
  },
  {
   "cell_type": "markdown",
   "metadata": {},
   "source": [
    "Print all information from a PDG ID:"
   ]
  },
  {
   "cell_type": "code",
   "execution_count": null,
   "metadata": {
    "scrolled": true
   },
   "outputs": [],
   "source": [
    "!python -m particle pdgid 211"
   ]
  },
  {
   "cell_type": "markdown",
   "metadata": {
    "slideshow": {
     "slide_type": "subslide"
    }
   },
   "source": [
    "#### Particle"
   ]
  },
  {
   "cell_type": "markdown",
   "metadata": {},
   "source": [
    "Search a particle by its PDG ID - return description summary of particle:"
   ]
  },
  {
   "cell_type": "code",
   "execution_count": null,
   "metadata": {},
   "outputs": [],
   "source": [
    "!python -m particle search 211"
   ]
  },
  {
   "cell_type": "markdown",
   "metadata": {
    "slideshow": {
     "slide_type": "subslide"
    }
   },
   "source": [
    "Search a particle by its name - either return the description summary of matching particle ..."
   ]
  },
  {
   "cell_type": "code",
   "execution_count": null,
   "metadata": {},
   "outputs": [],
   "source": [
    "!python -m particle search \"pi(1400)+\""
   ]
  },
  {
   "cell_type": "markdown",
   "metadata": {
    "slideshow": {
     "slide_type": "subslide"
    }
   },
   "source": [
    "... or a list of particles matching the keyword in their names:"
   ]
  },
  {
   "cell_type": "code",
   "execution_count": null,
   "metadata": {},
   "outputs": [],
   "source": [
    "!python -m particle search \"pi+\""
   ]
  },
  {
   "cell_type": "markdown",
   "metadata": {
    "slideshow": {
     "slide_type": "subslide"
    }
   },
   "source": [
    "#### Bonus feature: zipapp\n",
    "\n",
    "Package provides a [zipapp](https://docs.python.org/3/library/zipapp.html) version - **one file** that runs on **any computer with Python**, no other dependencies! Find it [attached to releases](https://github.com/scikit-hep/particle/releases)."
   ]
  },
  {
   "cell_type": "markdown",
   "metadata": {},
   "source": [
    "Example:\n",
    "\n",
    "```bash\n",
    "./particle.pyz search gamma\n",
    "```"
   ]
  },
  {
   "cell_type": "markdown",
   "metadata": {},
   "source": [
    "All dependencies (including the two backports) are installed inside the zipapp, and the data lookup is handled in a zip-safe way inside particle. Python 3 is used to make the zipapp, but including the backports makes it work on Python 2 as well."
   ]
  },
  {
   "cell_type": "markdown",
   "metadata": {
    "slideshow": {
     "slide_type": "slide"
    }
   },
   "source": [
    "### 2. `PDGID` class and MC ID classes\n",
    "\n",
    "\n",
    "- Classes `PDGID`, `PythiaID`, `GeantID`.\n",
    "- Converters in module `particle.converters`: `Geant2PDGIDBiMap`, etc."
   ]
  },
  {
   "cell_type": "markdown",
   "metadata": {
    "slideshow": {
     "slide_type": "subslide"
    }
   },
   "source": [
    "#### PDG IDs module overview\n",
    "\n",
    "- <span style=\"color:green\">Process and query PDG IDs</span>, and more – no look-up table needed.\n",
    "  - Current version of package reflects the latest version of the\n",
    "    <span style=\"color:green\">HepPID & HepPDT utility functions</span> defined in the C++ HepPID and HepPDT versions 3.04.01\n",
    "  - It contains more functionality than that available in the C++ code … and minor fixes too.\n",
    "- Definition of a <span style=\"color:green\">PDGID class, PDG ID literals</span>,\n",
    "and set of standalone HepPID <span style=\"color:green\">functions to query PDG IDs</span>\n",
    "(is_meson, has_bottom, j_spin, charge, etc.).\n",
    "   - All PDGID class functions are available standalone."
   ]
  },
  {
   "cell_type": "markdown",
   "metadata": {
    "slideshow": {
     "slide_type": "subslide"
    }
   },
   "source": [
    "#### PDGID class\n",
    "- Wrapper class `PDGID` for PDG IDs.\n",
    "- Behaves like an int, with extra goodies.\n",
    "- Large spectrum of properties and methods, with a Pythonic interface, and yet more!"
   ]
  },
  {
   "cell_type": "code",
   "execution_count": null,
   "metadata": {
    "slideshow": {
     "slide_type": "subslide"
    }
   },
   "outputs": [],
   "source": [
    "from particle import PDGID"
   ]
  },
  {
   "cell_type": "code",
   "execution_count": null,
   "metadata": {},
   "outputs": [],
   "source": [
    "pid = PDGID(211)\n",
    "pid"
   ]
  },
  {
   "cell_type": "code",
   "execution_count": null,
   "metadata": {},
   "outputs": [],
   "source": [
    "PDGID(99999999)"
   ]
  },
  {
   "cell_type": "code",
   "execution_count": null,
   "metadata": {
    "slideshow": {
     "slide_type": "subslide"
    }
   },
   "outputs": [],
   "source": [
    "from particle.pdgid import is_meson\n",
    "\n",
    "pid.is_meson, is_meson(pid)"
   ]
  },
  {
   "cell_type": "markdown",
   "metadata": {
    "slideshow": {
     "slide_type": "subslide"
    }
   },
   "source": [
    "To print all `PDGID` properties:"
   ]
  },
  {
   "cell_type": "code",
   "execution_count": null,
   "metadata": {},
   "outputs": [],
   "source": [
    "print(pid.info())"
   ]
  },
  {
   "cell_type": "markdown",
   "metadata": {
    "slideshow": {
     "slide_type": "subslide"
    }
   },
   "source": [
    "#### MC ID classes and converters\n",
    "\n",
    "- Classes for MC IDs used in Pythia and Geant: `PythiaID` and `GeantID`.\n",
    "- Converters in module `particle.converters`: `Geant2PDGIDBiMap`, etc."
   ]
  },
  {
   "cell_type": "code",
   "execution_count": null,
   "metadata": {},
   "outputs": [],
   "source": [
    "from particle import PythiaID, GeantID\n",
    "\n",
    "pyid = PythiaID(10221)\n",
    "\n",
    "pyid.to_pdgid()"
   ]
  },
  {
   "cell_type": "markdown",
   "metadata": {
    "slideshow": {
     "slide_type": "subslide"
    }
   },
   "source": [
    "Conversions are directly available via mapping classes.\n",
    "\n",
    "E.g., bi-directional map Pythia ID - PDG ID:"
   ]
  },
  {
   "cell_type": "code",
   "execution_count": null,
   "metadata": {},
   "outputs": [],
   "source": [
    "from particle.converters import Pythia2PDGIDBiMap\n",
    "\n",
    "Pythia2PDGIDBiMap[PDGID(9010221)]"
   ]
  },
  {
   "cell_type": "code",
   "execution_count": null,
   "metadata": {},
   "outputs": [],
   "source": [
    "Pythia2PDGIDBiMap[PythiaID(10221)]"
   ]
  },
  {
   "cell_type": "markdown",
   "metadata": {
    "slideshow": {
     "slide_type": "slide"
    }
   },
   "source": [
    "### 3. `Particle` class\n",
    "\n",
    "There are lots of ways to create a particle."
   ]
  },
  {
   "cell_type": "code",
   "execution_count": null,
   "metadata": {},
   "outputs": [],
   "source": [
    "from particle import Particle"
   ]
  },
  {
   "cell_type": "markdown",
   "metadata": {
    "slideshow": {
     "slide_type": "subslide"
    }
   },
   "source": [
    "#### From a PDG ID"
   ]
  },
  {
   "cell_type": "code",
   "execution_count": null,
   "metadata": {},
   "outputs": [],
   "source": [
    "Particle.from_pdgid(211)"
   ]
  },
  {
   "cell_type": "markdown",
   "metadata": {
    "slideshow": {
     "slide_type": "subslide"
    }
   },
   "source": [
    "#### From a name"
   ]
  },
  {
   "cell_type": "code",
   "execution_count": null,
   "metadata": {},
   "outputs": [],
   "source": [
    "Particle.from_string('pi+')"
   ]
  },
  {
   "cell_type": "markdown",
   "metadata": {
    "slideshow": {
     "slide_type": "subslide"
    }
   },
   "source": [
    "#### Searching\n",
    "\n",
    "Simple and natural API to deal with the PDG particle data table, with powerful search and look-up utilities!\n",
    "\n",
    "- `Particle.find(…)` – search a single match (exception raised if multiple particles match the search specifications).\n",
    "- `Particle.findall(…)` – search a list of candidates.\n",
    "\n",
    "- Powerful search methods that can query any particle property!\n",
    "- One-line queries."
   ]
  },
  {
   "cell_type": "code",
   "execution_count": null,
   "metadata": {
    "slideshow": {
     "slide_type": "subslide"
    }
   },
   "outputs": [],
   "source": [
    "Particle.find('J/psi')"
   ]
  },
  {
   "cell_type": "markdown",
   "metadata": {
    "slideshow": {
     "slide_type": "subslide"
    }
   },
   "source": [
    "You can specify search terms as keywords - _any particle property_:"
   ]
  },
  {
   "cell_type": "code",
   "execution_count": null,
   "metadata": {},
   "outputs": [],
   "source": [
    "Particle.find(latex_name=r'\\phi(1020)')"
   ]
  },
  {
   "cell_type": "markdown",
   "metadata": {
    "slideshow": {
     "slide_type": "subslide"
    }
   },
   "source": [
    "Some properties have enums available. For example, you can directly check the numeric charge:"
   ]
  },
  {
   "cell_type": "code",
   "execution_count": null,
   "metadata": {},
   "outputs": [],
   "source": [
    "Particle.findall('pi', charge=-1)"
   ]
  },
  {
   "cell_type": "markdown",
   "metadata": {
    "slideshow": {
     "slide_type": "subslide"
    }
   },
   "source": [
    "Or you can use the enum (for charge, this is 3 times the charge, hence the name `three_charge`)"
   ]
  },
  {
   "cell_type": "code",
   "execution_count": null,
   "metadata": {},
   "outputs": [],
   "source": [
    "from particle import Charge\n",
    "\n",
    "Particle.findall('pi', three_charge=Charge.p)"
   ]
  },
  {
   "cell_type": "markdown",
   "metadata": {
    "slideshow": {
     "slide_type": "subslide"
    }
   },
   "source": [
    "Or use a **lambda function** for the ultimate in generality! For example, to find all the neutral particles with a bottom quark between 5.2 and 5.3 GeV:"
   ]
  },
  {
   "cell_type": "code",
   "execution_count": null,
   "metadata": {},
   "outputs": [],
   "source": [
    "from hepunits import GeV, s  # Units are good. Use them."
   ]
  },
  {
   "cell_type": "code",
   "execution_count": null,
   "metadata": {},
   "outputs": [],
   "source": [
    "Particle.findall(lambda p:\n",
    "                     p.pdgid.has_bottom\n",
    "                     and p.charge==0\n",
    "                     and 5.2*GeV < p.mass < 5.3*GeV\n",
    "                )"
   ]
  },
  {
   "cell_type": "markdown",
   "metadata": {
    "slideshow": {
     "slide_type": "subslide"
    }
   },
   "source": [
    "Another lambda function example: You can use the width or the lifetime:"
   ]
  },
  {
   "cell_type": "code",
   "execution_count": null,
   "metadata": {
    "slideshow": {
     "slide_type": "-"
    }
   },
   "outputs": [],
   "source": [
    "Particle.findall(lambda p: p.lifetime > 1000*s)"
   ]
  },
  {
   "cell_type": "markdown",
   "metadata": {
    "slideshow": {
     "slide_type": "subslide"
    }
   },
   "source": [
    "If you want infinite lifetime, you could just use the keyword search instead:"
   ]
  },
  {
   "cell_type": "code",
   "execution_count": null,
   "metadata": {},
   "outputs": [],
   "source": [
    "Particle.findall(lifetime=float('inf'))"
   ]
  },
  {
   "cell_type": "markdown",
   "metadata": {
    "slideshow": {
     "slide_type": "subslide"
    }
   },
   "source": [
    "Trivially find all pseudoscalar charm mesons:"
   ]
  },
  {
   "cell_type": "code",
   "execution_count": null,
   "metadata": {},
   "outputs": [],
   "source": [
    "from particle import SpinType\n",
    "\n",
    "Particle.findall(lambda p: p.pdgid.is_meson and p.pdgid.has_charm and p.spin_type==SpinType.PseudoScalar)"
   ]
  },
  {
   "cell_type": "markdown",
   "metadata": {
    "slideshow": {
     "slide_type": "subslide"
    }
   },
   "source": [
    "#### Display"
   ]
  },
  {
   "cell_type": "markdown",
   "metadata": {},
   "source": [
    "Nice display in Jupyter notebooks, as well as `str` and `repr` support:"
   ]
  },
  {
   "cell_type": "code",
   "execution_count": null,
   "metadata": {},
   "outputs": [],
   "source": [
    "p = Particle.from_pdgid(-435)\n",
    "p"
   ]
  },
  {
   "cell_type": "code",
   "execution_count": null,
   "metadata": {
    "slideshow": {
     "slide_type": "subslide"
    }
   },
   "outputs": [],
   "source": [
    "print(p)"
   ]
  },
  {
   "cell_type": "code",
   "execution_count": null,
   "metadata": {},
   "outputs": [],
   "source": [
    "print(repr(p))"
   ]
  },
  {
   "cell_type": "markdown",
   "metadata": {
    "slideshow": {
     "slide_type": "subslide"
    }
   },
   "source": [
    "Full descriptions:"
   ]
  },
  {
   "cell_type": "code",
   "execution_count": null,
   "metadata": {},
   "outputs": [],
   "source": [
    "print(p.describe())"
   ]
  },
  {
   "cell_type": "markdown",
   "metadata": {
    "slideshow": {
     "slide_type": "subslide"
    }
   },
   "source": [
    "You may find LaTeX or HTML to be more useful in your program; both are supported:"
   ]
  },
  {
   "cell_type": "code",
   "execution_count": null,
   "metadata": {},
   "outputs": [],
   "source": [
    "print(p.latex_name, p.html_name)"
   ]
  },
  {
   "cell_type": "markdown",
   "metadata": {
    "slideshow": {
     "slide_type": "subslide"
    }
   },
   "source": [
    "It is easy to get hold of the whole list of particle (instances) as a list:"
   ]
  },
  {
   "cell_type": "code",
   "execution_count": null,
   "metadata": {
    "scrolled": true
   },
   "outputs": [],
   "source": [
    "print('# of particles in loaded data table:', len(Particle.all()))\n",
    "Particle.all()"
   ]
  },
  {
   "cell_type": "markdown",
   "metadata": {
    "slideshow": {
     "slide_type": "subslide"
    }
   },
   "source": [
    "#### Particle properties\n",
    "\n",
    "You can do things to particles, like **invert** them:"
   ]
  },
  {
   "cell_type": "code",
   "execution_count": null,
   "metadata": {},
   "outputs": [],
   "source": [
    "~p"
   ]
  },
  {
   "cell_type": "markdown",
   "metadata": {
    "slideshow": {
     "slide_type": "subslide"
    }
   },
   "source": [
    "There are a plethora of properties you can access:"
   ]
  },
  {
   "cell_type": "code",
   "execution_count": null,
   "metadata": {},
   "outputs": [],
   "source": [
    "p.spin_type"
   ]
  },
  {
   "cell_type": "markdown",
   "metadata": {
    "slideshow": {
     "slide_type": "subslide"
    }
   },
   "source": [
    "You can quickly access the PDGID of a particle:"
   ]
  },
  {
   "cell_type": "code",
   "execution_count": null,
   "metadata": {},
   "outputs": [],
   "source": [
    "p.pdgid"
   ]
  },
  {
   "cell_type": "code",
   "execution_count": null,
   "metadata": {},
   "outputs": [],
   "source": [
    "PDGID(p)"
   ]
  },
  {
   "cell_type": "markdown",
   "metadata": {
    "slideshow": {
     "slide_type": "slide"
    }
   },
   "source": [
    "### 4. Literals\n",
    "\n",
    "They provide a <span style=\"color:green\">handy way to manipulate things with human-readable names!</span>\n",
    "\n",
    "Package defines <span style=\"color:green\">literals for most common particles</span>, with easily recognisable names.\n",
    "- Literals are dynamically generated on import for both `PDGID` and `Particle` classes."
   ]
  },
  {
   "cell_type": "markdown",
   "metadata": {
    "slideshow": {
     "slide_type": "subslide"
    }
   },
   "source": [
    "**PDGID literals**"
   ]
  },
  {
   "cell_type": "code",
   "execution_count": null,
   "metadata": {},
   "outputs": [],
   "source": [
    "from particle.pdgid import literals as lid"
   ]
  },
  {
   "cell_type": "code",
   "execution_count": null,
   "metadata": {},
   "outputs": [],
   "source": [
    "lid.phi_1020"
   ]
  },
  {
   "cell_type": "markdown",
   "metadata": {
    "slideshow": {
     "slide_type": "subslide"
    }
   },
   "source": [
    "**Particle literals**"
   ]
  },
  {
   "cell_type": "code",
   "execution_count": null,
   "metadata": {},
   "outputs": [],
   "source": [
    "from particle.particle import literals as lpart"
   ]
  },
  {
   "cell_type": "code",
   "execution_count": null,
   "metadata": {},
   "outputs": [],
   "source": [
    "lpart.phi_1020"
   ]
  },
  {
   "cell_type": "markdown",
   "metadata": {
    "slideshow": {
     "slide_type": "slide"
    }
   },
   "source": [
    "### 5. Data files\n",
    "\n",
    "- All data files stored under `particle/data/`\n",
    "\n",
    "<center><img src=\"images/PDG_logo.png\" alt=\"PDG logo\" style=\"width: 50px;\"/></center>\n",
    "\n",
    "- <b>PDG particle data files</b>\n",
    "  - Original PDG data files, which are in a fixed-width format\n",
    "  - Code uses “digested forms” of the PDG files, stored as CSV, for optimised querying\n",
    "  - Latest-ish PDG data used by default (2018 at present, 2019 update available since a few days!)\n",
    "  - Advanced usage: user can load older PDG table, load a “user table” with new particles, append to default table\n",
    "\n",
    "- Other data files\n",
    "  - CSV file for mapping of PDG IDs to particle LaTeX names"
   ]
  },
  {
   "cell_type": "markdown",
   "metadata": {
    "slideshow": {
     "slide_type": "subslide"
    }
   },
   "source": [
    "#### Dump table contents\n",
    "\n",
    "The `Particle.dump_table(...)` method is rather flexible.\n",
    "\n",
    "(No need to dig into the package installation directory to inspect the particle data table ;-).)"
   ]
  },
  {
   "cell_type": "code",
   "execution_count": null,
   "metadata": {},
   "outputs": [],
   "source": [
    "help(Particle.dump_table)"
   ]
  },
  {
   "cell_type": "code",
   "execution_count": null,
   "metadata": {
    "slideshow": {
     "slide_type": "subslide"
    }
   },
   "outputs": [],
   "source": [
    "fields = ['pdgid', 'pdg_name', 'mass', 'mass_upper', 'mass_lower', 'three_charge']\n",
    "    \n",
    "Particle.dump_table(exclusive_fields=fields, n_rows=10)"
   ]
  },
  {
   "cell_type": "markdown",
   "metadata": {
    "slideshow": {
     "slide_type": "subslide"
    }
   },
   "source": [
    "Table with all b-flavoured hadrons (in _reStructuredText_ format):"
   ]
  },
  {
   "cell_type": "code",
   "execution_count": null,
   "metadata": {
    "scrolled": false
   },
   "outputs": [],
   "source": [
    "Particle.dump_table(filter_fn=lambda p: p.pdgid.has_bottom, exclusive_fields=fields, tablefmt='rst')"
   ]
  },
  {
   "cell_type": "markdown",
   "metadata": {
    "slideshow": {
     "slide_type": "slide"
    }
   },
   "source": [
    "### 6. Advanced usage\n",
    "\n",
    "You can:\n",
    "\n",
    "* Extend or replace the default particle data table in `Particle`.\n",
    "* Adjust properties for a particle.\n",
    "* Make custom particles."
   ]
  },
  {
   "cell_type": "markdown",
   "metadata": {
    "slideshow": {
     "slide_type": "slide"
    }
   },
   "source": [
    "<center><img src=\"images/DecayLanguage_logo.png\" alt=\"DecayLanguage package logo\" style=\"width: 200px;\"/></center>\n",
    "\n",
    "<h2><center><span style=\"color:green\">Decays and decay chains with the <i>DecayLanguage</i> package</span></center></h2>\n",
    "\n",
    "`DecayLanguage` was designed to support manipulating decay structures in Python. It started with a specific focus, and is slowly generalizing. The current package has:\n",
    "- Amplitude Analysis decay language:\n",
    "  - Input based on AmpGen generator\n",
    "  - Current output formats:\n",
    "    - GooFit C++\n",
    "- Decay file parsers:\n",
    "  - Read DecFiles, such as the LHCb master DecFile\n",
    "  - Manipulate adn visualize them in Python"
   ]
  },
  {
   "cell_type": "markdown",
   "metadata": {
    "slideshow": {
     "slide_type": "slide"
    }
   },
   "source": [
    "### Package motivation\n",
    "\n",
    "- Ability to describe decay-tree-like structures\n",
    "- Provide a translation of decay amplitude models from AmpGen to GooFit\n",
    "  - Idea is to generalise this to other decay descriptions\n",
    "\n",
    " - Any experiment uses event generators which, among many things, need to describe particle decay chains\n",
    " - Programs such as EvtGen rely on so-called .dec decay files\n",
    " - Many experiments need decay data files\n",
    " - Why not make a Python package to deal with decay files, for everyone?"
   ]
  },
  {
   "cell_type": "markdown",
   "metadata": {
    "slideshow": {
     "slide_type": "slide"
    }
   },
   "source": [
    "### Package, in short\n",
    "\n",
    "- Tools to parse decay files and programmatically manipulate them, query, display information.\n",
    "  - Descriptions and parsing built atop the [Lark parser](https://github.com/lark-parser/lark/).\n",
    "- Tools to translate decay amplitude models from AmpGen to GooFit, and manipulate them."
   ]
  },
  {
   "cell_type": "markdown",
   "metadata": {
    "slideshow": {
     "slide_type": "slide"
    }
   },
   "source": [
    "### 1. Decay files\n",
    "\n",
    "#### *Master file” DECAY.DEC\n",
    "\n",
    "<span style=\"color:green\">Gigantic file defining decay modes for all relevant particles, including decay model specifications.</span>\n",
    "\n",
    "#### User .dec files\n",
    "- Needed to produce specific MC samples.\n",
    "- Typically contain a single decay chain (except if defining inclusive samples)."
   ]
  },
  {
   "cell_type": "markdown",
   "metadata": {
    "slideshow": {
     "slide_type": "subslide"
    }
   },
   "source": [
    "**Example user decay file:**\n",
    "\n",
    "<pre>\n",
    "# Decay file for [B_c+ -> (B_s0 -> K+ K-) pi+]cc\n",
    "\n",
    "Alias      B_c+sig        B_c+\n",
    "Alias      B_c-sig        B_c-\n",
    "ChargeConj B_c+sig        B_c-sig\n",
    "Alias      MyB_s0         B_s0\n",
    "Alias      Myanti-B_s0    anti-B_s0\n",
    "ChargeConj MyB_s0         Myanti-B_s0\n",
    "\n",
    "Decay B_c+sig\n",
    "  1.000     MyB_s0     pi+     PHOTOS PHSP;\n",
    "Enddecay\n",
    "CDecay B_c-sig\n",
    "\n",
    "Decay MyB_s0\n",
    "    1.000     K+     K-     SSD_CP 20.e12 0.1 1.0 0.04 9.6 -0.8 8.4 -0.6;\n",
    "Enddecay\n",
    "CDecay Myanti-B_s0\n",
    "</pre>"
   ]
  },
  {
   "cell_type": "markdown",
   "metadata": {
    "slideshow": {
     "slide_type": "slide"
    }
   },
   "source": [
    "### 2. Decay file parsing\n",
    "\n",
    "- **Parsing should be simple**\n",
    "  - Expert users can configure parser choice and settings, etc. \n",
    "- **Parsing should be (reasonably) fast!**\n",
    "\n",
    "After parsing, many queries are possible!"
   ]
  },
  {
   "cell_type": "code",
   "execution_count": null,
   "metadata": {
    "slideshow": {
     "slide_type": "subslide"
    }
   },
   "outputs": [],
   "source": [
    "from decaylanguage import DecFileParser"
   ]
  },
  {
   "cell_type": "markdown",
   "metadata": {},
   "source": [
    "#### The LHCb \"master decay file\"\n",
    "\n",
    "It's a big file! ~ 450 particle decays defined, thousands of decay modes, over 11k lines in total."
   ]
  },
  {
   "cell_type": "code",
   "execution_count": null,
   "metadata": {},
   "outputs": [],
   "source": [
    "dfp = DecFileParser('data/DECAY_LHCB.DEC')"
   ]
  },
  {
   "cell_type": "code",
   "execution_count": null,
   "metadata": {},
   "outputs": [],
   "source": [
    "%%time\n",
    "dfp.parse()"
   ]
  },
  {
   "cell_type": "code",
   "execution_count": null,
   "metadata": {},
   "outputs": [],
   "source": [
    "dfp"
   ]
  },
  {
   "cell_type": "markdown",
   "metadata": {
    "slideshow": {
     "slide_type": "subslide"
    }
   },
   "source": [
    "Let's parse and play with a small decay file:"
   ]
  },
  {
   "cell_type": "code",
   "execution_count": null,
   "metadata": {},
   "outputs": [],
   "source": [
    "with open('data/Dst.dec') as f:\n",
    "    print(f.read())"
   ]
  },
  {
   "cell_type": "code",
   "execution_count": null,
   "metadata": {},
   "outputs": [],
   "source": [
    "dfp_Dst = DecFileParser('data/Dst.dec')\n",
    "dfp_Dst"
   ]
  },
  {
   "cell_type": "code",
   "execution_count": null,
   "metadata": {},
   "outputs": [],
   "source": [
    "dfp_Dst.parse()\n",
    "dfp_Dst"
   ]
  },
  {
   "cell_type": "markdown",
   "metadata": {
    "slideshow": {
     "slide_type": "subslide"
    }
   },
   "source": [
    "It can be handy to **parse from a multi-line string** rather than a file:"
   ]
  },
  {
   "cell_type": "code",
   "execution_count": null,
   "metadata": {},
   "outputs": [],
   "source": [
    "s = \"\"\"\n",
    "# Decay file for [B_c+ -> (B_s0 -> K+ K-) pi+]cc\n",
    "\n",
    "Alias      B_c+sig        B_c+\n",
    "Alias      B_c-sig        B_c-\n",
    "ChargeConj B_c+sig        B_c-sig\n",
    "Alias      MyB_s0         B_s0\n",
    "Alias      Myanti-B_s0    anti-B_s0\n",
    "ChargeConj MyB_s0         Myanti-B_s0\n",
    "\n",
    "Decay B_c+sig\n",
    "  1.000     MyB_s0     pi+     PHOTOS PHSP;\n",
    "Enddecay\n",
    "CDecay B_c-sig\n",
    "\n",
    "Decay MyB_s0\n",
    "    1.000     K+     K-     SSD_CP 20.e12 0.1 1.0 0.04 9.6 -0.8 8.4 -0.6;\n",
    "Enddecay\n",
    "CDecay Myanti-B_s0\n",
    "\"\"\"\n",
    "\n",
    "dfp = DecFileParser.from_string(s)\n",
    "dfp.parse()\n",
    "dfp"
   ]
  },
  {
   "cell_type": "markdown",
   "metadata": {
    "slideshow": {
     "slide_type": "subslide"
    }
   },
   "source": [
    "#### Decay file information"
   ]
  },
  {
   "cell_type": "code",
   "execution_count": null,
   "metadata": {},
   "outputs": [],
   "source": [
    "dfp_Dst.print_decay_modes('D*+')"
   ]
  },
  {
   "cell_type": "code",
   "execution_count": null,
   "metadata": {},
   "outputs": [],
   "source": [
    "dfp_Dst.list_decay_mother_names()"
   ]
  },
  {
   "cell_type": "code",
   "execution_count": null,
   "metadata": {},
   "outputs": [],
   "source": [
    "dfp_Dst.list_decay_modes('D*+')"
   ]
  },
  {
   "cell_type": "markdown",
   "metadata": {},
   "source": [
    "#### Info such as particle aliases"
   ]
  },
  {
   "cell_type": "code",
   "execution_count": null,
   "metadata": {
    "scrolled": false
   },
   "outputs": [],
   "source": [
    "dfp.dict_aliases()"
   ]
  },
  {
   "cell_type": "code",
   "execution_count": null,
   "metadata": {},
   "outputs": [],
   "source": [
    "dfp.dict_charge_conjugates()"
   ]
  },
  {
   "cell_type": "markdown",
   "metadata": {
    "slideshow": {
     "slide_type": "slide"
    }
   },
   "source": [
    "### 3.  Display of decay chains\n",
    "\n",
    "The parser can provide a simple representation of any decay chain found in the input decay file(s)."
   ]
  },
  {
   "cell_type": "code",
   "execution_count": null,
   "metadata": {},
   "outputs": [],
   "source": [
    "dc = dfp_Dst.build_decay_chain('D+')\n",
    "dc"
   ]
  },
  {
   "cell_type": "code",
   "execution_count": null,
   "metadata": {
    "slideshow": {
     "slide_type": "subslide"
    }
   },
   "outputs": [],
   "source": [
    "from decaylanguage import DecayChainViewer"
   ]
  },
  {
   "cell_type": "code",
   "execution_count": null,
   "metadata": {
    "slideshow": {
     "slide_type": "-"
    }
   },
   "outputs": [],
   "source": [
    "DecayChainViewer(dc)"
   ]
  },
  {
   "cell_type": "code",
   "execution_count": null,
   "metadata": {
    "slideshow": {
     "slide_type": "subslide"
    }
   },
   "outputs": [],
   "source": [
    "dc = dfp_Dst.build_decay_chain('D*+')\n",
    "DecayChainViewer(dc)"
   ]
  },
  {
   "cell_type": "code",
   "execution_count": null,
   "metadata": {
    "slideshow": {
     "slide_type": "subslide"
    }
   },
   "outputs": [],
   "source": [
    "dc = dfp_Dst.build_decay_chain('D*+', stable_particles=['D+', 'D0', 'pi0'])\n",
    "DecayChainViewer(dc)"
   ]
  },
  {
   "cell_type": "markdown",
   "metadata": {
    "slideshow": {
     "slide_type": "subslide"
    }
   },
   "source": [
    "#### Charge conjugation:"
   ]
  },
  {
   "cell_type": "code",
   "execution_count": null,
   "metadata": {},
   "outputs": [],
   "source": [
    "dc_cc = dfp_Dst.build_decay_chain('D*-', stable_particles=['D-', 'anti-D0', 'pi0'])\n",
    "DecayChainViewer(dc_cc)"
   ]
  },
  {
   "cell_type": "markdown",
   "metadata": {
    "slideshow": {
     "slide_type": "subslide"
    }
   },
   "source": [
    "#### Parsing several files\n",
    "\n",
    "Typically useful when the user decay file needs information from the master decay file."
   ]
  },
  {
   "cell_type": "code",
   "execution_count": null,
   "metadata": {},
   "outputs": [],
   "source": [
    "s = u\"\"\"\n",
    "Alias      MyXic+              Xi_c+\n",
    "Alias      MyantiXic-          anti-Xi_c-\n",
    "ChargeConj MyXic+              MyantiXic-\n",
    "\n",
    "Decay Xi_cc+sig\n",
    "  1.000       MyXic+    pi-    pi+       PHSP;\n",
    "Enddecay\n",
    "CDecay anti-Xi_cc-sig\n",
    "\n",
    "Decay MyXic+\n",
    "  1.000       p+    K-    pi+       PHSP;\n",
    "Enddecay\n",
    "CDecay MyantiXic-\n",
    "\n",
    "End\n",
    "\"\"\"\n",
    "\n",
    "dfp = DecFileParser.from_string(s)\n",
    "dfp.parse()\n",
    "dfp"
   ]
  },
  {
   "cell_type": "markdown",
   "metadata": {},
   "source": [
    "Note the subtletly: 3, not 4 decays, are found! This is because the file contains no statement\n",
    "`ChargeConj anti-Xi_cc-sigXi_cc+sig`, hence the parser cannot know to which particle (matching `Decay` statement) the charge-conjugate decay of `anti-Xi_cc-sig` relates to (code does not rely on position of statements to guess ;-))."
   ]
  },
  {
   "cell_type": "code",
   "execution_count": null,
   "metadata": {},
   "outputs": [],
   "source": [
    "d = dfp.build_decay_chain('Xi_cc+sig')\n",
    "DecayChainViewer(d)"
   ]
  },
  {
   "cell_type": "markdown",
   "metadata": {},
   "source": [
    "As said in the warning, the information provided is not enough for the anti-Xi_cc-sig to make sense:"
   ]
  },
  {
   "cell_type": "code",
   "execution_count": null,
   "metadata": {},
   "outputs": [],
   "source": [
    "from decaylanguage.dec.dec import DecayNotFound\n",
    "\n",
    "try:\n",
    "    d = dfp.build_decay_chain('anti-Xi_cc-sig')\n",
    "except DecayNotFound:\n",
    "    print(\"Decays of particle 'anti-Xi_cc-sig' not found in .dec file!\")"
   ]
  },
  {
   "cell_type": "markdown",
   "metadata": {},
   "source": [
    "But the missing information is easily providing **parsing two files simultaneously!** (Any number of files is allowed.)"
   ]
  },
  {
   "cell_type": "code",
   "execution_count": null,
   "metadata": {
    "slideshow": {
     "slide_type": "subslide"
    }
   },
   "outputs": [],
   "source": [
    "from tempfile import NamedTemporaryFile\n",
    "\n",
    "with NamedTemporaryFile(delete=False) as tf:\n",
    "    tf.write(s.encode('utf-8'))\n",
    "    \n",
    "dfp = DecFileParser(tf.name, 'data/DECAY_LHCB.DEC')\n",
    "dfp.parse()"
   ]
  },
  {
   "cell_type": "code",
   "execution_count": null,
   "metadata": {
    "slideshow": {
     "slide_type": "subslide"
    }
   },
   "outputs": [],
   "source": [
    "dc = dfp.build_decay_chain('Xi_cc+sig')\n",
    "\n",
    "DecayChainViewer(dc)"
   ]
  },
  {
   "cell_type": "code",
   "execution_count": null,
   "metadata": {
    "slideshow": {
     "slide_type": "subslide"
    }
   },
   "outputs": [],
   "source": [
    "dc_cc = dfp.build_decay_chain('anti-Xi_cc-sig')\n",
    "\n",
    "DecayChainViewer(dc_cc)"
   ]
  },
  {
   "cell_type": "markdown",
   "metadata": {
    "slideshow": {
     "slide_type": "slide"
    }
   },
   "source": [
    "### 4. Representation of decay chains\n",
    "\n",
    "Representation of decay chains is of interest well outside the context of decay file parsing!"
   ]
  },
  {
   "cell_type": "code",
   "execution_count": null,
   "metadata": {},
   "outputs": [],
   "source": [
    "from decaylanguage.decay.decay import DecayMode\n",
    "\n",
    "dm = DecayMode(0.2551,                                              # branching fraction\n",
    "               'pi- pi0 nu_tau',                                    # final-state particles\n",
    "               model='TAUHADNU',                                    # decay model\n",
    "               model_params=[-0.108, 0.775, 0.149, 1.364, 0.400],   # decay-model parameters\n",
    "               study='toy', year=2019                               # user metadata\n",
    "              )\n",
    "dm"
   ]
  },
  {
   "cell_type": "code",
   "execution_count": null,
   "metadata": {
    "slideshow": {
     "slide_type": "subslide"
    }
   },
   "outputs": [],
   "source": [
    "print(dm.describe())"
   ]
  },
  {
   "cell_type": "markdown",
   "metadata": {
    "slideshow": {
     "slide_type": "slide"
    }
   },
   "source": [
    "### Interested ? Want to try it ?\n",
    "\n",
    "#### Particle\n",
    "- GitHub: https://github.com/scikit-hep/particle/\n",
    "- Releases: [PyPI](https://pypi.org/project/Particle/)\n",
    "\n",
    "#### DecayLanguage\n",
    "- GitHub: https://github.com/scikit-hep/decaylanguage\n",
    "- Releases: [PyPI](https://pypi.org/project/decaylanguage/)\n"
   ]
  }
 ],
 "metadata": {
  "celltoolbar": "Slideshow",
  "kernelspec": {
   "display_name": "Python 3",
   "language": "python",
   "name": "python3"
  },
  "language_info": {
   "codemirror_mode": {
    "name": "ipython",
    "version": 3
   },
   "file_extension": ".py",
   "mimetype": "text/x-python",
   "name": "python",
   "nbconvert_exporter": "python",
   "pygments_lexer": "ipython3",
   "version": "3.7.3"
  }
 },
 "nbformat": 4,
 "nbformat_minor": 2
}
