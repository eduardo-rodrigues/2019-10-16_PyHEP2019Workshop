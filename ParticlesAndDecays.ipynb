{
 "cells": [
  {
   "cell_type": "markdown",
   "metadata": {
    "slideshow": {
     "slide_type": "slide"
    }
   },
   "source": [
    "<h1><center><span style=\"color:blue\">Particles and decays<br>in the Scikit-HEP project</span></center></h1>\n",
    "\n",
    "<h2><center>Eduardo Rodrigues<br>University of Cincinnati </center></h2>\n",
    "\n",
    "<h3><center><span style=\"color:gray\">PyHEP 2019 Workshop, Abingdon, 16-18 October 2019</span></center></h3>\n",
    "\n",
    "Notebook: https://github.com/eduardo-rodrigues/2019-10-16_PyHEP2019Workshop"
   ]
  },
  {
   "cell_type": "markdown",
   "metadata": {
    "slideshow": {
     "slide_type": "slide"
    }
   },
   "source": [
    "<center><img src=\"images/Particle_logo.png\" alt=\"Particle package logo\" style=\"width: 200px;\"/></center>\n",
    "\n",
    "<h2><center><span style=\"color:green\">PDG particle data and MC identification codes<br>with the <i>Particle</i> package</span></center></h2>\n",
    "\n",
    "### **Pythonic interface to**\n",
    "- Particle Data Group (PDG) particle data table.\n",
    "- Particle MC identification codes, with inter-MC converters.\n",
    "- With various extra goodies."
   ]
  },
  {
   "cell_type": "markdown",
   "metadata": {
    "slideshow": {
     "slide_type": "slide"
    }
   },
   "source": [
    "### Package motivation - particle data\n",
    "\n",
    "- The [PDG](http://pdg.lbl.gov/) provides a <span style=\"color:green\">downloadable table of particle masses, widths, charges and Monte Carlo particle ID numbers</span> (PDG IDs).\n",
    "  - Most recent file [here](http://pdg.lbl.gov/2019/html/computer_read.html).\n",
    "- It <span style=\"color:green\">also provided an experimental file with extended information</span>\n",
    "(spin, quark content, P and C parities, etc.) until 2008 only, see [here](http://pdg.lbl.gov/2008/html/computer_read.html) (not widely known!).\n",
    "\n",
    "- But <span style=\"color:green\">*anyone* wanting to use these data</span>, the only readily available,\n",
    "<span style=\"color:green\">has to parse the file programmatically</span>.\n",
    "- Why not make a Python package to deal with all these data, for everyone?"
   ]
  },
  {
   "cell_type": "markdown",
   "metadata": {
    "slideshow": {
     "slide_type": "subslide"
    }
   },
   "source": [
    "### Package motivation - MC identification codes\n",
    "\n",
    "- The <span style=\"color:green\">C++ HepPID and HepPDT libraries provide functions for processing particle ID codes</apan>\n",
    "in the standard particle (aka PDG) numbering scheme.\n",
    "- Different event generators have their separate set of particle IDs: Pythia, EvtGen, etc.\n",
    "- Again, why not make a package providing all functionality/conversions, Python-ically, for everyone?"
   ]
  },
  {
   "cell_type": "markdown",
   "metadata": {
    "slideshow": {
     "slide_type": "slide"
    }
   },
   "source": [
    "### Package, in short\n",
    "\n",
    "- <span style=\"color:green\">Particle</span> - loads extended **PDG data tables** and implements search and manipulations / display.\n",
    "- <span style=\"color:green\">PDGID</span> - find out as much as possible from the PDG ID number. **No table lookup**.\n",
    "- <span style=\"color:green\">Converters for MC IDs</span> used in Pythia and Geant.\n",
    "\n",
    "\n",
    "- Basic usage via the command line.\n",
    "- Fexible / advanced usage programmatically."
   ]
  },
  {
   "cell_type": "markdown",
   "metadata": {
    "slideshow": {
     "slide_type": "slide"
    }
   },
   "source": [
    "### 1. Command line usage\n",
    "\n",
    "Search and query ..."
   ]
  },
  {
   "cell_type": "code",
   "execution_count": 1,
   "metadata": {
    "scrolled": true
   },
   "outputs": [
    {
     "name": "stdout",
     "output_type": "stream",
     "text": [
      "particle 0.6.2\n"
     ]
    }
   ],
   "source": [
    "!python -m particle --version"
   ]
  },
  {
   "cell_type": "code",
   "execution_count": 3,
   "metadata": {
    "slideshow": {
     "slide_type": "subslide"
    }
   },
   "outputs": [
    {
     "name": "stdout",
     "output_type": "stream",
     "text": [
      "usage: particle [-h] [--version] {search,pdgid} ...\n",
      "\n",
      "Particle command line display utility. Has two modes.\n",
      "\n",
      "positional arguments:\n",
      "  {search,pdgid}  Subcommands\n",
      "    search        Look up particles by PID or name (Ex.: python -m particle\n",
      "                  search D+ D-)\n",
      "    pdgid         Print info from PID (Ex.: python -m particle pdgid 11 13)\n",
      "\n",
      "optional arguments:\n",
      "  -h, --help      show this help message and exit\n",
      "  --version       show program's version number and exit\n"
     ]
    }
   ],
   "source": [
    "!python -m particle -h"
   ]
  },
  {
   "cell_type": "markdown",
   "metadata": {
    "slideshow": {
     "slide_type": "subslide"
    }
   },
   "source": [
    "#### PDGID"
   ]
  },
  {
   "cell_type": "markdown",
   "metadata": {},
   "source": [
    "Print all information from a PDG ID:"
   ]
  },
  {
   "cell_type": "code",
   "execution_count": 4,
   "metadata": {
    "scrolled": true
   },
   "outputs": [
    {
     "name": "stdout",
     "output_type": "stream",
     "text": [
      "<PDGID: 211>\n",
      "A              None\n",
      "C              None\n",
      "J              0.0\n",
      "L              0\n",
      "P              -1\n",
      "S              0\n",
      "Z              None\n",
      "abspid         211\n",
      "charge         1.0\n",
      "has_bottom     False\n",
      "has_charm      False\n",
      "has_down       True\n",
      "has_fundamental_anti False\n",
      "has_strange    False\n",
      "has_top        False\n",
      "has_up         True\n",
      "is_Qball       False\n",
      "is_Rhadron     False\n",
      "is_SUSY        False\n",
      "is_baryon      False\n",
      "is_diquark     False\n",
      "is_dyon        False\n",
      "is_hadron      True\n",
      "is_lepton      False\n",
      "is_meson       True\n",
      "is_nucleus     False\n",
      "is_pentaquark  False\n",
      "is_valid       True\n",
      "j_spin         1\n",
      "l_spin         1\n",
      "s_spin         1\n",
      "three_charge   3\n",
      "\n"
     ]
    }
   ],
   "source": [
    "!python -m particle pdgid 211"
   ]
  },
  {
   "cell_type": "markdown",
   "metadata": {
    "slideshow": {
     "slide_type": "subslide"
    }
   },
   "source": [
    "#### Particle"
   ]
  },
  {
   "cell_type": "markdown",
   "metadata": {},
   "source": [
    "Search a particle by its PDG ID - return description summary of particle:"
   ]
  },
  {
   "cell_type": "code",
   "execution_count": 5,
   "metadata": {},
   "outputs": [
    {
     "name": "stdout",
     "output_type": "stream",
     "text": [
      "Name: pi+            ID: 211          Latex: $\\pi^{+}$\n",
      "Mass  = 139.57061 ± 0.00024 MeV\n",
      "Lifetime = 26.033 ± 0.005 ns\n",
      "Q (charge)        = +       J (total angular) = 0.0      P (space parity) = -\n",
      "C (charge parity) = ?       I (isospin)       = 1        G (G-parity)     = -\n",
      "    SpinType: SpinType.PseudoScalar\n",
      "    Quarks: uD\n",
      "    Antiparticle name: pi- (antiparticle status: ChargeInv)\n",
      "\n"
     ]
    }
   ],
   "source": [
    "!python -m particle search 211"
   ]
  },
  {
   "cell_type": "markdown",
   "metadata": {
    "slideshow": {
     "slide_type": "subslide"
    }
   },
   "source": [
    "Search a particle by its name - either return the description summary of matching particle ..."
   ]
  },
  {
   "cell_type": "code",
   "execution_count": 6,
   "metadata": {},
   "outputs": [
    {
     "name": "stdout",
     "output_type": "stream",
     "text": [
      "Name: pi(1)(1400)+   ID: 9000213      Latex: $\\pi_{1}(1400)^{+}$\n",
      "Mass  = 1354 ± 25 MeV\n",
      "Width = 330 ± 35 MeV\n",
      "Q (charge)        = +       J (total angular) = 1.0      P (space parity) = -\n",
      "C (charge parity) = ?       I (isospin)       = 1        G (G-parity)     = -\n",
      "    SpinType: SpinType.Vector\n",
      "    Quarks: Maybe non-qQ\n",
      "    Antiparticle name: pi(1)(1400)- (antiparticle status: ChargeInv)\n",
      "\n"
     ]
    }
   ],
   "source": [
    "!python -m particle search \"pi(1400)+\""
   ]
  },
  {
   "cell_type": "markdown",
   "metadata": {
    "slideshow": {
     "slide_type": "subslide"
    }
   },
   "source": [
    "... or a list of particles matching the keyword in their names:"
   ]
  },
  {
   "cell_type": "code",
   "execution_count": 7,
   "metadata": {},
   "outputs": [
    {
     "name": "stdout",
     "output_type": "stream",
     "text": [
      "<Particle: name=\"pi+\", pdgid=211, mass=139.57061 ± 0.00024 MeV>\n",
      "<Particle: name=\"pi(2)(1670)+\", pdgid=10215, mass=1670.6 + 2.9 - 1.2 MeV>\n",
      "<Particle: name=\"pi(1300)+\", pdgid=100211, mass=1300 ± 100 MeV>\n",
      "<Particle: name=\"pi(1)(1400)+\", pdgid=9000213, mass=1354 ± 25 MeV>\n",
      "<Particle: name=\"pi(1800)+\", pdgid=9010211, mass=1810 + 9 - 11 MeV>\n",
      "<Particle: name=\"pi(1)(1600)+\", pdgid=9010213, mass=1660 + 15 - 11 MeV>\n",
      "\n"
     ]
    }
   ],
   "source": [
    "!python -m particle search \"pi+\""
   ]
  },
  {
   "cell_type": "markdown",
   "metadata": {
    "slideshow": {
     "slide_type": "subslide"
    }
   },
   "source": [
    "#### Bonus feature: zipapp\n",
    "\n",
    "Package provides a [zipapp](https://docs.python.org/3/library/zipapp.html) version - **one file** that runs on **any computer with Python**, no other dependencies! Find it [attached to releases](https://github.com/scikit-hep/particle/releases)."
   ]
  },
  {
   "cell_type": "markdown",
   "metadata": {},
   "source": [
    "Example:\n",
    "\n",
    "```bash\n",
    "./particle.pyz search gamma\n",
    "```"
   ]
  },
  {
   "cell_type": "markdown",
   "metadata": {},
   "source": [
    "All dependencies are installed inside the zipapp, and the data lookup is handled in a zip-safe way inside particle. Python 3 is used to make the zipapp, but including the backports makes it work on Python 2 as well."
   ]
  },
  {
   "cell_type": "markdown",
   "metadata": {
    "slideshow": {
     "slide_type": "slide"
    }
   },
   "source": [
    "### 2. `PDGID` class and MC ID classes\n",
    "\n",
    "\n",
    "- Classes `PDGID`, `PythiaID`, `GeantID`.\n",
    "- Converters in module `particle.converters`: `Geant2PDGIDBiMap`, etc."
   ]
  },
  {
   "cell_type": "markdown",
   "metadata": {
    "slideshow": {
     "slide_type": "subslide"
    }
   },
   "source": [
    "#### PDG IDs module overview\n",
    "\n",
    "- <span style=\"color:green\">Process and query PDG IDs</span>, and more – no look-up table needed.\n",
    "  - Current version of package reflects the latest version of the\n",
    "    <span style=\"color:green\">HepPID & HepPDT utility functions</span> defined in the C++ HepPID and HepPDT versions 3.04.01\n",
    "  - It contains more functionality than that available in the C++ code … and minor fixes too.\n",
    "- Definition of a <span style=\"color:green\">PDGID class, PDG ID literals</span>,\n",
    "and set of standalone HepPID <span style=\"color:green\">functions to query PDG IDs</span>\n",
    "(is_meson, has_bottom, j_spin, charge, etc.).\n",
    "   - All PDGID class functions are available standalone."
   ]
  },
  {
   "cell_type": "markdown",
   "metadata": {
    "slideshow": {
     "slide_type": "subslide"
    }
   },
   "source": [
    "#### PDGID class\n",
    "- Wrapper class `PDGID` for PDG IDs.\n",
    "- Behaves like an int, with extra goodies.\n",
    "- Large spectrum of properties and methods, with a Pythonic interface, and yet more!"
   ]
  },
  {
   "cell_type": "code",
   "execution_count": 8,
   "metadata": {
    "slideshow": {
     "slide_type": "subslide"
    }
   },
   "outputs": [],
   "source": [
    "from particle import PDGID"
   ]
  },
  {
   "cell_type": "code",
   "execution_count": 9,
   "metadata": {},
   "outputs": [
    {
     "data": {
      "text/plain": [
       "<PDGID: 211>"
      ]
     },
     "execution_count": 9,
     "metadata": {},
     "output_type": "execute_result"
    }
   ],
   "source": [
    "pid = PDGID(211)\n",
    "pid"
   ]
  },
  {
   "cell_type": "code",
   "execution_count": 10,
   "metadata": {},
   "outputs": [
    {
     "data": {
      "text/plain": [
       "<PDGID: 99999999 (is_valid==False)>"
      ]
     },
     "execution_count": 10,
     "metadata": {},
     "output_type": "execute_result"
    }
   ],
   "source": [
    "PDGID(99999999)"
   ]
  },
  {
   "cell_type": "code",
   "execution_count": 11,
   "metadata": {
    "slideshow": {
     "slide_type": "subslide"
    }
   },
   "outputs": [
    {
     "data": {
      "text/plain": [
       "(True, True)"
      ]
     },
     "execution_count": 11,
     "metadata": {},
     "output_type": "execute_result"
    }
   ],
   "source": [
    "from particle.pdgid import is_meson\n",
    "\n",
    "pid.is_meson, is_meson(pid)"
   ]
  },
  {
   "cell_type": "markdown",
   "metadata": {
    "slideshow": {
     "slide_type": "subslide"
    }
   },
   "source": [
    "To print all `PDGID` properties:"
   ]
  },
  {
   "cell_type": "code",
   "execution_count": 12,
   "metadata": {},
   "outputs": [
    {
     "name": "stdout",
     "output_type": "stream",
     "text": [
      "A              None\n",
      "C              None\n",
      "J              0.0\n",
      "L              0\n",
      "P              -1\n",
      "S              0\n",
      "Z              None\n",
      "abspid         211\n",
      "charge         1.0\n",
      "has_bottom     False\n",
      "has_charm      False\n",
      "has_down       True\n",
      "has_fundamental_anti False\n",
      "has_strange    False\n",
      "has_top        False\n",
      "has_up         True\n",
      "is_Qball       False\n",
      "is_Rhadron     False\n",
      "is_SUSY        False\n",
      "is_baryon      False\n",
      "is_diquark     False\n",
      "is_dyon        False\n",
      "is_hadron      True\n",
      "is_lepton      False\n",
      "is_meson       True\n",
      "is_nucleus     False\n",
      "is_pentaquark  False\n",
      "is_valid       True\n",
      "j_spin         1\n",
      "l_spin         1\n",
      "s_spin         1\n",
      "three_charge   3\n",
      "\n"
     ]
    }
   ],
   "source": [
    "print(pid.info())"
   ]
  },
  {
   "cell_type": "markdown",
   "metadata": {
    "slideshow": {
     "slide_type": "subslide"
    }
   },
   "source": [
    "#### MC ID classes and converters\n",
    "\n",
    "- <span style=\"color:green\">Classes for MC IDs</span> used in Pythia and Geant: `PythiaID` and `GeantID`.\n",
    "- <span style=\"color:green\">ID converters</span> in module `particle.converters`: `Geant2PDGIDBiMap`, etc."
   ]
  },
  {
   "cell_type": "code",
   "execution_count": 14,
   "metadata": {},
   "outputs": [
    {
     "data": {
      "text/plain": [
       "<PDGID: 9010221>"
      ]
     },
     "execution_count": 14,
     "metadata": {},
     "output_type": "execute_result"
    }
   ],
   "source": [
    "from particle import PythiaID, GeantID\n",
    "\n",
    "pyid = PythiaID(10221)\n",
    "\n",
    "pyid.to_pdgid()"
   ]
  },
  {
   "cell_type": "markdown",
   "metadata": {
    "slideshow": {
     "slide_type": "subslide"
    }
   },
   "source": [
    "Conversions are directly available via mapping classes.\n",
    "\n",
    "E.g., bi-directional map Pythia ID - PDG ID:"
   ]
  },
  {
   "cell_type": "code",
   "execution_count": 15,
   "metadata": {},
   "outputs": [
    {
     "data": {
      "text/plain": [
       "<PythiaID: 10221>"
      ]
     },
     "execution_count": 15,
     "metadata": {},
     "output_type": "execute_result"
    }
   ],
   "source": [
    "from particle.converters import Pythia2PDGIDBiMap\n",
    "\n",
    "Pythia2PDGIDBiMap[PDGID(9010221)]"
   ]
  },
  {
   "cell_type": "code",
   "execution_count": 16,
   "metadata": {},
   "outputs": [
    {
     "data": {
      "text/plain": [
       "<PDGID: 9010221>"
      ]
     },
     "execution_count": 16,
     "metadata": {},
     "output_type": "execute_result"
    }
   ],
   "source": [
    "Pythia2PDGIDBiMap[PythiaID(10221)]"
   ]
  },
  {
   "cell_type": "markdown",
   "metadata": {
    "slideshow": {
     "slide_type": "slide"
    }
   },
   "source": [
    "### 3. `Particle` class\n",
    "\n",
    "There are lots of ways to create a particle."
   ]
  },
  {
   "cell_type": "code",
   "execution_count": 20,
   "metadata": {},
   "outputs": [],
   "source": [
    "from particle import Particle"
   ]
  },
  {
   "cell_type": "markdown",
   "metadata": {
    "slideshow": {
     "slide_type": "subslide"
    }
   },
   "source": [
    "#### From a PDG ID"
   ]
  },
  {
   "cell_type": "code",
   "execution_count": 18,
   "metadata": {},
   "outputs": [
    {
     "data": {
      "text/latex": [
       "$\\pi^{+}$"
      ],
      "text/plain": [
       "<Particle: name=\"pi+\", pdgid=211, mass=139.57061 ± 0.00024 MeV>"
      ]
     },
     "execution_count": 18,
     "metadata": {},
     "output_type": "execute_result"
    }
   ],
   "source": [
    "Particle.from_pdgid(211)"
   ]
  },
  {
   "cell_type": "markdown",
   "metadata": {
    "slideshow": {
     "slide_type": "subslide"
    }
   },
   "source": [
    "#### From a name"
   ]
  },
  {
   "cell_type": "code",
   "execution_count": 21,
   "metadata": {},
   "outputs": [
    {
     "data": {
      "text/latex": [
       "$\\pi^{+}$"
      ],
      "text/plain": [
       "<Particle: name=\"pi+\", pdgid=211, mass=139.57061 ± 0.00024 MeV>"
      ]
     },
     "execution_count": 21,
     "metadata": {},
     "output_type": "execute_result"
    }
   ],
   "source": [
    "Particle.from_string('pi+')"
   ]
  },
  {
   "cell_type": "markdown",
   "metadata": {
    "slideshow": {
     "slide_type": "subslide"
    }
   },
   "source": [
    "#### Searching\n",
    "\n",
    "<span style=\"color:green\">Simple and natural API</span> to deal with the PDG particle data table,<br>with <span style=\"color:green\">powerful 1-line search and look-up utilities!</span>\n",
    "\n",
    "- `Particle.find(…)` – search a single match (exception raised if multiple particles match the search specifications).\n",
    "- `Particle.findall(…)` – search a list of candidates.\n",
    "\n",
    "- Search methods that can query any particle property!"
   ]
  },
  {
   "cell_type": "code",
   "execution_count": 22,
   "metadata": {
    "slideshow": {
     "slide_type": "subslide"
    }
   },
   "outputs": [
    {
     "data": {
      "text/latex": [
       "$J/\\psi(1S)$"
      ],
      "text/plain": [
       "<Particle: name=\"J/psi(1S)\", pdgid=443, mass=3096.900 ± 0.006 MeV>"
      ]
     },
     "execution_count": 22,
     "metadata": {},
     "output_type": "execute_result"
    }
   ],
   "source": [
    "Particle.find('J/psi')"
   ]
  },
  {
   "cell_type": "markdown",
   "metadata": {
    "slideshow": {
     "slide_type": "subslide"
    }
   },
   "source": [
    "You can specify search terms as keywords - _any particle property_:"
   ]
  },
  {
   "cell_type": "code",
   "execution_count": 23,
   "metadata": {},
   "outputs": [
    {
     "data": {
      "text/latex": [
       "$\\phi(1020)$"
      ],
      "text/plain": [
       "<Particle: name=\"phi(1020)\", pdgid=333, mass=1019.461 ± 0.016 MeV>"
      ]
     },
     "execution_count": 23,
     "metadata": {},
     "output_type": "execute_result"
    }
   ],
   "source": [
    "Particle.find(latex_name=r'\\phi(1020)')"
   ]
  },
  {
   "cell_type": "markdown",
   "metadata": {
    "slideshow": {
     "slide_type": "subslide"
    }
   },
   "source": [
    "Some properties have enums available. For example, you can directly check the numeric charge:"
   ]
  },
  {
   "cell_type": "code",
   "execution_count": 24,
   "metadata": {},
   "outputs": [
    {
     "data": {
      "text/plain": [
       "[<Particle: name=\"pi-\", pdgid=-211, mass=139.57061 ± 0.00024 MeV>,\n",
       " <Particle: name=\"pi(2)(1670)-\", pdgid=-10215, mass=1670.6 + 2.9 - 1.2 MeV>,\n",
       " <Particle: name=\"pi(1300)-\", pdgid=-100211, mass=1300 ± 100 MeV>,\n",
       " <Particle: name=\"pi(1)(1400)-\", pdgid=-9000213, mass=1354 ± 25 MeV>,\n",
       " <Particle: name=\"pi(1800)-\", pdgid=-9010211, mass=1810 + 9 - 11 MeV>,\n",
       " <Particle: name=\"pi(1)(1600)-\", pdgid=-9010213, mass=1660 + 15 - 11 MeV>]"
      ]
     },
     "execution_count": 24,
     "metadata": {},
     "output_type": "execute_result"
    }
   ],
   "source": [
    "Particle.findall('pi', charge=-1)"
   ]
  },
  {
   "cell_type": "markdown",
   "metadata": {
    "slideshow": {
     "slide_type": "subslide"
    }
   },
   "source": [
    "Or you can use the enum (for charge, this is 3 times the charge, hence the name `three_charge`)"
   ]
  },
  {
   "cell_type": "code",
   "execution_count": 25,
   "metadata": {},
   "outputs": [
    {
     "data": {
      "text/plain": [
       "[<Particle: name=\"pi+\", pdgid=211, mass=139.57061 ± 0.00024 MeV>,\n",
       " <Particle: name=\"pi(2)(1670)+\", pdgid=10215, mass=1670.6 + 2.9 - 1.2 MeV>,\n",
       " <Particle: name=\"pi(1300)+\", pdgid=100211, mass=1300 ± 100 MeV>,\n",
       " <Particle: name=\"pi(1)(1400)+\", pdgid=9000213, mass=1354 ± 25 MeV>,\n",
       " <Particle: name=\"pi(1800)+\", pdgid=9010211, mass=1810 + 9 - 11 MeV>,\n",
       " <Particle: name=\"pi(1)(1600)+\", pdgid=9010213, mass=1660 + 15 - 11 MeV>]"
      ]
     },
     "execution_count": 25,
     "metadata": {},
     "output_type": "execute_result"
    }
   ],
   "source": [
    "from particle import Charge\n",
    "\n",
    "Particle.findall('pi', three_charge=Charge.p)"
   ]
  },
  {
   "cell_type": "markdown",
   "metadata": {
    "slideshow": {
     "slide_type": "subslide"
    }
   },
   "source": [
    "Or use a **lambda function** for the ultimate in generality! For example, to find all the neutral particles with a bottom quark between 5.2 and 5.3 GeV:"
   ]
  },
  {
   "cell_type": "code",
   "execution_count": 26,
   "metadata": {},
   "outputs": [],
   "source": [
    "from hepunits import GeV, s  # Units are good. Use them."
   ]
  },
  {
   "cell_type": "code",
   "execution_count": 27,
   "metadata": {},
   "outputs": [
    {
     "data": {
      "text/plain": [
       "[<Particle: name=\"B0\", pdgid=511, mass=5279.64 ± 0.13 MeV>,\n",
       " <Particle: name=\"B~0\", pdgid=-511, mass=5279.64 ± 0.13 MeV>]"
      ]
     },
     "execution_count": 27,
     "metadata": {},
     "output_type": "execute_result"
    }
   ],
   "source": [
    "Particle.findall(lambda p:\n",
    "                     p.pdgid.has_bottom\n",
    "                     and p.charge==0\n",
    "                     and 5.2*GeV < p.mass < 5.3*GeV\n",
    "                )"
   ]
  },
  {
   "cell_type": "markdown",
   "metadata": {
    "slideshow": {
     "slide_type": "subslide"
    }
   },
   "source": [
    "Another lambda function example: You can use the width or the lifetime:"
   ]
  },
  {
   "cell_type": "code",
   "execution_count": 28,
   "metadata": {
    "slideshow": {
     "slide_type": "-"
    }
   },
   "outputs": [
    {
     "data": {
      "text/plain": [
       "[<Particle: name=\"e-\", pdgid=11, mass=0.510998946 ± 0.000000003 MeV>,\n",
       " <Particle: name=\"e+\", pdgid=-11, mass=0.510998946 ± 0.000000003 MeV>,\n",
       " <Particle: name=\"nu(e)\", pdgid=12, mass=0.0 MeV>,\n",
       " <Particle: name=\"nu(e)~\", pdgid=-12, mass=0.0 MeV>,\n",
       " <Particle: name=\"nu(mu)\", pdgid=14, mass=0.0 MeV>,\n",
       " <Particle: name=\"nu(mu)~\", pdgid=-14, mass=0.0 MeV>,\n",
       " <Particle: name=\"nu(tau)\", pdgid=16, mass=0.0 MeV>,\n",
       " <Particle: name=\"nu(tau)~\", pdgid=-16, mass=0.0 MeV>,\n",
       " <Particle: name=\"g\", pdgid=21, mass=0.0 MeV>,\n",
       " <Particle: name=\"gamma\", pdgid=22, mass=0.0 MeV>,\n",
       " <Particle: name=\"H0\", pdgid=25, mass=125100 ± 140 MeV>,\n",
       " <Particle: name=\"B*+\", pdgid=523, mass=5324.70 ± 0.22 MeV>,\n",
       " <Particle: name=\"B*-\", pdgid=-523, mass=5324.70 ± 0.22 MeV>,\n",
       " <Particle: name=\"p\", pdgid=2212, mass=938.272081 ± 0.000006 MeV>,\n",
       " <Particle: name=\"p~\", pdgid=-2212, mass=938.272081 ± 0.000006 MeV>,\n",
       " <Particle: name=\"h(b)(1P)\", pdgid=10553, mass=9899.3 ± 0.8 MeV>,\n",
       " <Particle: name=\"Upsilon(2)(1D)\", pdgid=20555, mass=10163.7 ± 1.4 MeV>,\n",
       " <Particle: name=\"Lambda(c)(2625)+\", pdgid=104122, mass=2628.11 ± 0.19 MeV>,\n",
       " <Particle: name=\"Lambda(c)(2625)~-\", pdgid=-104122, mass=2628.11 ± 0.19 MeV>,\n",
       " <Particle: name=\"Xi(1690)-\", pdgid=203312, mass=1690 ± 10 MeV>,\n",
       " <Particle: name=\"Xi(1690)~+\", pdgid=-203312, mass=1690 ± 10 MeV>,\n",
       " <Particle: name=\"Xi(1690)0\", pdgid=203322, mass=1690 ± 10 MeV>,\n",
       " <Particle: name=\"Xi(1690)~0\", pdgid=-203322, mass=1690 ± 10 MeV>]"
      ]
     },
     "execution_count": 28,
     "metadata": {},
     "output_type": "execute_result"
    }
   ],
   "source": [
    "Particle.findall(lambda p: p.lifetime > 1000*s)"
   ]
  },
  {
   "cell_type": "markdown",
   "metadata": {
    "slideshow": {
     "slide_type": "subslide"
    }
   },
   "source": [
    "If you want infinite lifetime, you could just use the keyword search instead:"
   ]
  },
  {
   "cell_type": "code",
   "execution_count": 29,
   "metadata": {},
   "outputs": [
    {
     "data": {
      "text/plain": [
       "[<Particle: name=\"e-\", pdgid=11, mass=0.510998946 ± 0.000000003 MeV>,\n",
       " <Particle: name=\"e+\", pdgid=-11, mass=0.510998946 ± 0.000000003 MeV>,\n",
       " <Particle: name=\"nu(e)\", pdgid=12, mass=0.0 MeV>,\n",
       " <Particle: name=\"nu(e)~\", pdgid=-12, mass=0.0 MeV>,\n",
       " <Particle: name=\"nu(mu)\", pdgid=14, mass=0.0 MeV>,\n",
       " <Particle: name=\"nu(mu)~\", pdgid=-14, mass=0.0 MeV>,\n",
       " <Particle: name=\"nu(tau)\", pdgid=16, mass=0.0 MeV>,\n",
       " <Particle: name=\"nu(tau)~\", pdgid=-16, mass=0.0 MeV>,\n",
       " <Particle: name=\"g\", pdgid=21, mass=0.0 MeV>,\n",
       " <Particle: name=\"gamma\", pdgid=22, mass=0.0 MeV>,\n",
       " <Particle: name=\"H0\", pdgid=25, mass=125100 ± 140 MeV>,\n",
       " <Particle: name=\"B*+\", pdgid=523, mass=5324.70 ± 0.22 MeV>,\n",
       " <Particle: name=\"B*-\", pdgid=-523, mass=5324.70 ± 0.22 MeV>,\n",
       " <Particle: name=\"p\", pdgid=2212, mass=938.272081 ± 0.000006 MeV>,\n",
       " <Particle: name=\"p~\", pdgid=-2212, mass=938.272081 ± 0.000006 MeV>,\n",
       " <Particle: name=\"h(b)(1P)\", pdgid=10553, mass=9899.3 ± 0.8 MeV>,\n",
       " <Particle: name=\"Upsilon(2)(1D)\", pdgid=20555, mass=10163.7 ± 1.4 MeV>,\n",
       " <Particle: name=\"Lambda(c)(2625)+\", pdgid=104122, mass=2628.11 ± 0.19 MeV>,\n",
       " <Particle: name=\"Lambda(c)(2625)~-\", pdgid=-104122, mass=2628.11 ± 0.19 MeV>,\n",
       " <Particle: name=\"Xi(1690)-\", pdgid=203312, mass=1690 ± 10 MeV>,\n",
       " <Particle: name=\"Xi(1690)~+\", pdgid=-203312, mass=1690 ± 10 MeV>,\n",
       " <Particle: name=\"Xi(1690)0\", pdgid=203322, mass=1690 ± 10 MeV>,\n",
       " <Particle: name=\"Xi(1690)~0\", pdgid=-203322, mass=1690 ± 10 MeV>]"
      ]
     },
     "execution_count": 29,
     "metadata": {},
     "output_type": "execute_result"
    }
   ],
   "source": [
    "Particle.findall(lifetime=float('inf'))"
   ]
  },
  {
   "cell_type": "markdown",
   "metadata": {
    "slideshow": {
     "slide_type": "subslide"
    }
   },
   "source": [
    "Trivially find all pseudoscalar charm mesons:"
   ]
  },
  {
   "cell_type": "code",
   "execution_count": 30,
   "metadata": {},
   "outputs": [
    {
     "data": {
      "text/plain": [
       "[<Particle: name=\"D+\", pdgid=411, mass=1869.65 ± 0.05 MeV>,\n",
       " <Particle: name=\"D-\", pdgid=-411, mass=1869.65 ± 0.05 MeV>,\n",
       " <Particle: name=\"D0\", pdgid=421, mass=1864.83 ± 0.05 MeV>,\n",
       " <Particle: name=\"D~0\", pdgid=-421, mass=1864.83 ± 0.05 MeV>,\n",
       " <Particle: name=\"D(s)+\", pdgid=431, mass=1968.34 ± 0.07 MeV>,\n",
       " <Particle: name=\"D(s)-\", pdgid=-431, mass=1968.34 ± 0.07 MeV>,\n",
       " <Particle: name=\"eta(c)(1S)\", pdgid=441, mass=2983.9 ± 0.5 MeV>,\n",
       " <Particle: name=\"B(c)+\", pdgid=541, mass=6274.9 ± 0.8 MeV>,\n",
       " <Particle: name=\"B(c)-\", pdgid=-541, mass=6274.9 ± 0.8 MeV>,\n",
       " <Particle: name=\"eta(c)(2S)\", pdgid=100441, mass=3637.5 ± 1.1 MeV>]"
      ]
     },
     "execution_count": 30,
     "metadata": {},
     "output_type": "execute_result"
    }
   ],
   "source": [
    "from particle import SpinType\n",
    "\n",
    "Particle.findall(lambda p: p.pdgid.is_meson and p.pdgid.has_charm and p.spin_type==SpinType.PseudoScalar)"
   ]
  },
  {
   "cell_type": "markdown",
   "metadata": {
    "slideshow": {
     "slide_type": "subslide"
    }
   },
   "source": [
    "#### Display"
   ]
  },
  {
   "cell_type": "markdown",
   "metadata": {},
   "source": [
    "Nice display in Jupyter notebooks, as well as `str` and `repr` support:"
   ]
  },
  {
   "cell_type": "code",
   "execution_count": 31,
   "metadata": {},
   "outputs": [
    {
     "data": {
      "text/latex": [
       "$D_{2}^{*}(2460)^{-}$"
      ],
      "text/plain": [
       "<Particle: name=\"D(2)*(2460)-\", pdgid=-415, mass=2465.4 ± 1.3 MeV>"
      ]
     },
     "execution_count": 31,
     "metadata": {},
     "output_type": "execute_result"
    }
   ],
   "source": [
    "p = Particle.from_pdgid(-415)\n",
    "p"
   ]
  },
  {
   "cell_type": "code",
   "execution_count": 32,
   "metadata": {
    "slideshow": {
     "slide_type": "subslide"
    }
   },
   "outputs": [
    {
     "name": "stdout",
     "output_type": "stream",
     "text": [
      "D(2)*(2460)-\n"
     ]
    }
   ],
   "source": [
    "print(p)"
   ]
  },
  {
   "cell_type": "code",
   "execution_count": 33,
   "metadata": {},
   "outputs": [
    {
     "name": "stdout",
     "output_type": "stream",
     "text": [
      "<Particle: name=\"D(2)*(2460)-\", pdgid=-415, mass=2465.4 ± 1.3 MeV>\n"
     ]
    }
   ],
   "source": [
    "print(repr(p))"
   ]
  },
  {
   "cell_type": "markdown",
   "metadata": {
    "slideshow": {
     "slide_type": "subslide"
    }
   },
   "source": [
    "Full descriptions:"
   ]
  },
  {
   "cell_type": "code",
   "execution_count": 34,
   "metadata": {},
   "outputs": [
    {
     "name": "stdout",
     "output_type": "stream",
     "text": [
      "Name: D(2)*(2460)-   ID: -415         Latex: $D_{2}^{*}(2460)^{-}$\n",
      "Mass  = 2465.4 ± 1.3 MeV\n",
      "Width = 46.7 ± 1.2 MeV\n",
      "Q (charge)        = -       J (total angular) = 2.0      P (space parity) = +\n",
      "C (charge parity) = ?       I (isospin)       = 1/2      G (G-parity)     = ?\n",
      "    SpinType: SpinType.Tensor\n",
      "    Quarks: Cd\n",
      "    Antiparticle name: D(2)*(2460)+ (antiparticle status: ChargeInv)\n"
     ]
    }
   ],
   "source": [
    "print(p.describe())"
   ]
  },
  {
   "cell_type": "markdown",
   "metadata": {
    "slideshow": {
     "slide_type": "subslide"
    }
   },
   "source": [
    "You may find LaTeX or HTML to be more useful in your program; both are supported:"
   ]
  },
  {
   "cell_type": "code",
   "execution_count": 35,
   "metadata": {},
   "outputs": [
    {
     "name": "stdout",
     "output_type": "stream",
     "text": [
      "D_{2}^{*}(2460)^{-} \n",
      " D<SUB>2</SUB><SUP>*</SUP>(2460)<SUP>-</SUP>\n"
     ]
    }
   ],
   "source": [
    "print(p.latex_name, '\\n', p.html_name)"
   ]
  },
  {
   "cell_type": "markdown",
   "metadata": {
    "slideshow": {
     "slide_type": "subslide"
    }
   },
   "source": [
    "It is easy to get hold of the whole list of particle (instances) as a list:"
   ]
  },
  {
   "cell_type": "code",
   "execution_count": 36,
   "metadata": {
    "scrolled": true
   },
   "outputs": [
    {
     "name": "stdout",
     "output_type": "stream",
     "text": [
      "# of particles in loaded data table: 536\n"
     ]
    },
    {
     "data": {
      "text/plain": [
       "[<Particle: name=\"d\", pdgid=1, mass=4.67 + 0.50 - 0.20 MeV>,\n",
       " <Particle: name=\"d~\", pdgid=-1, mass=4.67 + 0.50 - 0.20 MeV>,\n",
       " <Particle: name=\"u\", pdgid=2, mass=2.2 + 0.5 - 0.3 MeV>,\n",
       " <Particle: name=\"u~\", pdgid=-2, mass=2.2 + 0.5 - 0.3 MeV>,\n",
       " <Particle: name=\"s\", pdgid=3, mass=93 + 11 - 5 MeV>,\n",
       " <Particle: name=\"s~\", pdgid=-3, mass=93 + 11 - 5 MeV>,\n",
       " <Particle: name=\"c\", pdgid=4, mass=1270 ± 20 MeV>,\n",
       " <Particle: name=\"c~\", pdgid=-4, mass=1270 ± 20 MeV>,\n",
       " <Particle: name=\"b\", pdgid=5, mass=4180 + 30 - 20 MeV>,\n",
       " <Particle: name=\"b~\", pdgid=-5, mass=4180 + 30 - 20 MeV>,\n",
       " <Particle: name=\"t\", pdgid=6, mass=173100 ± 900 MeV>,\n",
       " <Particle: name=\"t~\", pdgid=-6, mass=173100 ± 900 MeV>,\n",
       " <Particle: name=\"e-\", pdgid=11, mass=0.510998946 ± 0.000000003 MeV>,\n",
       " <Particle: name=\"e+\", pdgid=-11, mass=0.510998946 ± 0.000000003 MeV>,\n",
       " <Particle: name=\"nu(e)\", pdgid=12, mass=0.0 MeV>,\n",
       " <Particle: name=\"nu(e)~\", pdgid=-12, mass=0.0 MeV>,\n",
       " <Particle: name=\"mu-\", pdgid=13, mass=105.6583745 ± 0.0000024 MeV>,\n",
       " <Particle: name=\"mu+\", pdgid=-13, mass=105.6583745 ± 0.0000024 MeV>,\n",
       " <Particle: name=\"nu(mu)\", pdgid=14, mass=0.0 MeV>,\n",
       " <Particle: name=\"nu(mu)~\", pdgid=-14, mass=0.0 MeV>,\n",
       " <Particle: name=\"tau-\", pdgid=15, mass=1776.86 ± 0.12 MeV>,\n",
       " <Particle: name=\"tau+\", pdgid=-15, mass=1776.86 ± 0.12 MeV>,\n",
       " <Particle: name=\"nu(tau)\", pdgid=16, mass=0.0 MeV>,\n",
       " <Particle: name=\"nu(tau)~\", pdgid=-16, mass=0.0 MeV>,\n",
       " <Particle: name=\"g\", pdgid=21, mass=0.0 MeV>,\n",
       " <Particle: name=\"gamma\", pdgid=22, mass=0.0 MeV>,\n",
       " <Particle: name=\"Z0\", pdgid=23, mass=91187.6 ± 2.1 MeV>,\n",
       " <Particle: name=\"W+\", pdgid=24, mass=80379 ± 12 MeV>,\n",
       " <Particle: name=\"W-\", pdgid=-24, mass=80379 ± 12 MeV>,\n",
       " <Particle: name=\"H0\", pdgid=25, mass=125100 ± 140 MeV>,\n",
       " <Particle: name=\"pi0\", pdgid=111, mass=134.9770 ± 0.0005 MeV>,\n",
       " <Particle: name=\"rho(770)0\", pdgid=113, mass=775.3 ± 0.2 MeV>,\n",
       " <Particle: name=\"a(2)(1320)0\", pdgid=115, mass=1316.9 ± 0.9 MeV>,\n",
       " <Particle: name=\"rho(3)(1690)0\", pdgid=117, mass=1688.8 ± 2.1 MeV>,\n",
       " <Particle: name=\"a(4)(1970)0\", pdgid=119, mass=1967 ± 16 MeV>,\n",
       " <Particle: name=\"K(L)0\", pdgid=130, mass=497.611 ± 0.013 MeV>,\n",
       " <Particle: name=\"pi+\", pdgid=211, mass=139.57061 ± 0.00024 MeV>,\n",
       " <Particle: name=\"pi-\", pdgid=-211, mass=139.57061 ± 0.00024 MeV>,\n",
       " <Particle: name=\"rho(770)+\", pdgid=213, mass=775.3 ± 0.2 MeV>,\n",
       " <Particle: name=\"rho(770)-\", pdgid=-213, mass=775.3 ± 0.2 MeV>,\n",
       " <Particle: name=\"a(2)(1320)+\", pdgid=215, mass=1316.9 ± 0.9 MeV>,\n",
       " <Particle: name=\"a(2)(1320)-\", pdgid=-215, mass=1316.9 ± 0.9 MeV>,\n",
       " <Particle: name=\"rho(3)(1690)+\", pdgid=217, mass=1688.8 ± 2.1 MeV>,\n",
       " <Particle: name=\"rho(3)(1690)-\", pdgid=-217, mass=1688.8 ± 2.1 MeV>,\n",
       " <Particle: name=\"a(4)(1970)+\", pdgid=219, mass=1967 ± 16 MeV>,\n",
       " <Particle: name=\"a(4)(1970)-\", pdgid=-219, mass=1967 ± 16 MeV>,\n",
       " <Particle: name=\"eta\", pdgid=221, mass=547.862 ± 0.017 MeV>,\n",
       " <Particle: name=\"omega(782)\", pdgid=223, mass=782.65 ± 0.12 MeV>,\n",
       " <Particle: name=\"f(2)(1270)\", pdgid=225, mass=1275.5 ± 0.8 MeV>,\n",
       " <Particle: name=\"omega(3)(1670)\", pdgid=227, mass=1667 ± 4 MeV>,\n",
       " <Particle: name=\"f(4)(2050)\", pdgid=229, mass=2018 ± 11 MeV>,\n",
       " <Particle: name=\"K(S)0\", pdgid=310, mass=497.611 ± 0.013 MeV>,\n",
       " <Particle: name=\"K0\", pdgid=311, mass=497.611 ± 0.013 MeV>,\n",
       " <Particle: name=\"K~0\", pdgid=-311, mass=497.611 ± 0.013 MeV>,\n",
       " <Particle: name=\"K*(892)0\", pdgid=313, mass=895.55 ± 0.20 MeV>,\n",
       " <Particle: name=\"K*(892)~0\", pdgid=-313, mass=895.55 ± 0.20 MeV>,\n",
       " <Particle: name=\"K(2)*(1430)0\", pdgid=315, mass=1432.4 ± 1.3 MeV>,\n",
       " <Particle: name=\"K(2)*(1430)~0\", pdgid=-315, mass=1432.4 ± 1.3 MeV>,\n",
       " <Particle: name=\"K(3)*(1780)0\", pdgid=317, mass=1776 ± 7 MeV>,\n",
       " <Particle: name=\"K(3)*(1780)~0\", pdgid=-317, mass=1776 ± 7 MeV>,\n",
       " <Particle: name=\"K(4)*(2045)0\", pdgid=319, mass=2045 ± 9 MeV>,\n",
       " <Particle: name=\"K(4)*(2045)~0\", pdgid=-319, mass=2045 ± 9 MeV>,\n",
       " <Particle: name=\"K+\", pdgid=321, mass=493.677 ± 0.016 MeV>,\n",
       " <Particle: name=\"K-\", pdgid=-321, mass=493.677 ± 0.016 MeV>,\n",
       " <Particle: name=\"K*(892)+\", pdgid=323, mass=891.7 ± 0.3 MeV>,\n",
       " <Particle: name=\"K*(892)-\", pdgid=-323, mass=891.7 ± 0.3 MeV>,\n",
       " <Particle: name=\"K(2)*(1430)+\", pdgid=325, mass=1425.6 ± 1.5 MeV>,\n",
       " <Particle: name=\"K(2)*(1430)-\", pdgid=-325, mass=1425.6 ± 1.5 MeV>,\n",
       " <Particle: name=\"K(3)*(1780)+\", pdgid=327, mass=1776 ± 7 MeV>,\n",
       " <Particle: name=\"K(3)*(1780)-\", pdgid=-327, mass=1776 ± 7 MeV>,\n",
       " <Particle: name=\"K(4)*(2045)+\", pdgid=329, mass=2045 ± 9 MeV>,\n",
       " <Particle: name=\"K(4)*(2045)-\", pdgid=-329, mass=2045 ± 9 MeV>,\n",
       " <Particle: name=\"eta'(958)\", pdgid=331, mass=957.78 ± 0.06 MeV>,\n",
       " <Particle: name=\"phi(1020)\", pdgid=333, mass=1019.461 ± 0.016 MeV>,\n",
       " <Particle: name=\"f(2)'(1525)\", pdgid=335, mass=1525 ± 5 MeV>,\n",
       " <Particle: name=\"phi(3)(1850)\", pdgid=337, mass=1854 ± 7 MeV>,\n",
       " <Particle: name=\"D+\", pdgid=411, mass=1869.65 ± 0.05 MeV>,\n",
       " <Particle: name=\"D-\", pdgid=-411, mass=1869.65 ± 0.05 MeV>,\n",
       " <Particle: name=\"D*(2010)+\", pdgid=413, mass=2010.26 ± 0.05 MeV>,\n",
       " <Particle: name=\"D*(2010)-\", pdgid=-413, mass=2010.26 ± 0.05 MeV>,\n",
       " <Particle: name=\"D(2)*(2460)+\", pdgid=415, mass=2465.4 ± 1.3 MeV>,\n",
       " <Particle: name=\"D(2)*(2460)-\", pdgid=-415, mass=2465.4 ± 1.3 MeV>,\n",
       " <Particle: name=\"D0\", pdgid=421, mass=1864.83 ± 0.05 MeV>,\n",
       " <Particle: name=\"D~0\", pdgid=-421, mass=1864.83 ± 0.05 MeV>,\n",
       " <Particle: name=\"D*(2007)0\", pdgid=423, mass=2006.85 ± 0.05 MeV>,\n",
       " <Particle: name=\"D*(2007)~0\", pdgid=-423, mass=2006.85 ± 0.05 MeV>,\n",
       " <Particle: name=\"D(2)*(2460)0\", pdgid=425, mass=2460.7 ± 0.4 MeV>,\n",
       " <Particle: name=\"D(2)*(2460)~0\", pdgid=-425, mass=2460.7 ± 0.4 MeV>,\n",
       " <Particle: name=\"D(s)+\", pdgid=431, mass=1968.34 ± 0.07 MeV>,\n",
       " <Particle: name=\"D(s)-\", pdgid=-431, mass=1968.34 ± 0.07 MeV>,\n",
       " <Particle: name=\"D(s)*+\", pdgid=433, mass=2112.2 ± 0.4 MeV>,\n",
       " <Particle: name=\"D(s)*-\", pdgid=-433, mass=2112.2 ± 0.4 MeV>,\n",
       " <Particle: name=\"D(s2)*(2573)+\", pdgid=435, mass=2569.1 ± 0.8 MeV>,\n",
       " <Particle: name=\"D(s2)*(2573)-\", pdgid=-435, mass=2569.1 ± 0.8 MeV>,\n",
       " <Particle: name=\"eta(c)(1S)\", pdgid=441, mass=2983.9 ± 0.5 MeV>,\n",
       " <Particle: name=\"J/psi(1S)\", pdgid=443, mass=3096.900 ± 0.006 MeV>,\n",
       " <Particle: name=\"chi(c2)(1P)\", pdgid=445, mass=3556.17 ± 0.07 MeV>,\n",
       " <Particle: name=\"B0\", pdgid=511, mass=5279.64 ± 0.13 MeV>,\n",
       " <Particle: name=\"B~0\", pdgid=-511, mass=5279.64 ± 0.13 MeV>,\n",
       " <Particle: name=\"B*0\", pdgid=513, mass=5324.70 ± 0.22 MeV>,\n",
       " <Particle: name=\"B*~0\", pdgid=-513, mass=5324.70 ± 0.22 MeV>,\n",
       " <Particle: name=\"B(2)*(5747)0\", pdgid=515, mass=5739.5 ± 0.7 MeV>,\n",
       " <Particle: name=\"B(2)*(5747)~0\", pdgid=-515, mass=5739.5 ± 0.7 MeV>,\n",
       " <Particle: name=\"B+\", pdgid=521, mass=5279.33 ± 0.13 MeV>,\n",
       " <Particle: name=\"B-\", pdgid=-521, mass=5279.33 ± 0.13 MeV>,\n",
       " <Particle: name=\"B*+\", pdgid=523, mass=5324.70 ± 0.22 MeV>,\n",
       " <Particle: name=\"B*-\", pdgid=-523, mass=5324.70 ± 0.22 MeV>,\n",
       " <Particle: name=\"B(2)*(5747)+\", pdgid=525, mass=5739.5 ± 0.7 MeV>,\n",
       " <Particle: name=\"B(2)*(5747)-\", pdgid=-525, mass=5739.5 ± 0.7 MeV>,\n",
       " <Particle: name=\"B(s)0\", pdgid=531, mass=5366.88 ± 0.17 MeV>,\n",
       " <Particle: name=\"B(s)~0\", pdgid=-531, mass=5366.88 ± 0.17 MeV>,\n",
       " <Particle: name=\"B(s)*0\", pdgid=533, mass=5415.4 + 1.8 - 1.5 MeV>,\n",
       " <Particle: name=\"B(s)*~0\", pdgid=-533, mass=5415.4 + 1.8 - 1.5 MeV>,\n",
       " <Particle: name=\"B(s2)*(5840)0\", pdgid=535, mass=5839.85 ± 0.12 MeV>,\n",
       " <Particle: name=\"B(s2)*(5840)~0\", pdgid=-535, mass=5839.85 ± 0.12 MeV>,\n",
       " <Particle: name=\"B(c)+\", pdgid=541, mass=6274.9 ± 0.8 MeV>,\n",
       " <Particle: name=\"B(c)-\", pdgid=-541, mass=6274.9 ± 0.8 MeV>,\n",
       " <Particle: name=\"Upsilon(1S)\", pdgid=553, mass=9460.3 ± 0.3 MeV>,\n",
       " <Particle: name=\"chi(b2)(1P)\", pdgid=555, mass=9912.2 ± 0.3 MeV>,\n",
       " <Particle: name=\"Delta(1620)-\", pdgid=1112, mass=1610 ± 20 MeV>,\n",
       " <Particle: name=\"Delta(1620)~+\", pdgid=-1112, mass=1610 ± 20 MeV>,\n",
       " <Particle: name=\"Delta(1232)-\", pdgid=1114, mass=1232.0 ± 2.0 MeV>,\n",
       " <Particle: name=\"Delta(1232)~+\", pdgid=-1114, mass=1232.0 ± 2.0 MeV>,\n",
       " <Particle: name=\"Delta(1905)-\", pdgid=1116, mass=1880 + 30 - 25 MeV>,\n",
       " <Particle: name=\"Delta(1905)~+\", pdgid=-1116, mass=1880 + 30 - 25 MeV>,\n",
       " <Particle: name=\"Delta(1950)-\", pdgid=1118, mass=1930 + 20 - 15 MeV>,\n",
       " <Particle: name=\"Delta(1950)~+\", pdgid=-1118, mass=1930 + 20 - 15 MeV>,\n",
       " <Particle: name=\"Delta(1620)0\", pdgid=1212, mass=1610 ± 20 MeV>,\n",
       " <Particle: name=\"Delta(1620)~0\", pdgid=-1212, mass=1610 ± 20 MeV>,\n",
       " <Particle: name=\"N(1520)0\", pdgid=1214, mass=1515 ± 5 MeV>,\n",
       " <Particle: name=\"N(1520)~0\", pdgid=-1214, mass=1515 ± 5 MeV>,\n",
       " <Particle: name=\"Delta(1905)0\", pdgid=1216, mass=1880 + 30 - 25 MeV>,\n",
       " <Particle: name=\"Delta(1905)~0\", pdgid=-1216, mass=1880 + 30 - 25 MeV>,\n",
       " <Particle: name=\"N(2190)0\", pdgid=1218, mass=2180 ± 40 MeV>,\n",
       " <Particle: name=\"N(2190)~0\", pdgid=-1218, mass=2180 ± 40 MeV>,\n",
       " <Particle: name=\"n\", pdgid=2112, mass=939.565413 ± 0.000006 MeV>,\n",
       " <Particle: name=\"n~\", pdgid=-2112, mass=939.565413 ± 0.000006 MeV>,\n",
       " <Particle: name=\"Delta(1232)0\", pdgid=2114, mass=1232.0 ± 2.0 MeV>,\n",
       " <Particle: name=\"Delta(1232)~0\", pdgid=-2114, mass=1232.0 ± 2.0 MeV>,\n",
       " <Particle: name=\"N(1675)0\", pdgid=2116, mass=1675 + 5 - 10 MeV>,\n",
       " <Particle: name=\"N(1675)~0\", pdgid=-2116, mass=1675 + 5 - 10 MeV>,\n",
       " <Particle: name=\"Delta(1950)0\", pdgid=2118, mass=1930 + 20 - 15 MeV>,\n",
       " <Particle: name=\"Delta(1950)~0\", pdgid=-2118, mass=1930 + 20 - 15 MeV>,\n",
       " <Particle: name=\"Delta(1620)+\", pdgid=2122, mass=1610 ± 20 MeV>,\n",
       " <Particle: name=\"Delta(1620)~-\", pdgid=-2122, mass=1610 ± 20 MeV>,\n",
       " <Particle: name=\"N(1520)+\", pdgid=2124, mass=1515 ± 5 MeV>,\n",
       " <Particle: name=\"N(1520)~-\", pdgid=-2124, mass=1515 ± 5 MeV>,\n",
       " <Particle: name=\"Delta(1905)+\", pdgid=2126, mass=1880 + 30 - 25 MeV>,\n",
       " <Particle: name=\"Delta(1905)~-\", pdgid=-2126, mass=1880 + 30 - 25 MeV>,\n",
       " <Particle: name=\"N(2190)+\", pdgid=2128, mass=2180 ± 40 MeV>,\n",
       " <Particle: name=\"N(2190)~-\", pdgid=-2128, mass=2180 ± 40 MeV>,\n",
       " <Particle: name=\"p\", pdgid=2212, mass=938.272081 ± 0.000006 MeV>,\n",
       " <Particle: name=\"p~\", pdgid=-2212, mass=938.272081 ± 0.000006 MeV>,\n",
       " <Particle: name=\"Delta(1232)+\", pdgid=2214, mass=1232.0 ± 2.0 MeV>,\n",
       " <Particle: name=\"Delta(1232)~-\", pdgid=-2214, mass=1232.0 ± 2.0 MeV>,\n",
       " <Particle: name=\"N(1675)+\", pdgid=2216, mass=1675 + 5 - 10 MeV>,\n",
       " <Particle: name=\"N(1675)~-\", pdgid=-2216, mass=1675 + 5 - 10 MeV>,\n",
       " <Particle: name=\"Delta(1950)+\", pdgid=2218, mass=1930 + 20 - 15 MeV>,\n",
       " <Particle: name=\"Delta(1950)~-\", pdgid=-2218, mass=1930 + 20 - 15 MeV>,\n",
       " <Particle: name=\"Delta(1620)++\", pdgid=2222, mass=1610 ± 20 MeV>,\n",
       " <Particle: name=\"Delta(1620)~--\", pdgid=-2222, mass=1610 ± 20 MeV>,\n",
       " <Particle: name=\"Delta(1232)++\", pdgid=2224, mass=1232.0 ± 2.0 MeV>,\n",
       " <Particle: name=\"Delta(1232)~--\", pdgid=-2224, mass=1232.0 ± 2.0 MeV>,\n",
       " <Particle: name=\"Delta(1905)++\", pdgid=2226, mass=1880 + 30 - 25 MeV>,\n",
       " <Particle: name=\"Delta(1905)~--\", pdgid=-2226, mass=1880 + 30 - 25 MeV>,\n",
       " <Particle: name=\"Delta(1950)++\", pdgid=2228, mass=1930 + 20 - 15 MeV>,\n",
       " <Particle: name=\"Delta(1950)~--\", pdgid=-2228, mass=1930 + 20 - 15 MeV>,\n",
       " <Particle: name=\"Sigma-\", pdgid=3112, mass=1197.45 ± 0.03 MeV>,\n",
       " <Particle: name=\"Sigma~+\", pdgid=-3112, mass=1197.45 ± 0.03 MeV>,\n",
       " <Particle: name=\"Sigma(1385)-\", pdgid=3114, mass=1387.2 ± 0.5 MeV>,\n",
       " <Particle: name=\"Sigma(1385)~+\", pdgid=-3114, mass=1387.2 ± 0.5 MeV>,\n",
       " <Particle: name=\"Sigma(1775)-\", pdgid=3116, mass=1775 ± 5 MeV>,\n",
       " <Particle: name=\"Sigma(1775)~+\", pdgid=-3116, mass=1775 ± 5 MeV>,\n",
       " <Particle: name=\"Sigma(2030)-\", pdgid=3118, mass=2030 + 10 - 5 MeV>,\n",
       " <Particle: name=\"Sigma(2030)~+\", pdgid=-3118, mass=2030 + 10 - 5 MeV>,\n",
       " <Particle: name=\"Lambda\", pdgid=3122, mass=1115.683 ± 0.006 MeV>,\n",
       " <Particle: name=\"Lambda~\", pdgid=-3122, mass=1115.683 ± 0.006 MeV>,\n",
       " <Particle: name=\"Lambda(1520)\", pdgid=3124, mass=1519.5 ± 1.0 MeV>,\n",
       " <Particle: name=\"Lambda(1520)~\", pdgid=-3124, mass=1519.5 ± 1.0 MeV>,\n",
       " <Particle: name=\"Lambda(1820)\", pdgid=3126, mass=1820 ± 5 MeV>,\n",
       " <Particle: name=\"Lambda(1820)~\", pdgid=-3126, mass=1820 ± 5 MeV>,\n",
       " <Particle: name=\"Lambda(2100)\", pdgid=3128, mass=2100 ± 10 MeV>,\n",
       " <Particle: name=\"Lambda(2100)~\", pdgid=-3128, mass=2100 ± 10 MeV>,\n",
       " <Particle: name=\"Sigma0\", pdgid=3212, mass=1192.642 ± 0.024 MeV>,\n",
       " <Particle: name=\"Sigma~0\", pdgid=-3212, mass=1192.642 ± 0.024 MeV>,\n",
       " <Particle: name=\"Sigma(1385)0\", pdgid=3214, mass=1383.7 ± 1.0 MeV>,\n",
       " <Particle: name=\"Sigma(1385)~0\", pdgid=-3214, mass=1383.7 ± 1.0 MeV>,\n",
       " <Particle: name=\"Sigma(1775)0\", pdgid=3216, mass=1775 ± 5 MeV>,\n",
       " <Particle: name=\"Sigma(1775)~0\", pdgid=-3216, mass=1775 ± 5 MeV>,\n",
       " <Particle: name=\"Sigma(2030)0\", pdgid=3218, mass=2030 + 10 - 5 MeV>,\n",
       " <Particle: name=\"Sigma(2030)~0\", pdgid=-3218, mass=2030 + 10 - 5 MeV>,\n",
       " <Particle: name=\"Sigma+\", pdgid=3222, mass=1189.37 ± 0.07 MeV>,\n",
       " <Particle: name=\"Sigma~-\", pdgid=-3222, mass=1189.37 ± 0.07 MeV>,\n",
       " <Particle: name=\"Sigma(1385)+\", pdgid=3224, mass=1382.8 ± 0.3 MeV>,\n",
       " <Particle: name=\"Sigma(1385)~-\", pdgid=-3224, mass=1382.8 ± 0.3 MeV>,\n",
       " <Particle: name=\"Sigma(1775)+\", pdgid=3226, mass=1775 ± 5 MeV>,\n",
       " <Particle: name=\"Sigma(1775)~-\", pdgid=-3226, mass=1775 ± 5 MeV>,\n",
       " <Particle: name=\"Sigma(2030)+\", pdgid=3228, mass=2030 + 10 - 5 MeV>,\n",
       " <Particle: name=\"Sigma(2030)~-\", pdgid=-3228, mass=2030 + 10 - 5 MeV>,\n",
       " <Particle: name=\"Xi-\", pdgid=3312, mass=1321.71 ± 0.07 MeV>,\n",
       " <Particle: name=\"Xi~+\", pdgid=-3312, mass=1321.71 ± 0.07 MeV>,\n",
       " <Particle: name=\"Xi(1530)-\", pdgid=3314, mass=1535.0 ± 0.6 MeV>,\n",
       " <Particle: name=\"Xi(1530)~+\", pdgid=-3314, mass=1535.0 ± 0.6 MeV>,\n",
       " <Particle: name=\"Xi0\", pdgid=3322, mass=1314.86 ± 0.20 MeV>,\n",
       " <Particle: name=\"Xi~0\", pdgid=-3322, mass=1314.86 ± 0.20 MeV>,\n",
       " <Particle: name=\"Xi(1530)0\", pdgid=3324, mass=1531.8 ± 0.3 MeV>,\n",
       " <Particle: name=\"Xi(1530)~0\", pdgid=-3324, mass=1531.8 ± 0.3 MeV>,\n",
       " <Particle: name=\"Omega-\", pdgid=3334, mass=1672.5 ± 0.3 MeV>,\n",
       " <Particle: name=\"Omega~+\", pdgid=-3334, mass=1672.5 ± 0.3 MeV>,\n",
       " <Particle: name=\"Sigma(c)(2455)0\", pdgid=4112, mass=2453.75 ± 0.14 MeV>,\n",
       " <Particle: name=\"Sigma(c)(2455)~0\", pdgid=-4112, mass=2453.75 ± 0.14 MeV>,\n",
       " <Particle: name=\"Sigma(c)(2520)0\", pdgid=4114, mass=2518.48 ± 0.20 MeV>,\n",
       " <Particle: name=\"Sigma(c)(2520)~0\", pdgid=-4114, mass=2518.48 ± 0.20 MeV>,\n",
       " <Particle: name=\"Lambda(c)+\", pdgid=4122, mass=2286.46 ± 0.14 MeV>,\n",
       " <Particle: name=\"Lambda(c)~-\", pdgid=-4122, mass=2286.46 ± 0.14 MeV>,\n",
       " <Particle: name=\"Xi(c)0\", pdgid=4132, mass=2470.9 ± 0.2 MeV>,\n",
       " <Particle: name=\"Xi(c)~0\", pdgid=-4132, mass=2470.9 ± 0.2 MeV>,\n",
       " <Particle: name=\"Sigma(c)(2455)+\", pdgid=4212, mass=2452.9 ± 0.4 MeV>,\n",
       " <Particle: name=\"Sigma(c)(2455)~-\", pdgid=-4212, mass=2452.9 ± 0.4 MeV>,\n",
       " <Particle: name=\"Sigma(c)(2520)+\", pdgid=4214, mass=2517.5 ± 2.3 MeV>,\n",
       " <Particle: name=\"Sigma(c)(2520)~-\", pdgid=-4214, mass=2517.5 ± 2.3 MeV>,\n",
       " <Particle: name=\"Sigma(c)(2455)++\", pdgid=4222, mass=2453.97 ± 0.14 MeV>,\n",
       " <Particle: name=\"Sigma(c)(2455)~--\", pdgid=-4222, mass=2453.97 ± 0.14 MeV>,\n",
       " <Particle: name=\"Sigma(c)(2520)++\", pdgid=4224, mass=2518.41 + 0.21 - 0.19 MeV>,\n",
       " <Particle: name=\"Sigma(c)(2520)~--\", pdgid=-4224, mass=2518.41 + 0.21 - 0.19 MeV>,\n",
       " <Particle: name=\"Xi(c)+\", pdgid=4232, mass=2467.93 ± 0.18 MeV>,\n",
       " <Particle: name=\"Xi(c)~-\", pdgid=-4232, mass=2467.93 ± 0.18 MeV>,\n",
       " <Particle: name=\"Xi(c)'0\", pdgid=4312, mass=2579.2 ± 0.5 MeV>,\n",
       " <Particle: name=\"Xi(c)'~0\", pdgid=-4312, mass=2579.2 ± 0.5 MeV>,\n",
       " <Particle: name=\"Xi(c)(2645)0\", pdgid=4314, mass=2646.38 ± 0.21 MeV>,\n",
       " <Particle: name=\"Xi(c)(2645)~0\", pdgid=-4314, mass=2646.38 ± 0.21 MeV>,\n",
       " <Particle: name=\"Xi(c)'+\", pdgid=4322, mass=2578.4 ± 0.5 MeV>,\n",
       " <Particle: name=\"Xi(c)'~-\", pdgid=-4322, mass=2578.4 ± 0.5 MeV>,\n",
       " <Particle: name=\"Xi(c)(2645)+\", pdgid=4324, mass=2645.6 ± 0.3 MeV>,\n",
       " <Particle: name=\"Xi(c)(2645)~-\", pdgid=-4324, mass=2645.6 ± 0.3 MeV>,\n",
       " <Particle: name=\"Omega(c)0\", pdgid=4332, mass=2695.2 ± 1.7 MeV>,\n",
       " <Particle: name=\"Omega(c)~0\", pdgid=-4332, mass=2695.2 ± 1.7 MeV>,\n",
       " <Particle: name=\"Omega(c)(2770)0\", pdgid=4334, mass=2765.9 ± 2.0 MeV>,\n",
       " <Particle: name=\"Omega(c)(2770)~0\", pdgid=-4334, mass=2765.9 ± 2.0 MeV>,\n",
       " <Particle: name=\"Sigma(b)-\", pdgid=5112, mass=5815.6 ± 0.3 MeV>,\n",
       " <Particle: name=\"Sigma(b)~+\", pdgid=-5112, mass=5815.6 ± 0.3 MeV>,\n",
       " <Particle: name=\"Sigma(b)*-\", pdgid=5114, mass=5834.7 ± 0.3 MeV>,\n",
       " <Particle: name=\"Sigma(b)*~+\", pdgid=-5114, mass=5834.7 ± 0.3 MeV>,\n",
       " <Particle: name=\"Lambda(b)0\", pdgid=5122, mass=5619.60 ± 0.17 MeV>,\n",
       " <Particle: name=\"Lambda(b)~0\", pdgid=-5122, mass=5619.60 ± 0.17 MeV>,\n",
       " <Particle: name=\"Xi(b)-\", pdgid=5132, mass=5797.0 ± 0.9 MeV>,\n",
       " <Particle: name=\"Xi(b)~+\", pdgid=-5132, mass=5797.0 ± 0.9 MeV>,\n",
       " <Particle: name=\"Sigma(b)+\", pdgid=5222, mass=5810.6 ± 0.2 MeV>,\n",
       " <Particle: name=\"Sigma(b)~-\", pdgid=-5222, mass=5810.6 ± 0.2 MeV>,\n",
       " <Particle: name=\"Sigma(b)*+\", pdgid=5224, mass=5830.3 ± 0.3 MeV>,\n",
       " <Particle: name=\"Sigma(b)*~-\", pdgid=-5224, mass=5830.3 ± 0.3 MeV>,\n",
       " <Particle: name=\"Xi(b)0\", pdgid=5232, mass=5791.9 ± 0.5 MeV>,\n",
       " <Particle: name=\"Xi(b)~0\", pdgid=-5232, mass=5791.9 ± 0.5 MeV>,\n",
       " <Particle: name=\"Omega(b)-\", pdgid=5332, mass=6046.1 ± 1.7 MeV>,\n",
       " <Particle: name=\"Omega(b)~+\", pdgid=-5332, mass=6046.1 ± 1.7 MeV>,\n",
       " <Particle: name=\"a(0)(1450)0\", pdgid=10111, mass=1467 ± 14 MeV>,\n",
       " <Particle: name=\"b(1)(1235)0\", pdgid=10113, mass=1230 ± 3 MeV>,\n",
       " <Particle: name=\"pi(2)(1670)0\", pdgid=10115, mass=1670.6 + 2.9 - 1.2 MeV>,\n",
       " <Particle: name=\"a(0)(1450)+\", pdgid=10211, mass=1467 ± 14 MeV>,\n",
       " <Particle: name=\"a(0)(1450)-\", pdgid=-10211, mass=1467 ± 14 MeV>,\n",
       " <Particle: name=\"b(1)(1235)+\", pdgid=10213, mass=1230 ± 3 MeV>,\n",
       " <Particle: name=\"b(1)(1235)-\", pdgid=-10213, mass=1230 ± 3 MeV>,\n",
       " <Particle: name=\"pi(2)(1670)+\", pdgid=10215, mass=1670.6 + 2.9 - 1.2 MeV>,\n",
       " <Particle: name=\"pi(2)(1670)-\", pdgid=-10215, mass=1670.6 + 2.9 - 1.2 MeV>,\n",
       " <Particle: name=\"f(0)(1370)\", pdgid=10221, mass=1350 ± 150 MeV>,\n",
       " <Particle: name=\"h(1)(1170)\", pdgid=10223, mass=1170 ± 20 MeV>,\n",
       " <Particle: name=\"eta(2)(1645)\", pdgid=10225, mass=1617 ± 5 MeV>,\n",
       " <Particle: name=\"K(0)*(1430)0\", pdgid=10311, mass=1430 ± 50 MeV>,\n",
       " <Particle: name=\"K(0)*(1430)~0\", pdgid=-10311, mass=1430 ± 50 MeV>,\n",
       " <Particle: name=\"K(1)(1270)0\", pdgid=10313, mass=1272 ± 7 MeV>,\n",
       " <Particle: name=\"K(1)(1270)~0\", pdgid=-10313, mass=1272 ± 7 MeV>,\n",
       " <Particle: name=\"K(2)(1770)0\", pdgid=10315, mass=1773 ± 8 MeV>,\n",
       " <Particle: name=\"K(2)(1770)~0\", pdgid=-10315, mass=1773 ± 8 MeV>,\n",
       " <Particle: name=\"K(0)*(1430)+\", pdgid=10321, mass=1430 ± 50 MeV>,\n",
       " <Particle: name=\"K(0)*(1430)-\", pdgid=-10321, mass=1430 ± 50 MeV>,\n",
       " <Particle: name=\"K(1)(1270)+\", pdgid=10323, mass=1272 ± 7 MeV>,\n",
       " <Particle: name=\"K(1)(1270)-\", pdgid=-10323, mass=1272 ± 7 MeV>,\n",
       " <Particle: name=\"K(2)(1770)+\", pdgid=10325, mass=1773 ± 8 MeV>,\n",
       " <Particle: name=\"K(2)(1770)-\", pdgid=-10325, mass=1773 ± 8 MeV>,\n",
       " <Particle: name=\"f(0)(1710)\", pdgid=10331, mass=1704 ± 12 MeV>,\n",
       " <Particle: name=\"h(1)(1415)\", pdgid=10333, mass=1416 ± 8 MeV>,\n",
       " <Particle: name=\"D(0)*(2300)+\", pdgid=10411, mass=2300 ± 19 MeV>,\n",
       " <Particle: name=\"D(0)*(2300)-\", pdgid=-10411, mass=2300 ± 19 MeV>,\n",
       " <Particle: name=\"D(0)*(2300)0\", pdgid=10421, mass=2300 ± 19 MeV>,\n",
       " <Particle: name=\"D(0)*(2300)~0\", pdgid=-10421, mass=2300 ± 19 MeV>,\n",
       " <Particle: name=\"D(1)(2420)0\", pdgid=10423, mass=2420.8 ± 0.5 MeV>,\n",
       " <Particle: name=\"D(1)(2420)~0\", pdgid=-10423, mass=2420.8 ± 0.5 MeV>,\n",
       " <Particle: name=\"D(s0)*(2317)+\", pdgid=10431, mass=2317.8 ± 0.5 MeV>,\n",
       " <Particle: name=\"D(s0)*(2317)-\", pdgid=-10431, mass=2317.8 ± 0.5 MeV>,\n",
       " <Particle: name=\"D(s1)(2536)+\", pdgid=10433, mass=2535.11 ± 0.06 MeV>,\n",
       " <Particle: name=\"D(s1)(2536)-\", pdgid=-10433, mass=2535.11 ± 0.06 MeV>,\n",
       " <Particle: name=\"chi(c0)(1P)\", pdgid=10441, mass=3414.7 ± 0.3 MeV>,\n",
       " <Particle: name=\"h(c)(1P)\", pdgid=10443, mass=3525.38 ± 0.11 MeV>,\n",
       " <Particle: name=\"chi(b0)(1P)\", pdgid=10551, mass=9859.4 ± 0.5 MeV>,\n",
       " <Particle: name=\"h(b)(1P)\", pdgid=10553, mass=9899.3 ± 0.8 MeV>,\n",
       " <Particle: name=\"Delta(1900)-\", pdgid=11112, mass=1860 + 60 - 20 MeV>,\n",
       " <Particle: name=\"Delta(1900)~+\", pdgid=-11112, mass=1860 + 60 - 20 MeV>,\n",
       " <Particle: name=\"Delta(1700)-\", pdgid=11114, mass=1710 ± 20 MeV>,\n",
       " <Particle: name=\"Delta(1700)~+\", pdgid=-11114, mass=1710 ± 20 MeV>,\n",
       " <Particle: name=\"Delta(1930)-\", pdgid=11116, mass=1950 ± 50 MeV>,\n",
       " <Particle: name=\"Delta(1930)~+\", pdgid=-11116, mass=1950 ± 50 MeV>,\n",
       " <Particle: name=\"Delta(1900)0\", pdgid=11212, mass=1860 + 60 - 20 MeV>,\n",
       " <Particle: name=\"Delta(1900)~0\", pdgid=-11212, mass=1860 + 60 - 20 MeV>,\n",
       " <Particle: name=\"Delta(1930)0\", pdgid=11216, mass=1950 ± 50 MeV>,\n",
       " <Particle: name=\"Delta(1930)~0\", pdgid=-11216, mass=1950 ± 50 MeV>,\n",
       " <Particle: name=\"N(1440)0\", pdgid=12112, mass=1440 ± 30 MeV>,\n",
       " <Particle: name=\"N(1440)~0\", pdgid=-12112, mass=1440 ± 30 MeV>,\n",
       " <Particle: name=\"Delta(1700)0\", pdgid=12114, mass=1710 ± 20 MeV>,\n",
       " <Particle: name=\"Delta(1700)~0\", pdgid=-12114, mass=1710 ± 20 MeV>,\n",
       " <Particle: name=\"N(1680)0\", pdgid=12116, mass=1685 ± 5 MeV>,\n",
       " <Particle: name=\"N(1680)~0\", pdgid=-12116, mass=1685 ± 5 MeV>,\n",
       " <Particle: name=\"Delta(1900)+\", pdgid=12122, mass=1860 + 60 - 20 MeV>,\n",
       " <Particle: name=\"Delta(1900)~-\", pdgid=-12122, mass=1860 + 60 - 20 MeV>,\n",
       " <Particle: name=\"Delta(1930)+\", pdgid=12126, mass=1950 ± 50 MeV>,\n",
       " <Particle: name=\"Delta(1930)~-\", pdgid=-12126, mass=1950 ± 50 MeV>,\n",
       " <Particle: name=\"N(1440)+\", pdgid=12212, mass=1440 ± 30 MeV>,\n",
       " <Particle: name=\"N(1440)~-\", pdgid=-12212, mass=1440 ± 30 MeV>,\n",
       " <Particle: name=\"Delta(1700)+\", pdgid=12214, mass=1710 ± 20 MeV>,\n",
       " <Particle: name=\"Delta(1700)~-\", pdgid=-12214, mass=1710 ± 20 MeV>,\n",
       " <Particle: name=\"N(1680)+\", pdgid=12216, mass=1685 ± 5 MeV>,\n",
       " <Particle: name=\"N(1680)~-\", pdgid=-12216, mass=1685 ± 5 MeV>,\n",
       " <Particle: name=\"Delta(1900)++\", pdgid=12222, mass=1860 + 60 - 20 MeV>,\n",
       " <Particle: name=\"Delta(1900)~--\", pdgid=-12222, mass=1860 + 60 - 20 MeV>,\n",
       " <Particle: name=\"Delta(1700)++\", pdgid=12224, mass=1710 ± 20 MeV>,\n",
       " <Particle: name=\"Delta(1700)~--\", pdgid=-12224, mass=1710 ± 20 MeV>,\n",
       " <Particle: name=\"Delta(1930)++\", pdgid=12226, mass=1950 ± 50 MeV>,\n",
       " <Particle: name=\"Delta(1930)~--\", pdgid=-12226, mass=1950 ± 50 MeV>,\n",
       " <Particle: name=\"Sigma(1660)-\", pdgid=13112, mass=1660 ± 30 MeV>,\n",
       " <Particle: name=\"Sigma(1660)~+\", pdgid=-13112, mass=1660 ± 30 MeV>,\n",
       " <Particle: name=\"Sigma(1670)-\", pdgid=13114, mass=1670 + 15 - 5 MeV>,\n",
       " <Particle: name=\"Sigma(1670)~+\", pdgid=-13114, mass=1670 + 15 - 5 MeV>,\n",
       " <Particle: name=\"Sigma(1915)-\", pdgid=13116, mass=1915 + 20 - 15 MeV>,\n",
       " <Particle: name=\"Sigma(1915)~+\", pdgid=-13116, mass=1915 + 20 - 15 MeV>,\n",
       " <Particle: name=\"Lambda(1405)\", pdgid=13122, mass=1405.1 + 1.3 - 1.0 MeV>,\n",
       " <Particle: name=\"Lambda(1405)~\", pdgid=-13122, mass=1405.1 + 1.3 - 1.0 MeV>,\n",
       " <Particle: name=\"Lambda(1690)\", pdgid=13124, mass=1690 ± 5 MeV>,\n",
       " <Particle: name=\"Lambda(1690)~\", pdgid=-13124, mass=1690 ± 5 MeV>,\n",
       " <Particle: name=\"Lambda(1830)\", pdgid=13126, mass=1830.0 MeV>,\n",
       " <Particle: name=\"Lambda(1830)~\", pdgid=-13126, mass=1830.0 MeV>,\n",
       " <Particle: name=\"Sigma(1660)0\", pdgid=13212, mass=1660 ± 30 MeV>,\n",
       " <Particle: name=\"Sigma(1660)~0\", pdgid=-13212, mass=1660 ± 30 MeV>,\n",
       " <Particle: name=\"Sigma(1670)0\", pdgid=13214, mass=1670 + 15 - 5 MeV>,\n",
       " <Particle: name=\"Sigma(1670)~0\", pdgid=-13214, mass=1670 + 15 - 5 MeV>,\n",
       " <Particle: name=\"Sigma(1915)0\", pdgid=13216, mass=1915 + 20 - 15 MeV>,\n",
       " <Particle: name=\"Sigma(1915)~0\", pdgid=-13216, mass=1915 + 20 - 15 MeV>,\n",
       " <Particle: name=\"Sigma(1660)+\", pdgid=13222, mass=1660 ± 30 MeV>,\n",
       " <Particle: name=\"Sigma(1660)~-\", pdgid=-13222, mass=1660 ± 30 MeV>,\n",
       " <Particle: name=\"Sigma(1670)+\", pdgid=13224, mass=1670 + 15 - 5 MeV>,\n",
       " <Particle: name=\"Sigma(1670)~-\", pdgid=-13224, mass=1670 + 15 - 5 MeV>,\n",
       " <Particle: name=\"Sigma(1915)+\", pdgid=13226, mass=1915 + 20 - 15 MeV>,\n",
       " <Particle: name=\"Sigma(1915)~-\", pdgid=-13226, mass=1915 + 20 - 15 MeV>,\n",
       " <Particle: name=\"Xi(1820)-\", pdgid=13314, mass=1823 ± 5 MeV>,\n",
       " <Particle: name=\"Xi(1820)~+\", pdgid=-13314, mass=1823 ± 5 MeV>,\n",
       " <Particle: name=\"Xi(1820)0\", pdgid=13324, mass=1823 ± 5 MeV>,\n",
       " <Particle: name=\"Xi(1820)~0\", pdgid=-13324, mass=1823 ± 5 MeV>,\n",
       " <Particle: name=\"Lambda(c)(2595)+\", pdgid=14122, mass=2592.2 ± 0.3 MeV>,\n",
       " <Particle: name=\"Lambda(c)(2595)~-\", pdgid=-14122, mass=2592.2 ± 0.3 MeV>,\n",
       " <Particle: name=\"a(1)(1260)0\", pdgid=20113, mass=1230 ± 40 MeV>,\n",
       " <Particle: name=\"a(1)(1260)+\", pdgid=20213, mass=1230 ± 40 MeV>,\n",
       " <Particle: name=\"a(1)(1260)-\", pdgid=-20213, mass=1230 ± 40 MeV>,\n",
       " <Particle: name=\"f(1)(1285)\", pdgid=20223, mass=1281.9 ± 0.5 MeV>,\n",
       " <Particle: name=\"K(1)(1400)0\", pdgid=20313, mass=1403 ± 7 MeV>,\n",
       " <Particle: name=\"K(1)(1400)~0\", pdgid=-20313, mass=1403 ± 7 MeV>,\n",
       " <Particle: name=\"K(2)(1820)0\", pdgid=20315, mass=1819 ± 12 MeV>,\n",
       " <Particle: name=\"K(2)(1820)~0\", pdgid=-20315, mass=1819 ± 12 MeV>,\n",
       " <Particle: name=\"K(1)(1400)+\", pdgid=20323, mass=1403 ± 7 MeV>,\n",
       " <Particle: name=\"K(1)(1400)-\", pdgid=-20323, mass=1403 ± 7 MeV>,\n",
       " <Particle: name=\"K(2)(1820)+\", pdgid=20325, mass=1819 ± 12 MeV>,\n",
       " <Particle: name=\"K(2)(1820)-\", pdgid=-20325, mass=1819 ± 12 MeV>,\n",
       " <Particle: name=\"f(1)(1420)\", pdgid=20333, mass=1426.4 ± 0.9 MeV>,\n",
       " <Particle: name=\"D(s1)(2460)+\", pdgid=20433, mass=2459.5 ± 0.6 MeV>,\n",
       " <Particle: name=\"D(s1)(2460)-\", pdgid=-20433, mass=2459.5 ± 0.6 MeV>,\n",
       " <Particle: name=\"chi(c1)(1P)\", pdgid=20443, mass=3510.67 ± 0.05 MeV>,\n",
       " <Particle: name=\"chi(b1)(1P)\", pdgid=20553, mass=9892.9 ± 0.3 MeV>,\n",
       " <Particle: name=\"Upsilon(2)(1D)\", pdgid=20555, mass=10163.7 ± 1.4 MeV>,\n",
       " <Particle: name=\"Delta(1910)-\", pdgid=21112, mass=1900 ± 50 MeV>,\n",
       " <Particle: name=\"Delta(1910)~+\", pdgid=-21112, mass=1900 ± 50 MeV>,\n",
       " <Particle: name=\"Delta(1920)-\", pdgid=21114, mass=1920 ± 50 MeV>,\n",
       " <Particle: name=\"Delta(1920)~+\", pdgid=-21114, mass=1920 ± 50 MeV>,\n",
       " <Particle: name=\"Delta(1910)0\", pdgid=21212, mass=1900 ± 50 MeV>,\n",
       " <Particle: name=\"Delta(1910)~0\", pdgid=-21212, mass=1900 ± 50 MeV>,\n",
       " <Particle: name=\"N(1700)0\", pdgid=21214, mass=1720 + 80 - 70 MeV>,\n",
       " <Particle: name=\"N(1700)~0\", pdgid=-21214, mass=1720 + 80 - 70 MeV>,\n",
       " <Particle: name=\"N(1535)0\", pdgid=22112, mass=1530 ± 15 MeV>,\n",
       " <Particle: name=\"N(1535)~0\", pdgid=-22112, mass=1530 ± 15 MeV>,\n",
       " <Particle: name=\"Delta(1920)0\", pdgid=22114, mass=1920 ± 50 MeV>,\n",
       " <Particle: name=\"Delta(1920)~0\", pdgid=-22114, mass=1920 ± 50 MeV>,\n",
       " <Particle: name=\"Delta(1910)+\", pdgid=22122, mass=1900 ± 50 MeV>,\n",
       " <Particle: name=\"Delta(1910)~-\", pdgid=-22122, mass=1900 ± 50 MeV>,\n",
       " <Particle: name=\"N(1700)+\", pdgid=22124, mass=1720 + 80 - 70 MeV>,\n",
       " <Particle: name=\"N(1700)~-\", pdgid=-22124, mass=1720 + 80 - 70 MeV>,\n",
       " <Particle: name=\"N(1535)+\", pdgid=22212, mass=1530 ± 15 MeV>,\n",
       " <Particle: name=\"N(1535)~-\", pdgid=-22212, mass=1530 ± 15 MeV>,\n",
       " <Particle: name=\"Delta(1920)+\", pdgid=22214, mass=1920 ± 50 MeV>,\n",
       " <Particle: name=\"Delta(1920)~-\", pdgid=-22214, mass=1920 ± 50 MeV>,\n",
       " <Particle: name=\"Delta(1910)++\", pdgid=22222, mass=1900 ± 50 MeV>,\n",
       " <Particle: name=\"Delta(1910)~--\", pdgid=-22222, mass=1900 ± 50 MeV>,\n",
       " <Particle: name=\"Delta(1920)++\", pdgid=22224, mass=1920 ± 50 MeV>,\n",
       " <Particle: name=\"Delta(1920)~--\", pdgid=-22224, mass=1920 ± 50 MeV>,\n",
       " <Particle: name=\"Sigma(1750)-\", pdgid=23112, mass=1750 + 50 - 20 MeV>,\n",
       " <Particle: name=\"Sigma(1750)~+\", pdgid=-23112, mass=1750 + 50 - 20 MeV>,\n",
       " <Particle: name=\"Sigma(1940)-\", pdgid=23114, mass=1940 + 10 - 40 MeV>,\n",
       " <Particle: name=\"Sigma(1940)~+\", pdgid=-23114, mass=1940 + 10 - 40 MeV>,\n",
       " <Particle: name=\"Lambda(1600)\", pdgid=23122, mass=1600 + 100 - 40 MeV>,\n",
       " <Particle: name=\"Lambda(1600)~\", pdgid=-23122, mass=1600 + 100 - 40 MeV>,\n",
       " <Particle: name=\"Lambda(1890)\", pdgid=23124, mass=1890 + 20 - 40 MeV>,\n",
       " <Particle: name=\"Lambda(1890)~\", pdgid=-23124, mass=1890 + 20 - 40 MeV>,\n",
       " <Particle: name=\"Lambda(2110)\", pdgid=23126, mass=2110 + 30 - 20 MeV>,\n",
       " <Particle: name=\"Lambda(2110)~\", pdgid=-23126, mass=2110 + 30 - 20 MeV>,\n",
       " <Particle: name=\"Sigma(1750)0\", pdgid=23212, mass=1750 + 50 - 20 MeV>,\n",
       " <Particle: name=\"Sigma(1750)~0\", pdgid=-23212, mass=1750 + 50 - 20 MeV>,\n",
       " <Particle: name=\"Sigma(1940)0\", pdgid=23214, mass=1940 + 10 - 40 MeV>,\n",
       " <Particle: name=\"Sigma(1940)~0\", pdgid=-23214, mass=1940 + 10 - 40 MeV>,\n",
       " <Particle: name=\"Sigma(1750)+\", pdgid=23222, mass=1750 + 50 - 20 MeV>,\n",
       " <Particle: name=\"Sigma(1750)~-\", pdgid=-23222, mass=1750 + 50 - 20 MeV>,\n",
       " <Particle: name=\"Sigma(1940)+\", pdgid=23224, mass=1940 + 10 - 40 MeV>,\n",
       " <Particle: name=\"Sigma(1940)~-\", pdgid=-23224, mass=1940 + 10 - 40 MeV>,\n",
       " <Particle: name=\"rho(1700)0\", pdgid=30113, mass=1720 ± 20 MeV>,\n",
       " <Particle: name=\"rho(1700)+\", pdgid=30213, mass=1720 ± 20 MeV>,\n",
       " <Particle: name=\"rho(1700)-\", pdgid=-30213, mass=1720 ± 20 MeV>,\n",
       " <Particle: name=\"omega(1650)\", pdgid=30223, mass=1670 ± 30 MeV>,\n",
       " <Particle: name=\"K*(1680)0\", pdgid=30313, mass=1718 ± 18 MeV>,\n",
       " <Particle: name=\"K*(1680)~0\", pdgid=-30313, mass=1718 ± 18 MeV>,\n",
       " <Particle: name=\"K*(1680)+\", pdgid=30323, mass=1718 ± 18 MeV>,\n",
       " <Particle: name=\"K*(1680)-\", pdgid=-30323, mass=1718 ± 18 MeV>,\n",
       " <Particle: name=\"psi(3770)\", pdgid=30443, mass=3773.1 ± 0.3 MeV>,\n",
       " <Particle: name=\"Delta(1600)-\", pdgid=31114, mass=1570 ± 70 MeV>,\n",
       " <Particle: name=\"Delta(1600)~+\", pdgid=-31114, mass=1570 ± 70 MeV>,\n",
       " <Particle: name=\"N(1720)0\", pdgid=31214, mass=1720 + 30 - 40 MeV>,\n",
       " <Particle: name=\"N(1720)~0\", pdgid=-31214, mass=1720 + 30 - 40 MeV>,\n",
       " <Particle: name=\"N(1650)0\", pdgid=32112, mass=1650 ± 15 MeV>,\n",
       " <Particle: name=\"N(1650)~0\", pdgid=-32112, mass=1650 ± 15 MeV>,\n",
       " <Particle: name=\"Delta(1600)0\", pdgid=32114, mass=1570 ± 70 MeV>,\n",
       " <Particle: name=\"Delta(1600)~0\", pdgid=-32114, mass=1570 ± 70 MeV>,\n",
       " <Particle: name=\"N(1720)+\", pdgid=32124, mass=1720 + 30 - 40 MeV>,\n",
       " <Particle: name=\"N(1720)~-\", pdgid=-32124, mass=1720 + 30 - 40 MeV>,\n",
       " <Particle: name=\"N(1650)+\", pdgid=32212, mass=1650 ± 15 MeV>,\n",
       " <Particle: name=\"N(1650)~-\", pdgid=-32212, mass=1650 ± 15 MeV>,\n",
       " <Particle: name=\"Delta(1600)+\", pdgid=32214, mass=1570 ± 70 MeV>,\n",
       " <Particle: name=\"Delta(1600)~-\", pdgid=-32214, mass=1570 ± 70 MeV>,\n",
       " <Particle: name=\"Delta(1600)++\", pdgid=32224, mass=1570 ± 70 MeV>,\n",
       " <Particle: name=\"Delta(1600)~--\", pdgid=-32224, mass=1570 ± 70 MeV>,\n",
       " <Particle: name=\"Lambda(1670)\", pdgid=33122, mass=1670 ± 10 MeV>,\n",
       " <Particle: name=\"Lambda(1670)~\", pdgid=-33122, mass=1670 ± 10 MeV>,\n",
       " <Particle: name=\"N(1710)0\", pdgid=42112, mass=1710 ± 30 MeV>,\n",
       " <Particle: name=\"N(1710)~0\", pdgid=-42112, mass=1710 ± 30 MeV>,\n",
       " <Particle: name=\"N(1710)+\", pdgid=42212, mass=1710 ± 30 MeV>,\n",
       " <Particle: name=\"N(1710)~-\", pdgid=-42212, mass=1710 ± 30 MeV>,\n",
       " <Particle: name=\"Lambda(1800)\", pdgid=43122, mass=1800 + 50 - 80 MeV>,\n",
       " <Particle: name=\"Lambda(1800)~\", pdgid=-43122, mass=1800 + 50 - 80 MeV>,\n",
       " <Particle: name=\"Lambda(1810)\", pdgid=53122, mass=1810 + 40 - 60 MeV>,\n",
       " <Particle: name=\"Lambda(1810)~\", pdgid=-53122, mass=1810 + 40 - 60 MeV>,\n",
       " <Particle: name=\"pi(1300)0\", pdgid=100111, mass=1300 ± 100 MeV>,\n",
       " <Particle: name=\"rho(1450)0\", pdgid=100113, mass=1465 ± 25 MeV>,\n",
       " <Particle: name=\"pi(1300)+\", pdgid=100211, mass=1300 ± 100 MeV>,\n",
       " <Particle: name=\"pi(1300)-\", pdgid=-100211, mass=1300 ± 100 MeV>,\n",
       " <Particle: name=\"rho(1450)+\", pdgid=100213, mass=1465 ± 25 MeV>,\n",
       " <Particle: name=\"rho(1450)-\", pdgid=-100213, mass=1465 ± 25 MeV>,\n",
       " <Particle: name=\"eta(1295)\", pdgid=100221, mass=1294 ± 4 MeV>,\n",
       " <Particle: name=\"K*(1410)0\", pdgid=100313, mass=1421 ± 9 MeV>,\n",
       " <Particle: name=\"K*(1410)~0\", pdgid=-100313, mass=1421 ± 9 MeV>,\n",
       " <Particle: name=\"K*(1410)+\", pdgid=100323, mass=1421 ± 9 MeV>,\n",
       " <Particle: name=\"K*(1410)-\", pdgid=-100323, mass=1421 ± 9 MeV>,\n",
       " <Particle: name=\"eta(1475)\", pdgid=100331, mass=1475 ± 4 MeV>,\n",
       " <Particle: name=\"phi(1680)\", pdgid=100333, mass=1680 ± 20 MeV>,\n",
       " <Particle: name=\"eta(c)(2S)\", pdgid=100441, mass=3637.5 ± 1.1 MeV>,\n",
       " <Particle: name=\"psi(2S)\", pdgid=100443, mass=3686.10 ± 0.03 MeV>,\n",
       " <Particle: name=\"chi(c2)(3930)\", pdgid=100445, mass=3927 ± 3 MeV>,\n",
       " <Particle: name=\"Upsilon(2S)\", pdgid=100553, mass=10023.3 ± 0.3 MeV>,\n",
       " <Particle: name=\"chi(b2)(2P)\", pdgid=100555, mass=10268.65 + 0.20 - 0.50 MeV>,\n",
       " <Particle: name=\"Xi(1950)-\", pdgid=103316, mass=1950 ± 15 MeV>,\n",
       " <Particle: name=\"Xi(1950)~+\", pdgid=-103316, mass=1950 ± 15 MeV>,\n",
       " <Particle: name=\"Xi(1950)0\", pdgid=103326, mass=1950 ± 15 MeV>,\n",
       " <Particle: name=\"Xi(1950)~0\", pdgid=-103326, mass=1950 ± 15 MeV>,\n",
       " <Particle: name=\"Lambda(c)(2625)+\", pdgid=104122, mass=2628.11 ± 0.19 MeV>,\n",
       " <Particle: name=\"Lambda(c)(2625)~-\", pdgid=-104122, mass=2628.11 ± 0.19 MeV>,\n",
       " <Particle: name=\"Xi(c)(2815)0\", pdgid=104312, mass=2820.3 ± 0.3 MeV>,\n",
       " <Particle: name=\"Xi(c)(2815)~0\", pdgid=-104312, mass=2820.3 ± 0.3 MeV>,\n",
       " <Particle: name=\"Xi(c)(2790)0\", pdgid=104314, mass=2794.1 ± 0.5 MeV>,\n",
       " <Particle: name=\"Xi(c)(2790)~0\", pdgid=-104314, mass=2794.1 ± 0.5 MeV>,\n",
       " <Particle: name=\"Xi(c)(2815)+\", pdgid=104322, mass=2816.73 ± 0.21 MeV>,\n",
       " <Particle: name=\"Xi(c)(2815)~-\", pdgid=-104322, mass=2816.73 ± 0.21 MeV>,\n",
       " <Particle: name=\"Xi(c)(2790)+\", pdgid=104324, mass=2792.4 ± 0.5 MeV>,\n",
       " <Particle: name=\"Xi(c)(2790)~-\", pdgid=-104324, mass=2792.4 ± 0.5 MeV>,\n",
       " <Particle: name=\"chi(b0)(2P)\", pdgid=110551, mass=10232.5 + 0.4 - 0.5 MeV>,\n",
       " <Particle: name=\"chi(b1)(2P)\", pdgid=120553, mass=10255.46 + 0.20 - 0.50 MeV>,\n",
       " <Particle: name=\"Upsilon(3S)\", pdgid=200553, mass=10355.2 ± 0.5 MeV>,\n",
       " <Particle: name=\"Xi(1690)-\", pdgid=203312, mass=1690 ± 10 MeV>,\n",
       " <Particle: name=\"Xi(1690)~+\", pdgid=-203312, mass=1690 ± 10 MeV>,\n",
       " <Particle: name=\"Xi(2030)-\", pdgid=203316, mass=2025 ± 5 MeV>,\n",
       " <Particle: name=\"Xi(2030)~+\", pdgid=-203316, mass=2025 ± 5 MeV>,\n",
       " <Particle: name=\"Xi(1690)0\", pdgid=203322, mass=1690 ± 10 MeV>,\n",
       " <Particle: name=\"Xi(1690)~0\", pdgid=-203322, mass=1690 ± 10 MeV>,\n",
       " <Particle: name=\"Xi(2030)0\", pdgid=203326, mass=2025 ± 5 MeV>,\n",
       " <Particle: name=\"Xi(2030)~0\", pdgid=-203326, mass=2025 ± 5 MeV>,\n",
       " <Particle: name=\"Omega(2250)-\", pdgid=203338, mass=2252 ± 9 MeV>,\n",
       " <Particle: name=\"Omega(2250)~+\", pdgid=-203338, mass=2252 ± 9 MeV>,\n",
       " <Particle: name=\"Lambda(c)(2880)+\", pdgid=204126, mass=2881.63 ± 0.24 MeV>,\n",
       " <Particle: name=\"Lambda(c)(2880)~-\", pdgid=-204126, mass=2881.63 ± 0.24 MeV>,\n",
       " <Particle: name=\"Upsilon(4S)\", pdgid=300553, mass=10579.4 ± 1.2 MeV>,\n",
       " <Particle: name=\"omega(1420)\", pdgid=1000223, mass=1425 ± 25 MeV>,\n",
       " <Particle: name=\"a(0)(980)0\", pdgid=9000111, mass=980 ± 20 MeV>,\n",
       " <Particle: name=\"pi(1)(1400)\", pdgid=9000113, mass=1354 ± 25 MeV>,\n",
       " <Particle: name=\"a(2)(1700)0\", pdgid=9000115, mass=1700 ± 40 MeV>,\n",
       " <Particle: name=\"a(0)(980)+\", pdgid=9000211, mass=980 ± 20 MeV>,\n",
       " <Particle: name=\"a(0)(980)-\", pdgid=-9000211, mass=980 ± 20 MeV>,\n",
       " <Particle: name=\"pi(1)(1400)+\", pdgid=9000213, mass=1354 ± 25 MeV>,\n",
       " <Particle: name=\"pi(1)(1400)-\", pdgid=-9000213, mass=1354 ± 25 MeV>,\n",
       " <Particle: name=\"a(2)(1700)+\", pdgid=9000215, mass=1700 ± 40 MeV>,\n",
       " <Particle: name=\"a(2)(1700)-\", pdgid=-9000215, mass=1700 ± 40 MeV>,\n",
       " <Particle: name=\"f(0)(500)\", pdgid=9000221, mass=475 ± 75 MeV>,\n",
       " <Particle: name=\"K(0)*(700)0\", pdgid=9000311, mass=824 ± 30 MeV>,\n",
       " <Particle: name=\"K(0)*(700)~0\", pdgid=-9000311, mass=824 ± 30 MeV>,\n",
       " <Particle: name=\"K(0)*(700)+\", pdgid=9000321, mass=824 ± 30 MeV>,\n",
       " <Particle: name=\"K(0)*(700)-\", pdgid=-9000321, mass=824 ± 30 MeV>,\n",
       " <Particle: name=\"psi(4040)\", pdgid=9000443, mass=4039.0 ± 1.0 MeV>,\n",
       " <Particle: name=\"Upsilon(10860)\", pdgid=9000553, mass=10890 + 3 - 3 MeV>,\n",
       " <Particle: name=\"pi(1800)0\", pdgid=9010111, mass=1810 + 9 - 11 MeV>,\n",
       " <Particle: name=\"pi(1)(1600)\", pdgid=9010113, mass=1660 + 15 - 11 MeV>,\n",
       " <Particle: name=\"pi(1800)+\", pdgid=9010211, mass=1810 + 9 - 11 MeV>,\n",
       " <Particle: name=\"pi(1800)-\", pdgid=-9010211, mass=1810 + 9 - 11 MeV>,\n",
       " <Particle: name=\"pi(1)(1600)+\", pdgid=9010213, mass=1660 + 15 - 11 MeV>,\n",
       " <Particle: name=\"pi(1)(1600)-\", pdgid=-9010213, mass=1660 + 15 - 11 MeV>,\n",
       " <Particle: name=\"f(0)(980)\", pdgid=9010221, mass=990 ± 20 MeV>,\n",
       " <Particle: name=\"psi(4160)\", pdgid=9010443, mass=4191 ± 5 MeV>,\n",
       " <Particle: name=\"Upsilon(11020)\", pdgid=9010553, mass=10993 + 10 - 3 MeV>,\n",
       " <Particle: name=\"a(1)(1640)0\", pdgid=9020113, mass=1655 ± 16 MeV>,\n",
       " <Particle: name=\"a(1)(1640)+\", pdgid=9020213, mass=1655 ± 16 MeV>,\n",
       " <Particle: name=\"a(1)(1640)-\", pdgid=-9020213, mass=1655 ± 16 MeV>,\n",
       " <Particle: name=\"eta(1405)\", pdgid=9020221, mass=1408.8 ± 2.0 MeV>,\n",
       " <Particle: name=\"psi(4415)\", pdgid=9020443, mass=4421 ± 4 MeV>,\n",
       " <Particle: name=\"f(0)(1500)\", pdgid=9030221, mass=1506 ± 6 MeV>,\n",
       " <Particle: name=\"f(2)(1950)\", pdgid=9050225, mass=1936 ± 12 MeV>,\n",
       " <Particle: name=\"f(2)(2010)\", pdgid=9060225, mass=2010 + 60 - 80 MeV>,\n",
       " <Particle: name=\"f(2)(2300)\", pdgid=9080225, mass=2297 ± 28 MeV>,\n",
       " <Particle: name=\"f(2)(2340)\", pdgid=9090225, mass=2350 + 50 - 40 MeV>]"
      ]
     },
     "execution_count": 36,
     "metadata": {},
     "output_type": "execute_result"
    }
   ],
   "source": [
    "print('# of particles in loaded data table:', len(Particle.all()))\n",
    "Particle.all()"
   ]
  },
  {
   "cell_type": "markdown",
   "metadata": {
    "slideshow": {
     "slide_type": "subslide"
    }
   },
   "source": [
    "#### Particle properties\n",
    "\n",
    "You can do things to particles, like **invert** them:"
   ]
  },
  {
   "cell_type": "code",
   "execution_count": 37,
   "metadata": {},
   "outputs": [
    {
     "data": {
      "text/latex": [
       "$D_{2}^{*}(2460)^{+}$"
      ],
      "text/plain": [
       "<Particle: name=\"D(2)*(2460)+\", pdgid=415, mass=2465.4 ± 1.3 MeV>"
      ]
     },
     "execution_count": 37,
     "metadata": {},
     "output_type": "execute_result"
    }
   ],
   "source": [
    "~p"
   ]
  },
  {
   "cell_type": "markdown",
   "metadata": {
    "slideshow": {
     "slide_type": "subslide"
    }
   },
   "source": [
    "There are a plethora of properties you can access:"
   ]
  },
  {
   "cell_type": "code",
   "execution_count": 38,
   "metadata": {},
   "outputs": [
    {
     "data": {
      "text/plain": [
       "<SpinType.Tensor: 3>"
      ]
     },
     "execution_count": 38,
     "metadata": {},
     "output_type": "execute_result"
    }
   ],
   "source": [
    "p.spin_type"
   ]
  },
  {
   "cell_type": "markdown",
   "metadata": {
    "slideshow": {
     "slide_type": "subslide"
    }
   },
   "source": [
    "You can quickly access the PDGID of a particle:"
   ]
  },
  {
   "cell_type": "code",
   "execution_count": 39,
   "metadata": {},
   "outputs": [
    {
     "data": {
      "text/plain": [
       "<PDGID: -415>"
      ]
     },
     "execution_count": 39,
     "metadata": {},
     "output_type": "execute_result"
    }
   ],
   "source": [
    "p.pdgid"
   ]
  },
  {
   "cell_type": "code",
   "execution_count": 40,
   "metadata": {},
   "outputs": [
    {
     "data": {
      "text/plain": [
       "<PDGID: -415>"
      ]
     },
     "execution_count": 40,
     "metadata": {},
     "output_type": "execute_result"
    }
   ],
   "source": [
    "PDGID(p)"
   ]
  },
  {
   "cell_type": "markdown",
   "metadata": {
    "slideshow": {
     "slide_type": "slide"
    }
   },
   "source": [
    "### 4. Literals\n",
    "\n",
    "They provide a <span style=\"color:green\">handy way to manipulate things with human-readable names!</span>\n",
    "\n",
    "Package defines <span style=\"color:green\">literals for most common particles</span>, with easily recognisable names.\n",
    "- Literals are dynamically generated on import for both `PDGID` and `Particle` classes."
   ]
  },
  {
   "cell_type": "markdown",
   "metadata": {
    "slideshow": {
     "slide_type": "subslide"
    }
   },
   "source": [
    "**PDGID literals**"
   ]
  },
  {
   "cell_type": "code",
   "execution_count": 41,
   "metadata": {},
   "outputs": [],
   "source": [
    "from particle.pdgid import literals as lid"
   ]
  },
  {
   "cell_type": "code",
   "execution_count": 42,
   "metadata": {},
   "outputs": [
    {
     "data": {
      "text/plain": [
       "<PDGID: 333>"
      ]
     },
     "execution_count": 42,
     "metadata": {},
     "output_type": "execute_result"
    }
   ],
   "source": [
    "lid.phi_1020"
   ]
  },
  {
   "cell_type": "markdown",
   "metadata": {
    "slideshow": {
     "slide_type": "subslide"
    }
   },
   "source": [
    "**Particle literals**"
   ]
  },
  {
   "cell_type": "code",
   "execution_count": 43,
   "metadata": {},
   "outputs": [],
   "source": [
    "from particle.particle import literals as lpart"
   ]
  },
  {
   "cell_type": "code",
   "execution_count": 44,
   "metadata": {},
   "outputs": [
    {
     "data": {
      "text/latex": [
       "$\\phi(1020)$"
      ],
      "text/plain": [
       "<Particle: name=\"phi(1020)\", pdgid=333, mass=1019.461 ± 0.016 MeV>"
      ]
     },
     "execution_count": 44,
     "metadata": {},
     "output_type": "execute_result"
    }
   ],
   "source": [
    "lpart.phi_1020"
   ]
  },
  {
   "cell_type": "markdown",
   "metadata": {
    "slideshow": {
     "slide_type": "slide"
    }
   },
   "source": [
    "### 5. Data files, stored in `particle/data/`\n",
    "\n",
    "- <b>PDG particle data files</b>\n",
    "  - Original PDG data files, which are in a fixed-width format\n",
    "  - Code uses “digested forms” of these, stored as CSV, for optimised querying\n",
    "  - Latest PDG data (2019) used by default\n",
    "  - Advanced usage: user can load older PDG table, load a “user table” with new particles, append to default table\n",
    "\n",
    "- <b>Other data files</b>\n",
    "  - CSV file for mapping of PDG IDs to particle LaTeX names"
   ]
  },
  {
   "cell_type": "markdown",
   "metadata": {
    "slideshow": {
     "slide_type": "subslide"
    }
   },
   "source": [
    "#### Dump table contents\n",
    "\n",
    "The `Particle.dump_table(...)` method is rather flexible.\n",
    "\n",
    "(No need to dig into the package installation directory to inspect the particle data table ;-).)"
   ]
  },
  {
   "cell_type": "code",
   "execution_count": 45,
   "metadata": {},
   "outputs": [
    {
     "name": "stdout",
     "output_type": "stream",
     "text": [
      "Help on method dump_table in module particle.particle.particle:\n",
      "\n",
      "dump_table(exclusive_fields=[], exclude_fields=[], n_rows=-1, filter_fn=None, filename=None, tablefmt='simple', floatfmt='.12g', numalign='decimal') method of builtins.type instance\n",
      "    Dump the internal particle data CSV table,\n",
      "    loading it from the default location if no table has yet been loaded.\n",
      "    \n",
      "    The table attributes are those of the class. By default all attributes\n",
      "    are used as table fields. Their complete list is:\n",
      "        pdgid\n",
      "        pdg_name\n",
      "        mass\n",
      "        mass_upper\n",
      "        mass_lower\n",
      "        width\n",
      "        width_upper\n",
      "        width_lower\n",
      "        three_charge\n",
      "        I\n",
      "        G\n",
      "        P\n",
      "        C\n",
      "        anti_flag\n",
      "        rank\n",
      "        status\n",
      "        quarks\n",
      "        latex_name\n",
      "    \n",
      "    Optionally dump to a file.\n",
      "    \n",
      "    Parameters\n",
      "    ----------\n",
      "    exclusive_fields: list, optional, default is []\n",
      "        Exclusive list of fields to print out.\n",
      "    exclude_fields: list, optional, default is []\n",
      "        List of table fields to exclude in the printout.\n",
      "        Relevant only when exclusive_fields is not given.\n",
      "    n_rows: int, optional, defaults to all rows\n",
      "        Number of table rows to print out.\n",
      "    filter_fn: function, optional, default is None\n",
      "        Apply a filter to each particle.\n",
      "        See findall(...) for typical use cases.\n",
      "    filename: str, optional, default is None\n",
      "        Name of file where to dump the table.\n",
      "        By default the table is dumped to stdout.\n",
      "    tablefmt: str, optional, default is 'simple'\n",
      "        Table formatting option, see the tabulate's package\n",
      "        tabulate function for a description of available options.\n",
      "        The most common options are:\n",
      "        'plain', 'simple', 'grid', 'rst', 'html', 'latex'.\n",
      "    floatfmt: str, optional, default is '.12g'\n",
      "        Number formatting, see the tabulate's package\n",
      "        tabulate function for a description of available options.\n",
      "    numalign: str or None, oprional, default is 'decimal'\n",
      "        Column alignment for numbers, see the tabulate's package\n",
      "        tabulate function for a description of available options.\n",
      "    \n",
      "    Note\n",
      "    ----\n",
      "    Uses the `tabulate` package.\n",
      "    \n",
      "    Examples\n",
      "    --------\n",
      "    Particle.dump_table()\n",
      "    Particle.dump_table(n_rows=5)\n",
      "    Particle.dump_table(exclusive_fields=['pdgid', 'pdg_name'])\n",
      "    Particle.dump_table(filter_fn=lambda p: p.pdgid.has_bottom)\n",
      "    Particle.dump_table(filename='output.txt', tablefmt='rst')\n",
      "\n"
     ]
    }
   ],
   "source": [
    "help(Particle.dump_table)"
   ]
  },
  {
   "cell_type": "code",
   "execution_count": 46,
   "metadata": {
    "slideshow": {
     "slide_type": "subslide"
    }
   },
   "outputs": [
    {
     "name": "stdout",
     "output_type": "stream",
     "text": [
      "  pdgid  pdg_name       mass    mass_upper    mass_lower    three_charge\n",
      "-------  ----------  -------  ------------  ------------  --------------\n",
      "      1  d              4.67           0.5           0.2              -1\n",
      "     -1  d              4.67           0.5           0.2               1\n",
      "      2  u              2.16           0.5           0.3               2\n",
      "     -2  u              2.16           0.5           0.3              -2\n",
      "      3  s             93             11             5                -1\n",
      "     -3  s             93             11             5                 1\n",
      "      4  c           1270             20            20                 2\n",
      "     -4  c           1270             20            20                -2\n",
      "      5  b           4180             30            20                -1\n",
      "     -5  b           4180             30            20                 1\n"
     ]
    }
   ],
   "source": [
    "fields = ['pdgid', 'pdg_name', 'mass', 'mass_upper', 'mass_lower', 'three_charge']\n",
    "    \n",
    "Particle.dump_table(exclusive_fields=fields, n_rows=10)"
   ]
  },
  {
   "cell_type": "markdown",
   "metadata": {
    "slideshow": {
     "slide_type": "subslide"
    }
   },
   "source": [
    "Table with all b-flavoured hadrons (in _reStructuredText_ format):"
   ]
  },
  {
   "cell_type": "code",
   "execution_count": 47,
   "metadata": {
    "scrolled": false
   },
   "outputs": [
    {
     "name": "stdout",
     "output_type": "stream",
     "text": [
      "=======  ==============  =========  ============  ============  ==============\n",
      "  pdgid  pdg_name             mass    mass_upper    mass_lower    three_charge\n",
      "=======  ==============  =========  ============  ============  ==============\n",
      "    511  B                5279.64           0.13          0.13               0\n",
      "   -511  B                5279.64           0.13          0.13               0\n",
      "    513  B*               5324.7            0.22          0.22               0\n",
      "   -513  B*               5324.7            0.22          0.22               0\n",
      "    515  B(2)*(5747)      5739.5            0.7           0.7                0\n",
      "   -515  B(2)*(5747)      5739.5            0.7           0.7                0\n",
      "    521  B                5279.33           0.13          0.13               3\n",
      "   -521  B                5279.33           0.13          0.13              -3\n",
      "    523  B*               5324.7            0.22          0.22               3\n",
      "   -523  B*               5324.7            0.22          0.22              -3\n",
      "    525  B(2)*(5747)      5739.5            0.7           0.7                3\n",
      "   -525  B(2)*(5747)      5739.5            0.7           0.7               -3\n",
      "    531  B(s)             5366.88           0.17          0.17               0\n",
      "   -531  B(s)             5366.88           0.17          0.17               0\n",
      "    533  B(s)*            5415.4            1.8           1.5                0\n",
      "   -533  B(s)*            5415.4            1.8           1.5                0\n",
      "    535  B(s2)*(5840)     5839.85           0.12          0.12               0\n",
      "   -535  B(s2)*(5840)     5839.85           0.12          0.12               0\n",
      "    541  B(c)             6274.9            0.8           0.8                3\n",
      "   -541  B(c)             6274.9            0.8           0.8               -3\n",
      "    553  Upsilon(1S)      9460.3            0.26          0.26               0\n",
      "    555  chi(b2)(1P)      9912.21           0.3           0.3                0\n",
      "   5112  Sigma(b)         5815.64           0.27          0.27              -3\n",
      "  -5112  Sigma(b)         5815.64           0.27          0.27               3\n",
      "   5114  Sigma(b)*        5834.74           0.3           0.3               -3\n",
      "  -5114  Sigma(b)*        5834.74           0.3           0.3                3\n",
      "   5122  Lambda(b)        5619.6            0.17          0.17               0\n",
      "  -5122  Lambda(b)        5619.6            0.17          0.17               0\n",
      "   5132  Xi(b)            5797              0.9           0.9               -3\n",
      "  -5132  Xi(b)            5797              0.9           0.9                3\n",
      "   5222  Sigma(b)         5810.56           0.25          0.25               3\n",
      "  -5222  Sigma(b)         5810.56           0.25          0.25              -3\n",
      "   5224  Sigma(b)*        5830.32           0.27          0.27               3\n",
      "  -5224  Sigma(b)*        5830.32           0.27          0.27              -3\n",
      "   5232  Xi(b)            5791.9            0.5           0.5                0\n",
      "  -5232  Xi(b)            5791.9            0.5           0.5                0\n",
      "   5332  Omega(b)         6046.1            1.7           1.7               -3\n",
      "  -5332  Omega(b)         6046.1            1.7           1.7                3\n",
      "  10551  chi(b0)(1P)      9859.4            0.5           0.5                0\n",
      "  10553  h(b)(1P)         9899.3            0.8           0.8                0\n",
      "  20553  chi(b1)(1P)      9892.878          0.3           0.3                0\n",
      "  20555  Upsilon(2)(1D)  10163.7            1.4           1.4                0\n",
      " 100553  Upsilon(2S)     10023.26           0.31          0.31               0\n",
      " 100555  chi(b2)(2P)     10268.65           0.2           0.5                0\n",
      " 110551  chi(b0)(2P)     10232.5            0.4           0.5                0\n",
      " 120553  chi(b1)(2P)     10255.46           0.2           0.5                0\n",
      " 200553  Upsilon(3S)     10355.2            0.5           0.5                0\n",
      " 300553  Upsilon(4S)     10579.4            1.2           1.2                0\n",
      "9000553  Upsilon(10860)  10889.9            3.2           2.6                0\n",
      "9010553  Upsilon(11020)  10992.9           10             3.1                0\n",
      "=======  ==============  =========  ============  ============  ==============\n"
     ]
    }
   ],
   "source": [
    "Particle.dump_table(filter_fn=lambda p: p.pdgid.has_bottom, exclusive_fields=fields, tablefmt='rst')"
   ]
  },
  {
   "cell_type": "markdown",
   "metadata": {
    "slideshow": {
     "slide_type": "slide"
    }
   },
   "source": [
    "### 6. Advanced usage\n",
    "\n",
    "You can:\n",
    "\n",
    "* Extend or replace the default particle data table in `Particle`.\n",
    "* Adjust properties for a particle.\n",
    "* Make custom particles."
   ]
  },
  {
   "cell_type": "markdown",
   "metadata": {
    "slideshow": {
     "slide_type": "slide"
    }
   },
   "source": [
    "<center><img src=\"images/DecayLanguage_logo.png\" alt=\"DecayLanguage package logo\" style=\"width: 200px;\"/></center>\n",
    "\n",
    "<h2><center><span style=\"color:green\">Decays and decay chains with the <i>DecayLanguage</i> package</span></center></h2>\n",
    "\n",
    "`DecayLanguage` is designed for the manipulation of decay structures in Python. The current package has:\n",
    "\n",
    "- Amplitude Analysis decay language:\n",
    "  - Input based on AmpGen generator, output format for GooFit C++\n",
    "- Decay file parsers:\n",
    "  - Read DecFiles, such as the LHCb master DecFile\n",
    "  - Manipulate adn visualize them in Python"
   ]
  },
  {
   "cell_type": "markdown",
   "metadata": {
    "slideshow": {
     "slide_type": "slide"
    }
   },
   "source": [
    "### Package motivation\n",
    "\n",
    "- Ability to describe decay-tree-like structures\n",
    "- Provide a translation of decay amplitude models from AmpGen to GooFit\n",
    "  - Idea is to generalise this to other decay descriptions\n",
    "\n",
    " - Any experiment uses event generators which, among many things, need to describe particle decay chains\n",
    " - Programs such as EvtGen rely on so-called .dec decay files\n",
    " - Many experiments need decay data files\n",
    " - Why not make a Python package to deal with decay files, for everyone?"
   ]
  },
  {
   "cell_type": "markdown",
   "metadata": {
    "slideshow": {
     "slide_type": "slide"
    }
   },
   "source": [
    "### Package, in short\n",
    "\n",
    "- Tools to parse decay files and programmatically manipulate them, query, display information.\n",
    "  - Descriptions and parsing built atop the [Lark parser](https://github.com/lark-parser/lark/).\n",
    "- Tools to translate decay amplitude models from AmpGen to GooFit, and manipulate them."
   ]
  },
  {
   "cell_type": "markdown",
   "metadata": {
    "slideshow": {
     "slide_type": "slide"
    }
   },
   "source": [
    "### 1. Decay files\n",
    "\n",
    "#### *Master file” DECAY.DEC\n",
    "\n",
    "<span style=\"color:green\">Gigantic file defining decay modes for all relevant particles, including decay model specifications.</span>\n",
    "\n",
    "#### User .dec files\n",
    "- Needed to produce specific MC samples.\n",
    "- Typically contain a single decay chain (except if defining inclusive samples)."
   ]
  },
  {
   "cell_type": "markdown",
   "metadata": {
    "slideshow": {
     "slide_type": "subslide"
    }
   },
   "source": [
    "**Example user decay file:**\n",
    "\n",
    "<small>\n",
    "<pre>\n",
    "# Decay file for [B_c+ -> (B_s0 -> K+ K-) pi+]cc\n",
    "\n",
    "Alias      B_c+sig        B_c+\n",
    "Alias      B_c-sig        B_c-\n",
    "ChargeConj B_c+sig        B_c-sig\n",
    "Alias      MyB_s0         B_s0\n",
    "Alias      Myanti-B_s0    anti-B_s0\n",
    "ChargeConj MyB_s0         Myanti-B_s0\n",
    "\n",
    "Decay B_c+sig\n",
    "  1.000     MyB_s0     pi+     PHOTOS PHSP;\n",
    "Enddecay\n",
    "CDecay B_c-sig\n",
    "\n",
    "Decay MyB_s0\n",
    "    1.000     K+     K-     SSD_CP 20.e12 0.1 1.0 0.04 9.6 -0.8 8.4 -0.6;\n",
    "Enddecay\n",
    "CDecay Myanti-B_s0\n",
    "</pre>\n",
    "</small>"
   ]
  },
  {
   "cell_type": "markdown",
   "metadata": {
    "slideshow": {
     "slide_type": "slide"
    }
   },
   "source": [
    "### 2. Decay file parsing\n",
    "\n",
    "- **Parsing should be simple**\n",
    "  - Expert users can configure parser choice and settings, etc. \n",
    "- **Parsing should be (reasonably) fast!**\n",
    "\n",
    "After parsing, many queries are possible!"
   ]
  },
  {
   "cell_type": "code",
   "execution_count": 48,
   "metadata": {
    "slideshow": {
     "slide_type": "subslide"
    }
   },
   "outputs": [],
   "source": [
    "from decaylanguage import DecFileParser"
   ]
  },
  {
   "cell_type": "markdown",
   "metadata": {},
   "source": [
    "#### The LHCb \"master decay file\"\n",
    "\n",
    "It's a big file! ~ 450 particle decays defined, thousands of decay modes, over 11k lines in total."
   ]
  },
  {
   "cell_type": "code",
   "execution_count": 49,
   "metadata": {},
   "outputs": [],
   "source": [
    "dfp = DecFileParser('data/DECAY_LHCB.DEC')"
   ]
  },
  {
   "cell_type": "code",
   "execution_count": 50,
   "metadata": {},
   "outputs": [
    {
     "name": "stdout",
     "output_type": "stream",
     "text": [
      "Wall time: 2.37 s\n"
     ]
    }
   ],
   "source": [
    "%%time\n",
    "dfp.parse()"
   ]
  },
  {
   "cell_type": "code",
   "execution_count": 51,
   "metadata": {},
   "outputs": [
    {
     "data": {
      "text/plain": [
       "<DecFileParser: decfile(s)=['data/DECAY_LHCB.DEC'], n_decays=506>"
      ]
     },
     "execution_count": 51,
     "metadata": {},
     "output_type": "execute_result"
    }
   ],
   "source": [
    "dfp"
   ]
  },
  {
   "cell_type": "markdown",
   "metadata": {
    "slideshow": {
     "slide_type": "subslide"
    }
   },
   "source": [
    "Let's parse and play with a small decay file:"
   ]
  },
  {
   "cell_type": "code",
   "execution_count": 53,
   "metadata": {},
   "outputs": [
    {
     "name": "stdout",
     "output_type": "stream",
     "text": [
      "# Example decay chain for testing purposes\n",
      "# Considered by itself, this file in in fact incomplete,\n",
      "# as there are no instructions on how to decay the anti-D0 and the D-!\n",
      "\n",
      "Decay D*+\n",
      "0.6770    D0  pi+                    VSS;\n",
      "0.3070    D+  pi0                    VSS;\n",
      "0.0160    D+  gamma                  VSP_PWAVE;\n",
      "Enddecay\n",
      "\n",
      "Decay D*-\n",
      "0.6770    anti-D0  pi-                VSS;\n",
      "0.3070    D-       pi0                VSS;\n",
      "0.0160    D-       gamma              VSP_PWAVE;\n",
      "Enddecay\n",
      "\n",
      "Decay D0\n",
      "1.0   K-      pi+                  PHSP;\n",
      "Enddecay\n",
      "\n",
      "Decay D+\n",
      "1.0   K-   pi+   pi+   pi0    PHSP;\n",
      "Enddecay\n",
      "\n",
      "Decay pi0\n",
      "0.988228297   gamma   gamma                   PHSP;\n",
      "0.011738247   e+      e-      gamma           PI0_DALITZ;\n",
      "0.000033392   e+      e+      e-      e-      PHSP;\n",
      "0.000000065   e+      e-                      PHSP;\n",
      "Enddecay\n",
      "\n"
     ]
    }
   ],
   "source": [
    "with open('data/Dst.dec') as f:\n",
    "    print(f.read())"
   ]
  },
  {
   "cell_type": "code",
   "execution_count": 54,
   "metadata": {
    "slideshow": {
     "slide_type": "subslide"
    }
   },
   "outputs": [
    {
     "data": {
      "text/plain": [
       "<DecFileParser: decfile(s)=['data/Dst.dec']>"
      ]
     },
     "execution_count": 54,
     "metadata": {},
     "output_type": "execute_result"
    }
   ],
   "source": [
    "dfp_Dst = DecFileParser('data/Dst.dec')\n",
    "dfp_Dst"
   ]
  },
  {
   "cell_type": "code",
   "execution_count": 55,
   "metadata": {},
   "outputs": [
    {
     "data": {
      "text/plain": [
       "<DecFileParser: decfile(s)=['data/Dst.dec'], n_decays=5>"
      ]
     },
     "execution_count": 55,
     "metadata": {},
     "output_type": "execute_result"
    }
   ],
   "source": [
    "dfp_Dst.parse()\n",
    "dfp_Dst"
   ]
  },
  {
   "cell_type": "markdown",
   "metadata": {
    "slideshow": {
     "slide_type": "subslide"
    }
   },
   "source": [
    "It can be handy to **parse from a multi-line string** rather than a file:"
   ]
  },
  {
   "cell_type": "code",
   "execution_count": 56,
   "metadata": {},
   "outputs": [],
   "source": [
    "s = \"\"\"\n",
    "# Decay file for [B_c+ -> (B_s0 -> K+ K-) pi+]cc\n",
    "\n",
    "Alias      B_c+sig        B_c+\n",
    "Alias      B_c-sig        B_c-\n",
    "ChargeConj B_c+sig        B_c-sig\n",
    "Alias      MyB_s0         B_s0\n",
    "Alias      Myanti-B_s0    anti-B_s0\n",
    "ChargeConj MyB_s0         Myanti-B_s0\n",
    "\n",
    "Decay B_c+sig\n",
    "  1.000     MyB_s0     pi+     PHOTOS PHSP;\n",
    "Enddecay\n",
    "CDecay B_c-sig\n",
    "\n",
    "Decay MyB_s0\n",
    "    1.000     K+     K-     SSD_CP 20.e12 0.1 1.0 0.04 9.6 -0.8 8.4 -0.6;\n",
    "Enddecay\n",
    "CDecay Myanti-B_s0\n",
    "\"\"\""
   ]
  },
  {
   "cell_type": "code",
   "execution_count": 58,
   "metadata": {
    "slideshow": {
     "slide_type": "subslide"
    }
   },
   "outputs": [
    {
     "data": {
      "text/plain": [
       "<DecFileParser: decfile(s)=<dec file input as a string>, n_decays=4>"
      ]
     },
     "execution_count": 58,
     "metadata": {},
     "output_type": "execute_result"
    }
   ],
   "source": [
    "dfp = DecFileParser.from_string(s)\n",
    "dfp.parse()\n",
    "dfp"
   ]
  },
  {
   "cell_type": "markdown",
   "metadata": {
    "slideshow": {
     "slide_type": "subslide"
    }
   },
   "source": [
    "#### Decay file information"
   ]
  },
  {
   "cell_type": "code",
   "execution_count": 59,
   "metadata": {},
   "outputs": [
    {
     "name": "stdout",
     "output_type": "stream",
     "text": [
      "       0.677 : D0  pi+                                                        VSS \n",
      "       0.307 : D+  pi0                                                        VSS \n",
      "       0.016 : D+  gamma                                                VSP_PWAVE \n"
     ]
    }
   ],
   "source": [
    "dfp_Dst.print_decay_modes('D*+')"
   ]
  },
  {
   "cell_type": "code",
   "execution_count": 60,
   "metadata": {},
   "outputs": [
    {
     "data": {
      "text/plain": [
       "['D*+', 'D*-', 'D0', 'D+', 'pi0']"
      ]
     },
     "execution_count": 60,
     "metadata": {},
     "output_type": "execute_result"
    }
   ],
   "source": [
    "dfp_Dst.list_decay_mother_names()"
   ]
  },
  {
   "cell_type": "code",
   "execution_count": 61,
   "metadata": {},
   "outputs": [
    {
     "data": {
      "text/plain": [
       "[['D0', 'pi+'], ['D+', 'pi0'], ['D+', 'gamma']]"
      ]
     },
     "execution_count": 61,
     "metadata": {},
     "output_type": "execute_result"
    }
   ],
   "source": [
    "dfp_Dst.list_decay_modes('D*+')"
   ]
  },
  {
   "cell_type": "markdown",
   "metadata": {
    "slideshow": {
     "slide_type": "subslide"
    }
   },
   "source": [
    "#### Info such as particle aliases"
   ]
  },
  {
   "cell_type": "code",
   "execution_count": 62,
   "metadata": {
    "scrolled": false
   },
   "outputs": [
    {
     "data": {
      "text/plain": [
       "{'B_c+sig': 'B_c+',\n",
       " 'B_c-sig': 'B_c-',\n",
       " 'MyB_s0': 'B_s0',\n",
       " 'Myanti-B_s0': 'anti-B_s0'}"
      ]
     },
     "execution_count": 62,
     "metadata": {},
     "output_type": "execute_result"
    }
   ],
   "source": [
    "dfp.dict_aliases()"
   ]
  },
  {
   "cell_type": "code",
   "execution_count": 63,
   "metadata": {},
   "outputs": [
    {
     "data": {
      "text/plain": [
       "{'B_c+sig': 'B_c-sig', 'MyB_s0': 'Myanti-B_s0'}"
      ]
     },
     "execution_count": 63,
     "metadata": {},
     "output_type": "execute_result"
    }
   ],
   "source": [
    "dfp.dict_charge_conjugates()"
   ]
  },
  {
   "cell_type": "markdown",
   "metadata": {
    "slideshow": {
     "slide_type": "slide"
    }
   },
   "source": [
    "### 3.  Display of decay chains\n",
    "\n",
    "The parser can provide a simple representation of any decay chain found in the input decay file(s)."
   ]
  },
  {
   "cell_type": "code",
   "execution_count": 64,
   "metadata": {},
   "outputs": [
    {
     "data": {
      "text/plain": [
       "{'D+': [{'bf': 1.0,\n",
       "   'fs': ['K-',\n",
       "    'pi+',\n",
       "    'pi+',\n",
       "    {'pi0': [{'bf': 0.988228297,\n",
       "       'fs': ['gamma', 'gamma'],\n",
       "       'm': 'PHSP',\n",
       "       'mp': ''},\n",
       "      {'bf': 0.011738247,\n",
       "       'fs': ['e+', 'e-', 'gamma'],\n",
       "       'm': 'PI0_DALITZ',\n",
       "       'mp': ''},\n",
       "      {'bf': 3.3392e-05,\n",
       "       'fs': ['e+', 'e+', 'e-', 'e-'],\n",
       "       'm': 'PHSP',\n",
       "       'mp': ''},\n",
       "      {'bf': 6.5e-08, 'fs': ['e+', 'e-'], 'm': 'PHSP', 'mp': ''}]}],\n",
       "   'm': 'PHSP',\n",
       "   'mp': ''}]}"
      ]
     },
     "execution_count": 64,
     "metadata": {},
     "output_type": "execute_result"
    }
   ],
   "source": [
    "dc = dfp_Dst.build_decay_chains('D+')\n",
    "dc"
   ]
  },
  {
   "cell_type": "code",
   "execution_count": 65,
   "metadata": {
    "slideshow": {
     "slide_type": "subslide"
    }
   },
   "outputs": [],
   "source": [
    "from decaylanguage import DecayChainViewer"
   ]
  },
  {
   "cell_type": "code",
   "execution_count": 66,
   "metadata": {
    "slideshow": {
     "slide_type": "-"
    }
   },
   "outputs": [
    {
     "data": {
      "image/svg+xml": [
       "<?xml version=\"1.0\" encoding=\"UTF-8\" standalone=\"no\"?>\r\n",
       "<!DOCTYPE svg PUBLIC \"-//W3C//DTD SVG 1.1//EN\"\r\n",
       " \"http://www.w3.org/Graphics/SVG/1.1/DTD/svg11.dtd\">\r\n",
       "<!-- Generated by graphviz version 2.38.0 (20140413.2041)\r\n",
       " -->\r\n",
       "<!-- Title: DecayChainGraph Pages: 1 -->\r\n",
       "<svg width=\"365pt\" height=\"206pt\"\r\n",
       " viewBox=\"0.00 0.00 365.33 206.00\" xmlns=\"http://www.w3.org/2000/svg\" xmlns:xlink=\"http://www.w3.org/1999/xlink\">\r\n",
       "<g id=\"graph0\" class=\"graph\" transform=\"scale(1 1) rotate(0) translate(4 202)\">\r\n",
       "<title>DecayChainGraph</title>\r\n",
       "<polygon fill=\"white\" stroke=\"none\" points=\"-4,4 -4,-202 361.331,-202 361.331,4 -4,4\"/>\r\n",
       "<!-- mother -->\r\n",
       "<g id=\"node1\" class=\"node\"><title>mother</title>\r\n",
       "<polygon fill=\"#568dba\" stroke=\"none\" points=\"13.5,-123 13.5,-147 40.5,-147 40.5,-123 13.5,-123\"/>\r\n",
       "<polygon fill=\"none\" stroke=\"black\" points=\"14,-123 14,-147 41,-147 41,-123 14,-123\"/>\r\n",
       "<text text-anchor=\"start\" x=\"20\" y=\"-133.2\" font-family=\"Helvetica,sans-Serif\" font-size=\"11.00\">D</text>\r\n",
       "<text text-anchor=\"start\" x=\"29\" y=\"-133.2\" font-family=\"Helvetica,sans-Serif\" baseline-shift=\"super\" font-size=\"11.00\">+</text>\r\n",
       "</g>\r\n",
       "<!-- dec0 -->\r\n",
       "<g id=\"node2\" class=\"node\"><title>dec0</title>\r\n",
       "<polygon fill=\"#9abad6\" stroke=\"none\" points=\"118,-87 118,-183 144,-183 144,-87 118,-87\"/>\r\n",
       "<polygon fill=\"none\" stroke=\"black\" points=\"118,-159 118,-183 144,-183 144,-159 118,-159\"/>\r\n",
       "<text text-anchor=\"start\" x=\"125\" y=\"-169.2\" font-family=\"Helvetica,sans-Serif\" font-size=\"11.00\">K</text>\r\n",
       "<text text-anchor=\"start\" x=\"133\" y=\"-169.2\" font-family=\"Helvetica,sans-Serif\" baseline-shift=\"super\" font-size=\"11.00\">&#45;</text>\r\n",
       "<polygon fill=\"none\" stroke=\"black\" points=\"118,-135 118,-159 144,-159 144,-135 118,-135\"/>\r\n",
       "<text text-anchor=\"start\" x=\"124\" y=\"-145.2\" font-family=\"Helvetica,sans-Serif\" font-size=\"11.00\">π</text>\r\n",
       "<text text-anchor=\"start\" x=\"132\" y=\"-145.2\" font-family=\"Helvetica,sans-Serif\" baseline-shift=\"super\" font-size=\"11.00\">+</text>\r\n",
       "<polygon fill=\"none\" stroke=\"black\" points=\"118,-111 118,-135 144,-135 144,-111 118,-111\"/>\r\n",
       "<text text-anchor=\"start\" x=\"124\" y=\"-121.2\" font-family=\"Helvetica,sans-Serif\" font-size=\"11.00\">π</text>\r\n",
       "<text text-anchor=\"start\" x=\"132\" y=\"-121.2\" font-family=\"Helvetica,sans-Serif\" baseline-shift=\"super\" font-size=\"11.00\">+</text>\r\n",
       "<polygon fill=\"none\" stroke=\"black\" points=\"118,-87 118,-111 144,-111 144,-87 118,-87\"/>\r\n",
       "<text text-anchor=\"start\" x=\"124\" y=\"-97.2\" font-family=\"Helvetica,sans-Serif\" font-size=\"11.00\">π</text>\r\n",
       "<text text-anchor=\"start\" x=\"132\" y=\"-97.2\" font-family=\"Helvetica,sans-Serif\" baseline-shift=\"super\" font-size=\"11.00\">0</text>\r\n",
       "</g>\r\n",
       "<!-- mother&#45;&gt;dec0 -->\r\n",
       "<g id=\"edge1\" class=\"edge\"><title>mother&#45;&gt;dec0</title>\r\n",
       "<path fill=\"none\" stroke=\"black\" d=\"M54.0028,-135C66.0187,-135 80.4941,-135 93.5735,-135\"/>\r\n",
       "<polygon fill=\"black\" stroke=\"black\" points=\"93.69,-138.5 103.69,-135 93.69,-131.5 93.69,-138.5\"/>\r\n",
       "<text text-anchor=\"middle\" x=\"79\" y=\"-138.2\" font-family=\"Times New Roman,serif\" font-size=\"11.00\" fill=\"#4c4c4c\">1.0</text>\r\n",
       "</g>\r\n",
       "<!-- dec1 -->\r\n",
       "<g id=\"node3\" class=\"node\"><title>dec1</title>\r\n",
       "<ellipse fill=\"#eef3f8\" stroke=\"black\" cx=\"303.666\" cy=\"-180\" rx=\"27\" ry=\"18\"/>\r\n",
       "<polygon fill=\"#eef3f8\" stroke=\"none\" points=\"293.666,-172 293.666,-188 313.666,-188 313.666,-172 293.666,-172\"/>\r\n",
       "<text text-anchor=\"start\" x=\"295.666\" y=\"-177.2\" font-family=\"Helvetica,sans-Serif\" font-size=\"11.00\">γ</text>\r\n",
       "<text text-anchor=\"start\" x=\"305.666\" y=\"-177.2\" font-family=\"Helvetica,sans-Serif\" font-size=\"11.00\">γ</text>\r\n",
       "</g>\r\n",
       "<!-- dec0&#45;&gt;dec1 -->\r\n",
       "<g id=\"edge2\" class=\"edge\"><title>dec0:p3&#45;&gt;dec1</title>\r\n",
       "<path fill=\"none\" stroke=\"black\" d=\"M145,-99C162.7,-99 160.887,-114.787 176,-124 206.219,-142.422 243.563,-158.173 269.849,-168.235\"/>\r\n",
       "<polygon fill=\"black\" stroke=\"black\" points=\"268.751,-171.561 279.343,-171.806 271.216,-165.009 268.751,-171.561\"/>\r\n",
       "<text text-anchor=\"middle\" x=\"204\" y=\"-154.2\" font-family=\"Times New Roman,serif\" font-size=\"11.00\" fill=\"#4c4c4c\">0.988228297</text>\r\n",
       "</g>\r\n",
       "<!-- dec2 -->\r\n",
       "<g id=\"node4\" class=\"node\"><title>dec2</title>\r\n",
       "<ellipse fill=\"#eef3f8\" stroke=\"black\" cx=\"303.666\" cy=\"-126\" rx=\"38.8154\" ry=\"18\"/>\r\n",
       "<polygon fill=\"#eef3f8\" stroke=\"none\" points=\"282.666,-118 282.666,-134 324.666,-134 324.666,-118 282.666,-118\"/>\r\n",
       "<text text-anchor=\"start\" x=\"284.666\" y=\"-124.2\" font-family=\"Helvetica,sans-Serif\" font-size=\"11.00\">e</text>\r\n",
       "<text text-anchor=\"start\" x=\"291.666\" y=\"-124.2\" font-family=\"Helvetica,sans-Serif\" baseline-shift=\"super\" font-size=\"11.00\">+</text>\r\n",
       "<text text-anchor=\"start\" x=\"301.666\" y=\"-124.2\" font-family=\"Helvetica,sans-Serif\" font-size=\"11.00\">e</text>\r\n",
       "<text text-anchor=\"start\" x=\"308.666\" y=\"-124.2\" font-family=\"Helvetica,sans-Serif\" baseline-shift=\"super\" font-size=\"11.00\">&#45;</text>\r\n",
       "<text text-anchor=\"start\" x=\"316.666\" y=\"-123.2\" font-family=\"Helvetica,sans-Serif\" font-size=\"11.00\">γ</text>\r\n",
       "</g>\r\n",
       "<!-- dec0&#45;&gt;dec2 -->\r\n",
       "<g id=\"edge3\" class=\"edge\"><title>dec0:p3&#45;&gt;dec2</title>\r\n",
       "<path fill=\"none\" stroke=\"black\" d=\"M145,-99C184.343,-99 228.425,-107.269 259.953,-114.654\"/>\r\n",
       "<polygon fill=\"black\" stroke=\"black\" points=\"259.185,-118.069 269.727,-117.009 260.825,-111.264 259.185,-118.069\"/>\r\n",
       "<text text-anchor=\"middle\" x=\"204\" y=\"-111.2\" font-family=\"Times New Roman,serif\" font-size=\"11.00\" fill=\"#4c4c4c\">0.011738247</text>\r\n",
       "</g>\r\n",
       "<!-- dec3 -->\r\n",
       "<g id=\"node5\" class=\"node\"><title>dec3</title>\r\n",
       "<ellipse fill=\"#eef3f8\" stroke=\"black\" cx=\"303.666\" cy=\"-72\" rx=\"53.8318\" ry=\"18\"/>\r\n",
       "<polygon fill=\"#eef3f8\" stroke=\"none\" points=\"271.666,-64 271.666,-80 335.666,-80 335.666,-64 271.666,-64\"/>\r\n",
       "<text text-anchor=\"start\" x=\"273.666\" y=\"-70.2\" font-family=\"Helvetica,sans-Serif\" font-size=\"11.00\">e</text>\r\n",
       "<text text-anchor=\"start\" x=\"280.666\" y=\"-70.2\" font-family=\"Helvetica,sans-Serif\" baseline-shift=\"super\" font-size=\"11.00\">+</text>\r\n",
       "<text text-anchor=\"start\" x=\"290.666\" y=\"-70.2\" font-family=\"Helvetica,sans-Serif\" font-size=\"11.00\">e</text>\r\n",
       "<text text-anchor=\"start\" x=\"297.666\" y=\"-70.2\" font-family=\"Helvetica,sans-Serif\" baseline-shift=\"super\" font-size=\"11.00\">+</text>\r\n",
       "<text text-anchor=\"start\" x=\"307.666\" y=\"-70.2\" font-family=\"Helvetica,sans-Serif\" font-size=\"11.00\">e</text>\r\n",
       "<text text-anchor=\"start\" x=\"314.666\" y=\"-70.2\" font-family=\"Helvetica,sans-Serif\" baseline-shift=\"super\" font-size=\"11.00\">&#45;</text>\r\n",
       "<text text-anchor=\"start\" x=\"322.666\" y=\"-70.2\" font-family=\"Helvetica,sans-Serif\" font-size=\"11.00\">e</text>\r\n",
       "<text text-anchor=\"start\" x=\"329.666\" y=\"-70.2\" font-family=\"Helvetica,sans-Serif\" baseline-shift=\"super\" font-size=\"11.00\">&#45;</text>\r\n",
       "</g>\r\n",
       "<!-- dec0&#45;&gt;dec3 -->\r\n",
       "<g id=\"edge4\" class=\"edge\"><title>dec0:p3&#45;&gt;dec3</title>\r\n",
       "<path fill=\"none\" stroke=\"black\" d=\"M145,-99C160.306,-99 161.259,-88.1203 176,-84 196.292,-78.3281 219.047,-75.217 239.613,-73.5457\"/>\r\n",
       "<polygon fill=\"black\" stroke=\"black\" points=\"240.101,-77.0198 249.827,-72.8165 239.603,-70.0376 240.101,-77.0198\"/>\r\n",
       "<text text-anchor=\"middle\" x=\"204\" y=\"-87.2\" font-family=\"Times New Roman,serif\" font-size=\"11.00\" fill=\"#4c4c4c\">3.3392e&#45;05</text>\r\n",
       "</g>\r\n",
       "<!-- dec4 -->\r\n",
       "<g id=\"node6\" class=\"node\"><title>dec4</title>\r\n",
       "<ellipse fill=\"#eef3f8\" stroke=\"black\" cx=\"303.666\" cy=\"-18\" rx=\"32.4\" ry=\"18\"/>\r\n",
       "<polygon fill=\"#eef3f8\" stroke=\"none\" points=\"287.666,-10 287.666,-26 319.666,-26 319.666,-10 287.666,-10\"/>\r\n",
       "<text text-anchor=\"start\" x=\"289.666\" y=\"-16.2\" font-family=\"Helvetica,sans-Serif\" font-size=\"11.00\">e</text>\r\n",
       "<text text-anchor=\"start\" x=\"296.666\" y=\"-16.2\" font-family=\"Helvetica,sans-Serif\" baseline-shift=\"super\" font-size=\"11.00\">+</text>\r\n",
       "<text text-anchor=\"start\" x=\"306.666\" y=\"-16.2\" font-family=\"Helvetica,sans-Serif\" font-size=\"11.00\">e</text>\r\n",
       "<text text-anchor=\"start\" x=\"313.666\" y=\"-16.2\" font-family=\"Helvetica,sans-Serif\" baseline-shift=\"super\" font-size=\"11.00\">&#45;</text>\r\n",
       "</g>\r\n",
       "<!-- dec0&#45;&gt;dec4 -->\r\n",
       "<g id=\"edge5\" class=\"edge\"><title>dec0:p3&#45;&gt;dec4</title>\r\n",
       "<path fill=\"none\" stroke=\"black\" d=\"M131,-86C131,-30.2186 210.316,-18.8516 261.12,-17.2922\"/>\r\n",
       "<polygon fill=\"black\" stroke=\"black\" points=\"261.249,-20.7905 271.18,-17.0983 261.114,-13.7918 261.249,-20.7905\"/>\r\n",
       "<text text-anchor=\"middle\" x=\"204\" y=\"-35.2\" font-family=\"Times New Roman,serif\" font-size=\"11.00\" fill=\"#4c4c4c\">6.5e&#45;08</text>\r\n",
       "</g>\r\n",
       "</g>\r\n",
       "</svg>\r\n"
      ],
      "text/plain": [
       "<decaylanguage.decay.viewer.DecayChainViewer at 0x211938d1a88>"
      ]
     },
     "execution_count": 66,
     "metadata": {},
     "output_type": "execute_result"
    }
   ],
   "source": [
    "DecayChainViewer(dc)"
   ]
  },
  {
   "cell_type": "code",
   "execution_count": 67,
   "metadata": {
    "slideshow": {
     "slide_type": "subslide"
    }
   },
   "outputs": [
    {
     "data": {
      "image/svg+xml": [
       "<?xml version=\"1.0\" encoding=\"UTF-8\" standalone=\"no\"?>\r\n",
       "<!DOCTYPE svg PUBLIC \"-//W3C//DTD SVG 1.1//EN\"\r\n",
       " \"http://www.w3.org/Graphics/SVG/1.1/DTD/svg11.dtd\">\r\n",
       "<!-- Generated by graphviz version 2.38.0 (20140413.2041)\r\n",
       " -->\r\n",
       "<!-- Title: DecayChainGraph Pages: 1 -->\r\n",
       "<svg width=\"601pt\" height=\"587pt\"\r\n",
       " viewBox=\"0.00 0.00 600.66 587.00\" xmlns=\"http://www.w3.org/2000/svg\" xmlns:xlink=\"http://www.w3.org/1999/xlink\">\r\n",
       "<g id=\"graph0\" class=\"graph\" transform=\"scale(1 1) rotate(0) translate(4 583)\">\r\n",
       "<title>DecayChainGraph</title>\r\n",
       "<polygon fill=\"white\" stroke=\"none\" points=\"-4,4 -4,-583 596.663,-583 596.663,4 -4,4\"/>\r\n",
       "<!-- mother -->\r\n",
       "<g id=\"node1\" class=\"node\"><title>mother</title>\r\n",
       "<polygon fill=\"#568dba\" stroke=\"none\" points=\"8,-331 8,-355 71,-355 71,-331 8,-331\"/>\r\n",
       "<polygon fill=\"none\" stroke=\"black\" points=\"8.5,-331 8.5,-355 71.5,-355 71.5,-331 8.5,-331\"/>\r\n",
       "<text text-anchor=\"start\" x=\"14.5\" y=\"-341.2\" font-family=\"Helvetica,sans-Serif\" font-size=\"11.00\">D</text>\r\n",
       "<text text-anchor=\"start\" x=\"23.5\" y=\"-341.2\" font-family=\"Helvetica,sans-Serif\" baseline-shift=\"super\" font-size=\"11.00\">*</text>\r\n",
       "<text text-anchor=\"start\" x=\"27.5\" y=\"-341.2\" font-family=\"Helvetica,sans-Serif\" font-size=\"11.00\">(2010)</text>\r\n",
       "<text text-anchor=\"start\" x=\"59.5\" y=\"-341.2\" font-family=\"Helvetica,sans-Serif\" baseline-shift=\"super\" font-size=\"11.00\">+</text>\r\n",
       "</g>\r\n",
       "<!-- dec5 -->\r\n",
       "<g id=\"node2\" class=\"node\"><title>dec5</title>\r\n",
       "<polygon fill=\"#9abad6\" stroke=\"none\" points=\"153.5,-459 153.5,-507 180.5,-507 180.5,-459 153.5,-459\"/>\r\n",
       "<polygon fill=\"none\" stroke=\"black\" points=\"154,-483 154,-507 181,-507 181,-483 154,-483\"/>\r\n",
       "<text text-anchor=\"start\" x=\"160\" y=\"-493.2\" font-family=\"Helvetica,sans-Serif\" font-size=\"11.00\">D</text>\r\n",
       "<text text-anchor=\"start\" x=\"169\" y=\"-493.2\" font-family=\"Helvetica,sans-Serif\" baseline-shift=\"super\" font-size=\"11.00\">0</text>\r\n",
       "<polygon fill=\"none\" stroke=\"black\" points=\"154,-459 154,-483 181,-483 181,-459 154,-459\"/>\r\n",
       "<text text-anchor=\"start\" x=\"160.5\" y=\"-469.2\" font-family=\"Helvetica,sans-Serif\" font-size=\"11.00\">π</text>\r\n",
       "<text text-anchor=\"start\" x=\"168.5\" y=\"-469.2\" font-family=\"Helvetica,sans-Serif\" baseline-shift=\"super\" font-size=\"11.00\">+</text>\r\n",
       "</g>\r\n",
       "<!-- mother&#45;&gt;dec5 -->\r\n",
       "<g id=\"edge1\" class=\"edge\"><title>mother&#45;&gt;dec5</title>\r\n",
       "<path fill=\"none\" stroke=\"black\" d=\"M56.65,-361.016C76.1352,-382.752 109.354,-419.809 134.078,-447.389\"/>\r\n",
       "<polygon fill=\"black\" stroke=\"black\" points=\"131.526,-449.787 140.807,-454.896 136.738,-445.114 131.526,-449.787\"/>\r\n",
       "<text text-anchor=\"middle\" x=\"109.5\" y=\"-436.2\" font-family=\"Times New Roman,serif\" font-size=\"11.00\" fill=\"#4c4c4c\">0.677</text>\r\n",
       "</g>\r\n",
       "<!-- dec7 -->\r\n",
       "<g id=\"node4\" class=\"node\"><title>dec7</title>\r\n",
       "<polygon fill=\"#9abad6\" stroke=\"none\" points=\"153.5,-319 153.5,-367 180.5,-367 180.5,-319 153.5,-319\"/>\r\n",
       "<polygon fill=\"none\" stroke=\"black\" points=\"154,-343 154,-367 181,-367 181,-343 154,-343\"/>\r\n",
       "<text text-anchor=\"start\" x=\"160\" y=\"-353.2\" font-family=\"Helvetica,sans-Serif\" font-size=\"11.00\">D</text>\r\n",
       "<text text-anchor=\"start\" x=\"169\" y=\"-353.2\" font-family=\"Helvetica,sans-Serif\" baseline-shift=\"super\" font-size=\"11.00\">+</text>\r\n",
       "<polygon fill=\"none\" stroke=\"black\" points=\"154,-319 154,-343 181,-343 181,-319 154,-319\"/>\r\n",
       "<text text-anchor=\"start\" x=\"160.5\" y=\"-329.2\" font-family=\"Helvetica,sans-Serif\" font-size=\"11.00\">π</text>\r\n",
       "<text text-anchor=\"start\" x=\"168.5\" y=\"-329.2\" font-family=\"Helvetica,sans-Serif\" baseline-shift=\"super\" font-size=\"11.00\">0</text>\r\n",
       "</g>\r\n",
       "<!-- mother&#45;&gt;dec7 -->\r\n",
       "<g id=\"edge3\" class=\"edge\"><title>mother&#45;&gt;dec7</title>\r\n",
       "<path fill=\"none\" stroke=\"black\" d=\"M79.1782,-343C95.2119,-343 113.717,-343 129.513,-343\"/>\r\n",
       "<polygon fill=\"black\" stroke=\"black\" points=\"129.952,-346.5 139.952,-343 129.952,-339.5 129.952,-346.5\"/>\r\n",
       "<text text-anchor=\"middle\" x=\"109.5\" y=\"-346.2\" font-family=\"Times New Roman,serif\" font-size=\"11.00\" fill=\"#4c4c4c\">0.307</text>\r\n",
       "</g>\r\n",
       "<!-- dec17 -->\r\n",
       "<g id=\"node14\" class=\"node\"><title>dec17</title>\r\n",
       "<polygon fill=\"#9abad6\" stroke=\"none\" points=\"153.5,-186 153.5,-234 180.5,-234 180.5,-186 153.5,-186\"/>\r\n",
       "<polygon fill=\"none\" stroke=\"black\" points=\"154,-210 154,-234 181,-234 181,-210 154,-210\"/>\r\n",
       "<text text-anchor=\"start\" x=\"160\" y=\"-220.2\" font-family=\"Helvetica,sans-Serif\" font-size=\"11.00\">D</text>\r\n",
       "<text text-anchor=\"start\" x=\"169\" y=\"-220.2\" font-family=\"Helvetica,sans-Serif\" baseline-shift=\"super\" font-size=\"11.00\">+</text>\r\n",
       "<polygon fill=\"none\" stroke=\"black\" points=\"154,-186 154,-210 181,-210 181,-186 154,-186\"/>\r\n",
       "<text text-anchor=\"start\" x=\"164.5\" y=\"-195.2\" font-family=\"Helvetica,sans-Serif\" font-size=\"11.00\">γ</text>\r\n",
       "</g>\r\n",
       "<!-- mother&#45;&gt;dec17 -->\r\n",
       "<g id=\"edge13\" class=\"edge\"><title>mother&#45;&gt;dec17</title>\r\n",
       "<path fill=\"none\" stroke=\"black\" d=\"M57.6871,-324.786C76.9947,-304.324 108.789,-270.63 132.948,-245.027\"/>\r\n",
       "<polygon fill=\"black\" stroke=\"black\" points=\"135.543,-247.377 139.861,-237.702 130.452,-242.573 135.543,-247.377\"/>\r\n",
       "<text text-anchor=\"middle\" x=\"109.5\" y=\"-283.2\" font-family=\"Times New Roman,serif\" font-size=\"11.00\" fill=\"#4c4c4c\">0.016</text>\r\n",
       "</g>\r\n",
       "<!-- dec6 -->\r\n",
       "<g id=\"node3\" class=\"node\"><title>dec6</title>\r\n",
       "<ellipse fill=\"#eef3f8\" stroke=\"black\" cx=\"339.666\" cy=\"-561\" rx=\"33.5821\" ry=\"18\"/>\r\n",
       "<polygon fill=\"#eef3f8\" stroke=\"none\" points=\"322.666,-553 322.666,-569 356.666,-569 356.666,-553 322.666,-553\"/>\r\n",
       "<text text-anchor=\"start\" x=\"324.666\" y=\"-559.2\" font-family=\"Helvetica,sans-Serif\" font-size=\"11.00\">K</text>\r\n",
       "<text text-anchor=\"start\" x=\"332.666\" y=\"-559.2\" font-family=\"Helvetica,sans-Serif\" baseline-shift=\"super\" font-size=\"11.00\">&#45;</text>\r\n",
       "<text text-anchor=\"start\" x=\"340.666\" y=\"-559.2\" font-family=\"Helvetica,sans-Serif\" font-size=\"11.00\">π</text>\r\n",
       "<text text-anchor=\"start\" x=\"348.666\" y=\"-559.2\" font-family=\"Helvetica,sans-Serif\" baseline-shift=\"super\" font-size=\"11.00\">+</text>\r\n",
       "</g>\r\n",
       "<!-- dec5&#45;&gt;dec6 -->\r\n",
       "<g id=\"edge2\" class=\"edge\"><title>dec5:p0&#45;&gt;dec6</title>\r\n",
       "<path fill=\"none\" stroke=\"black\" d=\"M182,-495C194.862,-495 262.847,-525.601 304.922,-545.13\"/>\r\n",
       "<polygon fill=\"black\" stroke=\"black\" points=\"303.446,-548.303 313.989,-549.352 306.402,-541.958 303.446,-548.303\"/>\r\n",
       "<text text-anchor=\"middle\" x=\"240\" y=\"-531.2\" font-family=\"Times New Roman,serif\" font-size=\"11.00\" fill=\"#4c4c4c\">1.0</text>\r\n",
       "</g>\r\n",
       "<!-- dec8 -->\r\n",
       "<g id=\"node5\" class=\"node\"><title>dec8</title>\r\n",
       "<polygon fill=\"#9abad6\" stroke=\"none\" points=\"326.666,-425 326.666,-521 352.666,-521 352.666,-425 326.666,-425\"/>\r\n",
       "<polygon fill=\"none\" stroke=\"black\" points=\"326.666,-497 326.666,-521 352.666,-521 352.666,-497 326.666,-497\"/>\r\n",
       "<text text-anchor=\"start\" x=\"333.666\" y=\"-507.2\" font-family=\"Helvetica,sans-Serif\" font-size=\"11.00\">K</text>\r\n",
       "<text text-anchor=\"start\" x=\"341.666\" y=\"-507.2\" font-family=\"Helvetica,sans-Serif\" baseline-shift=\"super\" font-size=\"11.00\">&#45;</text>\r\n",
       "<polygon fill=\"none\" stroke=\"black\" points=\"326.666,-473 326.666,-497 352.666,-497 352.666,-473 326.666,-473\"/>\r\n",
       "<text text-anchor=\"start\" x=\"332.666\" y=\"-483.2\" font-family=\"Helvetica,sans-Serif\" font-size=\"11.00\">π</text>\r\n",
       "<text text-anchor=\"start\" x=\"340.666\" y=\"-483.2\" font-family=\"Helvetica,sans-Serif\" baseline-shift=\"super\" font-size=\"11.00\">+</text>\r\n",
       "<polygon fill=\"none\" stroke=\"black\" points=\"326.666,-449 326.666,-473 352.666,-473 352.666,-449 326.666,-449\"/>\r\n",
       "<text text-anchor=\"start\" x=\"332.666\" y=\"-459.2\" font-family=\"Helvetica,sans-Serif\" font-size=\"11.00\">π</text>\r\n",
       "<text text-anchor=\"start\" x=\"340.666\" y=\"-459.2\" font-family=\"Helvetica,sans-Serif\" baseline-shift=\"super\" font-size=\"11.00\">+</text>\r\n",
       "<polygon fill=\"none\" stroke=\"black\" points=\"326.666,-425 326.666,-449 352.666,-449 352.666,-425 326.666,-425\"/>\r\n",
       "<text text-anchor=\"start\" x=\"332.666\" y=\"-435.2\" font-family=\"Helvetica,sans-Serif\" font-size=\"11.00\">π</text>\r\n",
       "<text text-anchor=\"start\" x=\"340.666\" y=\"-435.2\" font-family=\"Helvetica,sans-Serif\" baseline-shift=\"super\" font-size=\"11.00\">0</text>\r\n",
       "</g>\r\n",
       "<!-- dec7&#45;&gt;dec8 -->\r\n",
       "<g id=\"edge4\" class=\"edge\"><title>dec7:p0&#45;&gt;dec8</title>\r\n",
       "<path fill=\"none\" stroke=\"black\" d=\"M168,-368C168,-430.651 252.461,-457.117 302.549,-467.305\"/>\r\n",
       "<polygon fill=\"black\" stroke=\"black\" points=\"301.893,-470.742 312.373,-469.185 303.209,-463.867 301.893,-470.742\"/>\r\n",
       "<text text-anchor=\"middle\" x=\"240\" y=\"-461.2\" font-family=\"Times New Roman,serif\" font-size=\"11.00\" fill=\"#4c4c4c\">1.0</text>\r\n",
       "</g>\r\n",
       "<!-- dec13 -->\r\n",
       "<g id=\"node10\" class=\"node\"><title>dec13</title>\r\n",
       "<ellipse fill=\"#eef3f8\" stroke=\"black\" cx=\"339.666\" cy=\"-385\" rx=\"27\" ry=\"18\"/>\r\n",
       "<polygon fill=\"#eef3f8\" stroke=\"none\" points=\"329.666,-377 329.666,-393 349.666,-393 349.666,-377 329.666,-377\"/>\r\n",
       "<text text-anchor=\"start\" x=\"331.666\" y=\"-382.2\" font-family=\"Helvetica,sans-Serif\" font-size=\"11.00\">γ</text>\r\n",
       "<text text-anchor=\"start\" x=\"341.666\" y=\"-382.2\" font-family=\"Helvetica,sans-Serif\" font-size=\"11.00\">γ</text>\r\n",
       "</g>\r\n",
       "<!-- dec7&#45;&gt;dec13 -->\r\n",
       "<g id=\"edge9\" class=\"edge\"><title>dec7:p1&#45;&gt;dec13</title>\r\n",
       "<path fill=\"none\" stroke=\"black\" d=\"M182,-331C197.111,-331 198.028,-341.245 212,-347 242.36,-359.505 278.33,-369.898 304.167,-376.635\"/>\r\n",
       "<polygon fill=\"black\" stroke=\"black\" points=\"303.328,-380.033 313.884,-379.122 305.064,-373.252 303.328,-380.033\"/>\r\n",
       "<text text-anchor=\"middle\" x=\"240\" y=\"-369.2\" font-family=\"Times New Roman,serif\" font-size=\"11.00\" fill=\"#4c4c4c\">0.988228297</text>\r\n",
       "</g>\r\n",
       "<!-- dec14 -->\r\n",
       "<g id=\"node11\" class=\"node\"><title>dec14</title>\r\n",
       "<ellipse fill=\"#eef3f8\" stroke=\"black\" cx=\"339.666\" cy=\"-331\" rx=\"38.8154\" ry=\"18\"/>\r\n",
       "<polygon fill=\"#eef3f8\" stroke=\"none\" points=\"318.666,-323 318.666,-339 360.666,-339 360.666,-323 318.666,-323\"/>\r\n",
       "<text text-anchor=\"start\" x=\"320.666\" y=\"-329.2\" font-family=\"Helvetica,sans-Serif\" font-size=\"11.00\">e</text>\r\n",
       "<text text-anchor=\"start\" x=\"327.666\" y=\"-329.2\" font-family=\"Helvetica,sans-Serif\" baseline-shift=\"super\" font-size=\"11.00\">+</text>\r\n",
       "<text text-anchor=\"start\" x=\"337.666\" y=\"-329.2\" font-family=\"Helvetica,sans-Serif\" font-size=\"11.00\">e</text>\r\n",
       "<text text-anchor=\"start\" x=\"344.666\" y=\"-329.2\" font-family=\"Helvetica,sans-Serif\" baseline-shift=\"super\" font-size=\"11.00\">&#45;</text>\r\n",
       "<text text-anchor=\"start\" x=\"352.666\" y=\"-328.2\" font-family=\"Helvetica,sans-Serif\" font-size=\"11.00\">γ</text>\r\n",
       "</g>\r\n",
       "<!-- dec7&#45;&gt;dec14 -->\r\n",
       "<g id=\"edge10\" class=\"edge\"><title>dec7:p1&#45;&gt;dec14</title>\r\n",
       "<path fill=\"none\" stroke=\"black\" d=\"M182,-331C218.41,-331 259.581,-331 290.577,-331\"/>\r\n",
       "<polygon fill=\"black\" stroke=\"black\" points=\"290.677,-334.5 300.677,-331 290.677,-327.5 290.677,-334.5\"/>\r\n",
       "<text text-anchor=\"middle\" x=\"240\" y=\"-334.2\" font-family=\"Times New Roman,serif\" font-size=\"11.00\" fill=\"#4c4c4c\">0.011738247</text>\r\n",
       "</g>\r\n",
       "<!-- dec15 -->\r\n",
       "<g id=\"node12\" class=\"node\"><title>dec15</title>\r\n",
       "<ellipse fill=\"#eef3f8\" stroke=\"black\" cx=\"339.666\" cy=\"-277\" rx=\"53.8318\" ry=\"18\"/>\r\n",
       "<polygon fill=\"#eef3f8\" stroke=\"none\" points=\"307.666,-269 307.666,-285 371.666,-285 371.666,-269 307.666,-269\"/>\r\n",
       "<text text-anchor=\"start\" x=\"309.666\" y=\"-275.2\" font-family=\"Helvetica,sans-Serif\" font-size=\"11.00\">e</text>\r\n",
       "<text text-anchor=\"start\" x=\"316.666\" y=\"-275.2\" font-family=\"Helvetica,sans-Serif\" baseline-shift=\"super\" font-size=\"11.00\">+</text>\r\n",
       "<text text-anchor=\"start\" x=\"326.666\" y=\"-275.2\" font-family=\"Helvetica,sans-Serif\" font-size=\"11.00\">e</text>\r\n",
       "<text text-anchor=\"start\" x=\"333.666\" y=\"-275.2\" font-family=\"Helvetica,sans-Serif\" baseline-shift=\"super\" font-size=\"11.00\">+</text>\r\n",
       "<text text-anchor=\"start\" x=\"343.666\" y=\"-275.2\" font-family=\"Helvetica,sans-Serif\" font-size=\"11.00\">e</text>\r\n",
       "<text text-anchor=\"start\" x=\"350.666\" y=\"-275.2\" font-family=\"Helvetica,sans-Serif\" baseline-shift=\"super\" font-size=\"11.00\">&#45;</text>\r\n",
       "<text text-anchor=\"start\" x=\"358.666\" y=\"-275.2\" font-family=\"Helvetica,sans-Serif\" font-size=\"11.00\">e</text>\r\n",
       "<text text-anchor=\"start\" x=\"365.666\" y=\"-275.2\" font-family=\"Helvetica,sans-Serif\" baseline-shift=\"super\" font-size=\"11.00\">&#45;</text>\r\n",
       "</g>\r\n",
       "<!-- dec7&#45;&gt;dec15 -->\r\n",
       "<g id=\"edge11\" class=\"edge\"><title>dec7:p1&#45;&gt;dec15</title>\r\n",
       "<path fill=\"none\" stroke=\"black\" d=\"M182,-331C197.111,-331 198.028,-320.755 212,-315 235.869,-305.169 263.205,-296.643 286.359,-290.173\"/>\r\n",
       "<polygon fill=\"black\" stroke=\"black\" points=\"287.285,-293.548 296.003,-287.528 285.434,-286.797 287.285,-293.548\"/>\r\n",
       "<text text-anchor=\"middle\" x=\"240\" y=\"-318.2\" font-family=\"Times New Roman,serif\" font-size=\"11.00\" fill=\"#4c4c4c\">3.3392e&#45;05</text>\r\n",
       "</g>\r\n",
       "<!-- dec16 -->\r\n",
       "<g id=\"node13\" class=\"node\"><title>dec16</title>\r\n",
       "<ellipse fill=\"#eef3f8\" stroke=\"black\" cx=\"339.666\" cy=\"-223\" rx=\"32.4\" ry=\"18\"/>\r\n",
       "<polygon fill=\"#eef3f8\" stroke=\"none\" points=\"323.666,-215 323.666,-231 355.666,-231 355.666,-215 323.666,-215\"/>\r\n",
       "<text text-anchor=\"start\" x=\"325.666\" y=\"-221.2\" font-family=\"Helvetica,sans-Serif\" font-size=\"11.00\">e</text>\r\n",
       "<text text-anchor=\"start\" x=\"332.666\" y=\"-221.2\" font-family=\"Helvetica,sans-Serif\" baseline-shift=\"super\" font-size=\"11.00\">+</text>\r\n",
       "<text text-anchor=\"start\" x=\"342.666\" y=\"-221.2\" font-family=\"Helvetica,sans-Serif\" font-size=\"11.00\">e</text>\r\n",
       "<text text-anchor=\"start\" x=\"349.666\" y=\"-221.2\" font-family=\"Helvetica,sans-Serif\" baseline-shift=\"super\" font-size=\"11.00\">&#45;</text>\r\n",
       "</g>\r\n",
       "<!-- dec7&#45;&gt;dec16 -->\r\n",
       "<g id=\"edge12\" class=\"edge\"><title>dec7:p1&#45;&gt;dec16</title>\r\n",
       "<path fill=\"none\" stroke=\"black\" d=\"M168,-318C168,-258.833 247.278,-236.188 297.769,-227.766\"/>\r\n",
       "<polygon fill=\"black\" stroke=\"black\" points=\"298.412,-231.208 307.759,-226.22 297.342,-224.29 298.412,-231.208\"/>\r\n",
       "<text text-anchor=\"middle\" x=\"240\" y=\"-256.2\" font-family=\"Times New Roman,serif\" font-size=\"11.00\" fill=\"#4c4c4c\">6.5e&#45;08</text>\r\n",
       "</g>\r\n",
       "<!-- dec9 -->\r\n",
       "<g id=\"node6\" class=\"node\"><title>dec9</title>\r\n",
       "<ellipse fill=\"#eef3f8\" stroke=\"black\" cx=\"538.997\" cy=\"-518\" rx=\"27\" ry=\"18\"/>\r\n",
       "<polygon fill=\"#eef3f8\" stroke=\"none\" points=\"528.997,-510 528.997,-526 548.997,-526 548.997,-510 528.997,-510\"/>\r\n",
       "<text text-anchor=\"start\" x=\"530.997\" y=\"-515.2\" font-family=\"Helvetica,sans-Serif\" font-size=\"11.00\">γ</text>\r\n",
       "<text text-anchor=\"start\" x=\"540.997\" y=\"-515.2\" font-family=\"Helvetica,sans-Serif\" font-size=\"11.00\">γ</text>\r\n",
       "</g>\r\n",
       "<!-- dec8&#45;&gt;dec9 -->\r\n",
       "<g id=\"edge5\" class=\"edge\"><title>dec8:p3&#45;&gt;dec9</title>\r\n",
       "<path fill=\"none\" stroke=\"black\" d=\"M353.666,-437C381.965,-437 385.497,-452.449 411.331,-464 443.455,-478.362 480.513,-494.061 506.212,-504.811\"/>\r\n",
       "<polygon fill=\"black\" stroke=\"black\" points=\"504.894,-508.054 515.471,-508.676 507.591,-501.594 504.894,-508.054\"/>\r\n",
       "<text text-anchor=\"middle\" x=\"439.331\" y=\"-491.2\" font-family=\"Times New Roman,serif\" font-size=\"11.00\" fill=\"#4c4c4c\">0.988228297</text>\r\n",
       "</g>\r\n",
       "<!-- dec10 -->\r\n",
       "<g id=\"node7\" class=\"node\"><title>dec10</title>\r\n",
       "<ellipse fill=\"#eef3f8\" stroke=\"black\" cx=\"538.997\" cy=\"-464\" rx=\"38.8154\" ry=\"18\"/>\r\n",
       "<polygon fill=\"#eef3f8\" stroke=\"none\" points=\"517.997,-456 517.997,-472 559.997,-472 559.997,-456 517.997,-456\"/>\r\n",
       "<text text-anchor=\"start\" x=\"519.997\" y=\"-462.2\" font-family=\"Helvetica,sans-Serif\" font-size=\"11.00\">e</text>\r\n",
       "<text text-anchor=\"start\" x=\"526.997\" y=\"-462.2\" font-family=\"Helvetica,sans-Serif\" baseline-shift=\"super\" font-size=\"11.00\">+</text>\r\n",
       "<text text-anchor=\"start\" x=\"536.997\" y=\"-462.2\" font-family=\"Helvetica,sans-Serif\" font-size=\"11.00\">e</text>\r\n",
       "<text text-anchor=\"start\" x=\"543.997\" y=\"-462.2\" font-family=\"Helvetica,sans-Serif\" baseline-shift=\"super\" font-size=\"11.00\">&#45;</text>\r\n",
       "<text text-anchor=\"start\" x=\"551.997\" y=\"-461.2\" font-family=\"Helvetica,sans-Serif\" font-size=\"11.00\">γ</text>\r\n",
       "</g>\r\n",
       "<!-- dec8&#45;&gt;dec10 -->\r\n",
       "<g id=\"edge6\" class=\"edge\"><title>dec8:p3&#45;&gt;dec10</title>\r\n",
       "<path fill=\"none\" stroke=\"black\" d=\"M353.666,-437C402.003,-437 456.724,-446.202 493.902,-453.862\"/>\r\n",
       "<polygon fill=\"black\" stroke=\"black\" points=\"493.396,-457.332 503.903,-455.972 494.841,-450.483 493.396,-457.332\"/>\r\n",
       "<text text-anchor=\"middle\" x=\"439.331\" y=\"-451.2\" font-family=\"Times New Roman,serif\" font-size=\"11.00\" fill=\"#4c4c4c\">0.011738247</text>\r\n",
       "</g>\r\n",
       "<!-- dec11 -->\r\n",
       "<g id=\"node8\" class=\"node\"><title>dec11</title>\r\n",
       "<ellipse fill=\"#eef3f8\" stroke=\"black\" cx=\"538.997\" cy=\"-410\" rx=\"53.8318\" ry=\"18\"/>\r\n",
       "<polygon fill=\"#eef3f8\" stroke=\"none\" points=\"506.997,-402 506.997,-418 570.997,-418 570.997,-402 506.997,-402\"/>\r\n",
       "<text text-anchor=\"start\" x=\"508.997\" y=\"-408.2\" font-family=\"Helvetica,sans-Serif\" font-size=\"11.00\">e</text>\r\n",
       "<text text-anchor=\"start\" x=\"515.997\" y=\"-408.2\" font-family=\"Helvetica,sans-Serif\" baseline-shift=\"super\" font-size=\"11.00\">+</text>\r\n",
       "<text text-anchor=\"start\" x=\"525.997\" y=\"-408.2\" font-family=\"Helvetica,sans-Serif\" font-size=\"11.00\">e</text>\r\n",
       "<text text-anchor=\"start\" x=\"532.997\" y=\"-408.2\" font-family=\"Helvetica,sans-Serif\" baseline-shift=\"super\" font-size=\"11.00\">+</text>\r\n",
       "<text text-anchor=\"start\" x=\"542.997\" y=\"-408.2\" font-family=\"Helvetica,sans-Serif\" font-size=\"11.00\">e</text>\r\n",
       "<text text-anchor=\"start\" x=\"549.997\" y=\"-408.2\" font-family=\"Helvetica,sans-Serif\" baseline-shift=\"super\" font-size=\"11.00\">&#45;</text>\r\n",
       "<text text-anchor=\"start\" x=\"557.997\" y=\"-408.2\" font-family=\"Helvetica,sans-Serif\" font-size=\"11.00\">e</text>\r\n",
       "<text text-anchor=\"start\" x=\"564.997\" y=\"-408.2\" font-family=\"Helvetica,sans-Serif\" baseline-shift=\"super\" font-size=\"11.00\">&#45;</text>\r\n",
       "</g>\r\n",
       "<!-- dec8&#45;&gt;dec11 -->\r\n",
       "<g id=\"edge7\" class=\"edge\"><title>dec8:p3&#45;&gt;dec11</title>\r\n",
       "<path fill=\"none\" stroke=\"black\" d=\"M353.666,-437C379.938,-437 385.42,-428.339 411.331,-424 432.521,-420.452 455.861,-417.581 476.672,-415.384\"/>\r\n",
       "<polygon fill=\"black\" stroke=\"black\" points=\"477.073,-418.862 486.664,-414.36 476.359,-411.898 477.073,-418.862\"/>\r\n",
       "<text text-anchor=\"middle\" x=\"439.331\" y=\"-427.2\" font-family=\"Times New Roman,serif\" font-size=\"11.00\" fill=\"#4c4c4c\">3.3392e&#45;05</text>\r\n",
       "</g>\r\n",
       "<!-- dec12 -->\r\n",
       "<g id=\"node9\" class=\"node\"><title>dec12</title>\r\n",
       "<ellipse fill=\"#eef3f8\" stroke=\"black\" cx=\"538.997\" cy=\"-356\" rx=\"32.4\" ry=\"18\"/>\r\n",
       "<polygon fill=\"#eef3f8\" stroke=\"none\" points=\"522.997,-348 522.997,-364 554.997,-364 554.997,-348 522.997,-348\"/>\r\n",
       "<text text-anchor=\"start\" x=\"524.997\" y=\"-354.2\" font-family=\"Helvetica,sans-Serif\" font-size=\"11.00\">e</text>\r\n",
       "<text text-anchor=\"start\" x=\"531.997\" y=\"-354.2\" font-family=\"Helvetica,sans-Serif\" baseline-shift=\"super\" font-size=\"11.00\">+</text>\r\n",
       "<text text-anchor=\"start\" x=\"541.997\" y=\"-354.2\" font-family=\"Helvetica,sans-Serif\" font-size=\"11.00\">e</text>\r\n",
       "<text text-anchor=\"start\" x=\"548.997\" y=\"-354.2\" font-family=\"Helvetica,sans-Serif\" baseline-shift=\"super\" font-size=\"11.00\">&#45;</text>\r\n",
       "</g>\r\n",
       "<!-- dec8&#45;&gt;dec12 -->\r\n",
       "<g id=\"edge8\" class=\"edge\"><title>dec8:p3&#45;&gt;dec12</title>\r\n",
       "<path fill=\"none\" stroke=\"black\" d=\"M353.666,-437C384.117,-437 384.061,-413.551 411.331,-400 439.95,-385.779 474.299,-374.157 500.003,-366.437\"/>\r\n",
       "<polygon fill=\"black\" stroke=\"black\" points=\"501.142,-369.75 509.749,-363.571 499.167,-363.034 501.142,-369.75\"/>\r\n",
       "<text text-anchor=\"middle\" x=\"439.331\" y=\"-403.2\" font-family=\"Times New Roman,serif\" font-size=\"11.00\" fill=\"#4c4c4c\">6.5e&#45;08</text>\r\n",
       "</g>\r\n",
       "<!-- dec18 -->\r\n",
       "<g id=\"node15\" class=\"node\"><title>dec18</title>\r\n",
       "<polygon fill=\"#9abad6\" stroke=\"none\" points=\"326.666,-87 326.666,-183 352.666,-183 352.666,-87 326.666,-87\"/>\r\n",
       "<polygon fill=\"none\" stroke=\"black\" points=\"326.666,-159 326.666,-183 352.666,-183 352.666,-159 326.666,-159\"/>\r\n",
       "<text text-anchor=\"start\" x=\"333.666\" y=\"-169.2\" font-family=\"Helvetica,sans-Serif\" font-size=\"11.00\">K</text>\r\n",
       "<text text-anchor=\"start\" x=\"341.666\" y=\"-169.2\" font-family=\"Helvetica,sans-Serif\" baseline-shift=\"super\" font-size=\"11.00\">&#45;</text>\r\n",
       "<polygon fill=\"none\" stroke=\"black\" points=\"326.666,-135 326.666,-159 352.666,-159 352.666,-135 326.666,-135\"/>\r\n",
       "<text text-anchor=\"start\" x=\"332.666\" y=\"-145.2\" font-family=\"Helvetica,sans-Serif\" font-size=\"11.00\">π</text>\r\n",
       "<text text-anchor=\"start\" x=\"340.666\" y=\"-145.2\" font-family=\"Helvetica,sans-Serif\" baseline-shift=\"super\" font-size=\"11.00\">+</text>\r\n",
       "<polygon fill=\"none\" stroke=\"black\" points=\"326.666,-111 326.666,-135 352.666,-135 352.666,-111 326.666,-111\"/>\r\n",
       "<text text-anchor=\"start\" x=\"332.666\" y=\"-121.2\" font-family=\"Helvetica,sans-Serif\" font-size=\"11.00\">π</text>\r\n",
       "<text text-anchor=\"start\" x=\"340.666\" y=\"-121.2\" font-family=\"Helvetica,sans-Serif\" baseline-shift=\"super\" font-size=\"11.00\">+</text>\r\n",
       "<polygon fill=\"none\" stroke=\"black\" points=\"326.666,-87 326.666,-111 352.666,-111 352.666,-87 326.666,-87\"/>\r\n",
       "<text text-anchor=\"start\" x=\"332.666\" y=\"-97.2\" font-family=\"Helvetica,sans-Serif\" font-size=\"11.00\">π</text>\r\n",
       "<text text-anchor=\"start\" x=\"340.666\" y=\"-97.2\" font-family=\"Helvetica,sans-Serif\" baseline-shift=\"super\" font-size=\"11.00\">0</text>\r\n",
       "</g>\r\n",
       "<!-- dec17&#45;&gt;dec18 -->\r\n",
       "<g id=\"edge14\" class=\"edge\"><title>dec17:p0&#45;&gt;dec18</title>\r\n",
       "<path fill=\"none\" stroke=\"black\" d=\"M182,-222C201.821,-222 195.845,-200.484 212,-189 239.816,-169.226 276,-154.714 302.568,-145.743\"/>\r\n",
       "<polygon fill=\"black\" stroke=\"black\" points=\"303.827,-149.014 312.242,-142.577 301.649,-142.361 303.827,-149.014\"/>\r\n",
       "<text text-anchor=\"middle\" x=\"240\" y=\"-192.2\" font-family=\"Times New Roman,serif\" font-size=\"11.00\" fill=\"#4c4c4c\">1.0</text>\r\n",
       "</g>\r\n",
       "<!-- dec19 -->\r\n",
       "<g id=\"node16\" class=\"node\"><title>dec19</title>\r\n",
       "<ellipse fill=\"#eef3f8\" stroke=\"black\" cx=\"538.997\" cy=\"-180\" rx=\"27\" ry=\"18\"/>\r\n",
       "<polygon fill=\"#eef3f8\" stroke=\"none\" points=\"528.997,-172 528.997,-188 548.997,-188 548.997,-172 528.997,-172\"/>\r\n",
       "<text text-anchor=\"start\" x=\"530.997\" y=\"-177.2\" font-family=\"Helvetica,sans-Serif\" font-size=\"11.00\">γ</text>\r\n",
       "<text text-anchor=\"start\" x=\"540.997\" y=\"-177.2\" font-family=\"Helvetica,sans-Serif\" font-size=\"11.00\">γ</text>\r\n",
       "</g>\r\n",
       "<!-- dec18&#45;&gt;dec19 -->\r\n",
       "<g id=\"edge15\" class=\"edge\"><title>dec18:p3&#45;&gt;dec19</title>\r\n",
       "<path fill=\"none\" stroke=\"black\" d=\"M353.666,-99C381.965,-99 385.497,-114.449 411.331,-126 443.455,-140.362 480.513,-156.061 506.212,-166.811\"/>\r\n",
       "<polygon fill=\"black\" stroke=\"black\" points=\"504.894,-170.054 515.471,-170.676 507.591,-163.594 504.894,-170.054\"/>\r\n",
       "<text text-anchor=\"middle\" x=\"439.331\" y=\"-153.2\" font-family=\"Times New Roman,serif\" font-size=\"11.00\" fill=\"#4c4c4c\">0.988228297</text>\r\n",
       "</g>\r\n",
       "<!-- dec20 -->\r\n",
       "<g id=\"node17\" class=\"node\"><title>dec20</title>\r\n",
       "<ellipse fill=\"#eef3f8\" stroke=\"black\" cx=\"538.997\" cy=\"-126\" rx=\"38.8154\" ry=\"18\"/>\r\n",
       "<polygon fill=\"#eef3f8\" stroke=\"none\" points=\"517.997,-118 517.997,-134 559.997,-134 559.997,-118 517.997,-118\"/>\r\n",
       "<text text-anchor=\"start\" x=\"519.997\" y=\"-124.2\" font-family=\"Helvetica,sans-Serif\" font-size=\"11.00\">e</text>\r\n",
       "<text text-anchor=\"start\" x=\"526.997\" y=\"-124.2\" font-family=\"Helvetica,sans-Serif\" baseline-shift=\"super\" font-size=\"11.00\">+</text>\r\n",
       "<text text-anchor=\"start\" x=\"536.997\" y=\"-124.2\" font-family=\"Helvetica,sans-Serif\" font-size=\"11.00\">e</text>\r\n",
       "<text text-anchor=\"start\" x=\"543.997\" y=\"-124.2\" font-family=\"Helvetica,sans-Serif\" baseline-shift=\"super\" font-size=\"11.00\">&#45;</text>\r\n",
       "<text text-anchor=\"start\" x=\"551.997\" y=\"-123.2\" font-family=\"Helvetica,sans-Serif\" font-size=\"11.00\">γ</text>\r\n",
       "</g>\r\n",
       "<!-- dec18&#45;&gt;dec20 -->\r\n",
       "<g id=\"edge16\" class=\"edge\"><title>dec18:p3&#45;&gt;dec20</title>\r\n",
       "<path fill=\"none\" stroke=\"black\" d=\"M353.666,-99C402.003,-99 456.724,-108.202 493.902,-115.862\"/>\r\n",
       "<polygon fill=\"black\" stroke=\"black\" points=\"493.396,-119.332 503.903,-117.972 494.841,-112.483 493.396,-119.332\"/>\r\n",
       "<text text-anchor=\"middle\" x=\"439.331\" y=\"-113.2\" font-family=\"Times New Roman,serif\" font-size=\"11.00\" fill=\"#4c4c4c\">0.011738247</text>\r\n",
       "</g>\r\n",
       "<!-- dec21 -->\r\n",
       "<g id=\"node18\" class=\"node\"><title>dec21</title>\r\n",
       "<ellipse fill=\"#eef3f8\" stroke=\"black\" cx=\"538.997\" cy=\"-72\" rx=\"53.8318\" ry=\"18\"/>\r\n",
       "<polygon fill=\"#eef3f8\" stroke=\"none\" points=\"506.997,-64 506.997,-80 570.997,-80 570.997,-64 506.997,-64\"/>\r\n",
       "<text text-anchor=\"start\" x=\"508.997\" y=\"-70.2\" font-family=\"Helvetica,sans-Serif\" font-size=\"11.00\">e</text>\r\n",
       "<text text-anchor=\"start\" x=\"515.997\" y=\"-70.2\" font-family=\"Helvetica,sans-Serif\" baseline-shift=\"super\" font-size=\"11.00\">+</text>\r\n",
       "<text text-anchor=\"start\" x=\"525.997\" y=\"-70.2\" font-family=\"Helvetica,sans-Serif\" font-size=\"11.00\">e</text>\r\n",
       "<text text-anchor=\"start\" x=\"532.997\" y=\"-70.2\" font-family=\"Helvetica,sans-Serif\" baseline-shift=\"super\" font-size=\"11.00\">+</text>\r\n",
       "<text text-anchor=\"start\" x=\"542.997\" y=\"-70.2\" font-family=\"Helvetica,sans-Serif\" font-size=\"11.00\">e</text>\r\n",
       "<text text-anchor=\"start\" x=\"549.997\" y=\"-70.2\" font-family=\"Helvetica,sans-Serif\" baseline-shift=\"super\" font-size=\"11.00\">&#45;</text>\r\n",
       "<text text-anchor=\"start\" x=\"557.997\" y=\"-70.2\" font-family=\"Helvetica,sans-Serif\" font-size=\"11.00\">e</text>\r\n",
       "<text text-anchor=\"start\" x=\"564.997\" y=\"-70.2\" font-family=\"Helvetica,sans-Serif\" baseline-shift=\"super\" font-size=\"11.00\">&#45;</text>\r\n",
       "</g>\r\n",
       "<!-- dec18&#45;&gt;dec21 -->\r\n",
       "<g id=\"edge17\" class=\"edge\"><title>dec18:p3&#45;&gt;dec21</title>\r\n",
       "<path fill=\"none\" stroke=\"black\" d=\"M353.666,-99C379.938,-99 385.42,-90.3388 411.331,-86 432.521,-82.4519 455.861,-79.5811 476.672,-77.3843\"/>\r\n",
       "<polygon fill=\"black\" stroke=\"black\" points=\"477.073,-80.8616 486.664,-76.36 476.359,-73.8981 477.073,-80.8616\"/>\r\n",
       "<text text-anchor=\"middle\" x=\"439.331\" y=\"-89.2\" font-family=\"Times New Roman,serif\" font-size=\"11.00\" fill=\"#4c4c4c\">3.3392e&#45;05</text>\r\n",
       "</g>\r\n",
       "<!-- dec22 -->\r\n",
       "<g id=\"node19\" class=\"node\"><title>dec22</title>\r\n",
       "<ellipse fill=\"#eef3f8\" stroke=\"black\" cx=\"538.997\" cy=\"-18\" rx=\"32.4\" ry=\"18\"/>\r\n",
       "<polygon fill=\"#eef3f8\" stroke=\"none\" points=\"522.997,-10 522.997,-26 554.997,-26 554.997,-10 522.997,-10\"/>\r\n",
       "<text text-anchor=\"start\" x=\"524.997\" y=\"-16.2\" font-family=\"Helvetica,sans-Serif\" font-size=\"11.00\">e</text>\r\n",
       "<text text-anchor=\"start\" x=\"531.997\" y=\"-16.2\" font-family=\"Helvetica,sans-Serif\" baseline-shift=\"super\" font-size=\"11.00\">+</text>\r\n",
       "<text text-anchor=\"start\" x=\"541.997\" y=\"-16.2\" font-family=\"Helvetica,sans-Serif\" font-size=\"11.00\">e</text>\r\n",
       "<text text-anchor=\"start\" x=\"548.997\" y=\"-16.2\" font-family=\"Helvetica,sans-Serif\" baseline-shift=\"super\" font-size=\"11.00\">&#45;</text>\r\n",
       "</g>\r\n",
       "<!-- dec18&#45;&gt;dec22 -->\r\n",
       "<g id=\"edge18\" class=\"edge\"><title>dec18:p3&#45;&gt;dec22</title>\r\n",
       "<path fill=\"none\" stroke=\"black\" d=\"M353.666,-99C384.117,-99 383.943,-75.311 411.331,-62 440.074,-48.0305 474.414,-36.3907 500.083,-28.599\"/>\r\n",
       "<polygon fill=\"black\" stroke=\"black\" points=\"501.227,-31.9102 509.813,-25.7031 499.23,-25.201 501.227,-31.9102\"/>\r\n",
       "<text text-anchor=\"middle\" x=\"439.331\" y=\"-65.2\" font-family=\"Times New Roman,serif\" font-size=\"11.00\" fill=\"#4c4c4c\">6.5e&#45;08</text>\r\n",
       "</g>\r\n",
       "</g>\r\n",
       "</svg>\r\n"
      ],
      "text/plain": [
       "<decaylanguage.decay.viewer.DecayChainViewer at 0x211938c1948>"
      ]
     },
     "execution_count": 67,
     "metadata": {},
     "output_type": "execute_result"
    }
   ],
   "source": [
    "dc = dfp_Dst.build_decay_chains('D*+')\n",
    "DecayChainViewer(dc)"
   ]
  },
  {
   "cell_type": "code",
   "execution_count": 68,
   "metadata": {
    "slideshow": {
     "slide_type": "subslide"
    }
   },
   "outputs": [
    {
     "data": {
      "image/svg+xml": [
       "<?xml version=\"1.0\" encoding=\"UTF-8\" standalone=\"no\"?>\r\n",
       "<!DOCTYPE svg PUBLIC \"-//W3C//DTD SVG 1.1//EN\"\r\n",
       " \"http://www.w3.org/Graphics/SVG/1.1/DTD/svg11.dtd\">\r\n",
       "<!-- Generated by graphviz version 2.38.0 (20140413.2041)\r\n",
       " -->\r\n",
       "<!-- Title: DecayChainGraph Pages: 1 -->\r\n",
       "<svg width=\"219pt\" height=\"152pt\"\r\n",
       " viewBox=\"0.00 0.00 219.11 152.00\" xmlns=\"http://www.w3.org/2000/svg\" xmlns:xlink=\"http://www.w3.org/1999/xlink\">\r\n",
       "<g id=\"graph0\" class=\"graph\" transform=\"scale(1 1) rotate(0) translate(4 148)\">\r\n",
       "<title>DecayChainGraph</title>\r\n",
       "<polygon fill=\"white\" stroke=\"none\" points=\"-4,4 -4,-148 215.107,-148 215.107,4 -4,4\"/>\r\n",
       "<!-- mother -->\r\n",
       "<g id=\"node1\" class=\"node\"><title>mother</title>\r\n",
       "<polygon fill=\"#568dba\" stroke=\"none\" points=\"8,-60 8,-84 71,-84 71,-60 8,-60\"/>\r\n",
       "<polygon fill=\"none\" stroke=\"black\" points=\"8.5,-60 8.5,-84 71.5,-84 71.5,-60 8.5,-60\"/>\r\n",
       "<text text-anchor=\"start\" x=\"14.5\" y=\"-70.2\" font-family=\"Helvetica,sans-Serif\" font-size=\"11.00\">D</text>\r\n",
       "<text text-anchor=\"start\" x=\"23.5\" y=\"-70.2\" font-family=\"Helvetica,sans-Serif\" baseline-shift=\"super\" font-size=\"11.00\">*</text>\r\n",
       "<text text-anchor=\"start\" x=\"27.5\" y=\"-70.2\" font-family=\"Helvetica,sans-Serif\" font-size=\"11.00\">(2010)</text>\r\n",
       "<text text-anchor=\"start\" x=\"59.5\" y=\"-70.2\" font-family=\"Helvetica,sans-Serif\" baseline-shift=\"super\" font-size=\"11.00\">+</text>\r\n",
       "</g>\r\n",
       "<!-- dec23 -->\r\n",
       "<g id=\"node2\" class=\"node\"><title>dec23</title>\r\n",
       "<ellipse fill=\"#eef3f8\" stroke=\"black\" cx=\"175.553\" cy=\"-126\" rx=\"35.607\" ry=\"18\"/>\r\n",
       "<polygon fill=\"#eef3f8\" stroke=\"none\" points=\"157.053,-118 157.053,-134 194.053,-134 194.053,-118 157.053,-118\"/>\r\n",
       "<text text-anchor=\"start\" x=\"159.553\" y=\"-124.2\" font-family=\"Helvetica,sans-Serif\" font-size=\"11.00\">D</text>\r\n",
       "<text text-anchor=\"start\" x=\"168.553\" y=\"-124.2\" font-family=\"Helvetica,sans-Serif\" baseline-shift=\"super\" font-size=\"11.00\">0</text>\r\n",
       "<text text-anchor=\"start\" x=\"178.553\" y=\"-124.2\" font-family=\"Helvetica,sans-Serif\" font-size=\"11.00\">π</text>\r\n",
       "<text text-anchor=\"start\" x=\"186.553\" y=\"-124.2\" font-family=\"Helvetica,sans-Serif\" baseline-shift=\"super\" font-size=\"11.00\">+</text>\r\n",
       "</g>\r\n",
       "<!-- mother&#45;&gt;dec23 -->\r\n",
       "<g id=\"edge1\" class=\"edge\"><title>mother&#45;&gt;dec23</title>\r\n",
       "<path fill=\"none\" stroke=\"black\" d=\"M79.2738,-87.619C97.7578,-95.0648 119.751,-103.924 137.947,-111.254\"/>\r\n",
       "<polygon fill=\"black\" stroke=\"black\" points=\"136.764,-114.551 147.348,-115.041 139.38,-108.058 136.764,-114.551\"/>\r\n",
       "<text text-anchor=\"middle\" x=\"109.5\" y=\"-106.2\" font-family=\"Times New Roman,serif\" font-size=\"11.00\" fill=\"#4c4c4c\">0.677</text>\r\n",
       "</g>\r\n",
       "<!-- dec24 -->\r\n",
       "<g id=\"node3\" class=\"node\"><title>dec24</title>\r\n",
       "<ellipse fill=\"#eef3f8\" stroke=\"black\" cx=\"175.553\" cy=\"-72\" rx=\"35.607\" ry=\"18\"/>\r\n",
       "<polygon fill=\"#eef3f8\" stroke=\"none\" points=\"157.053,-64 157.053,-80 194.053,-80 194.053,-64 157.053,-64\"/>\r\n",
       "<text text-anchor=\"start\" x=\"159.553\" y=\"-70.2\" font-family=\"Helvetica,sans-Serif\" font-size=\"11.00\">D</text>\r\n",
       "<text text-anchor=\"start\" x=\"168.553\" y=\"-70.2\" font-family=\"Helvetica,sans-Serif\" baseline-shift=\"super\" font-size=\"11.00\">+</text>\r\n",
       "<text text-anchor=\"start\" x=\"178.553\" y=\"-70.2\" font-family=\"Helvetica,sans-Serif\" font-size=\"11.00\">π</text>\r\n",
       "<text text-anchor=\"start\" x=\"186.553\" y=\"-70.2\" font-family=\"Helvetica,sans-Serif\" baseline-shift=\"super\" font-size=\"11.00\">0</text>\r\n",
       "</g>\r\n",
       "<!-- mother&#45;&gt;dec24 -->\r\n",
       "<g id=\"edge2\" class=\"edge\"><title>mother&#45;&gt;dec24</title>\r\n",
       "<path fill=\"none\" stroke=\"black\" d=\"M79.2738,-72C95.0049,-72 113.277,-72 129.588,-72\"/>\r\n",
       "<polygon fill=\"black\" stroke=\"black\" points=\"129.977,-75.5001 139.977,-72 129.977,-68.5001 129.977,-75.5001\"/>\r\n",
       "<text text-anchor=\"middle\" x=\"109.5\" y=\"-75.2\" font-family=\"Times New Roman,serif\" font-size=\"11.00\" fill=\"#4c4c4c\">0.307</text>\r\n",
       "</g>\r\n",
       "<!-- dec25 -->\r\n",
       "<g id=\"node4\" class=\"node\"><title>dec25</title>\r\n",
       "<ellipse fill=\"#eef3f8\" stroke=\"black\" cx=\"175.553\" cy=\"-18\" rx=\"30.375\" ry=\"18\"/>\r\n",
       "<polygon fill=\"#eef3f8\" stroke=\"none\" points=\"161.053,-10 161.053,-26 190.053,-26 190.053,-10 161.053,-10\"/>\r\n",
       "<text text-anchor=\"start\" x=\"163.553\" y=\"-16.2\" font-family=\"Helvetica,sans-Serif\" font-size=\"11.00\">D</text>\r\n",
       "<text text-anchor=\"start\" x=\"172.553\" y=\"-16.2\" font-family=\"Helvetica,sans-Serif\" baseline-shift=\"super\" font-size=\"11.00\">+</text>\r\n",
       "<text text-anchor=\"start\" x=\"182.553\" y=\"-15.2\" font-family=\"Helvetica,sans-Serif\" font-size=\"11.00\">γ</text>\r\n",
       "</g>\r\n",
       "<!-- mother&#45;&gt;dec25 -->\r\n",
       "<g id=\"edge3\" class=\"edge\"><title>mother&#45;&gt;dec25</title>\r\n",
       "<path fill=\"none\" stroke=\"black\" d=\"M79.2738,-56.381C98.7649,-48.5295 122.157,-39.1064 140.886,-31.5621\"/>\r\n",
       "<polygon fill=\"black\" stroke=\"black\" points=\"142.241,-34.7894 150.209,-27.8064 139.626,-28.2964 142.241,-34.7894\"/>\r\n",
       "<text text-anchor=\"middle\" x=\"109.5\" y=\"-51.2\" font-family=\"Times New Roman,serif\" font-size=\"11.00\" fill=\"#4c4c4c\">0.016</text>\r\n",
       "</g>\r\n",
       "</g>\r\n",
       "</svg>\r\n"
      ],
      "text/plain": [
       "<decaylanguage.decay.viewer.DecayChainViewer at 0x211938c1588>"
      ]
     },
     "execution_count": 68,
     "metadata": {},
     "output_type": "execute_result"
    }
   ],
   "source": [
    "dc = dfp_Dst.build_decay_chains('D*+', stable_particles=['D+', 'D0', 'pi0'])\n",
    "DecayChainViewer(dc)"
   ]
  },
  {
   "cell_type": "markdown",
   "metadata": {
    "slideshow": {
     "slide_type": "subslide"
    }
   },
   "source": [
    "#### Charge conjugation"
   ]
  },
  {
   "cell_type": "code",
   "execution_count": 69,
   "metadata": {},
   "outputs": [
    {
     "data": {
      "image/svg+xml": [
       "<?xml version=\"1.0\" encoding=\"UTF-8\" standalone=\"no\"?>\r\n",
       "<!DOCTYPE svg PUBLIC \"-//W3C//DTD SVG 1.1//EN\"\r\n",
       " \"http://www.w3.org/Graphics/SVG/1.1/DTD/svg11.dtd\">\r\n",
       "<!-- Generated by graphviz version 2.38.0 (20140413.2041)\r\n",
       " -->\r\n",
       "<!-- Title: DecayChainGraph Pages: 1 -->\r\n",
       "<svg width=\"214pt\" height=\"152pt\"\r\n",
       " viewBox=\"0.00 0.00 214.42 152.00\" xmlns=\"http://www.w3.org/2000/svg\" xmlns:xlink=\"http://www.w3.org/1999/xlink\">\r\n",
       "<g id=\"graph0\" class=\"graph\" transform=\"scale(1 1) rotate(0) translate(4 148)\">\r\n",
       "<title>DecayChainGraph</title>\r\n",
       "<polygon fill=\"white\" stroke=\"none\" points=\"-4,4 -4,-148 210.424,-148 210.424,4 -4,4\"/>\r\n",
       "<!-- mother -->\r\n",
       "<g id=\"node1\" class=\"node\"><title>mother</title>\r\n",
       "<polygon fill=\"#568dba\" stroke=\"none\" points=\"8,-60 8,-84 69,-84 69,-60 8,-60\"/>\r\n",
       "<polygon fill=\"none\" stroke=\"black\" points=\"8.5,-60 8.5,-84 69.5,-84 69.5,-60 8.5,-60\"/>\r\n",
       "<text text-anchor=\"start\" x=\"14.5\" y=\"-70.2\" font-family=\"Helvetica,sans-Serif\" font-size=\"11.00\">D</text>\r\n",
       "<text text-anchor=\"start\" x=\"23.5\" y=\"-70.2\" font-family=\"Helvetica,sans-Serif\" baseline-shift=\"super\" font-size=\"11.00\">*</text>\r\n",
       "<text text-anchor=\"start\" x=\"27.5\" y=\"-70.2\" font-family=\"Helvetica,sans-Serif\" font-size=\"11.00\">(2010)</text>\r\n",
       "<text text-anchor=\"start\" x=\"59.5\" y=\"-70.2\" font-family=\"Helvetica,sans-Serif\" baseline-shift=\"super\" font-size=\"11.00\">&#45;</text>\r\n",
       "</g>\r\n",
       "<!-- dec26 -->\r\n",
       "<g id=\"node2\" class=\"node\"><title>dec26</title>\r\n",
       "<ellipse fill=\"#eef3f8\" stroke=\"black\" cx=\"172.212\" cy=\"-126\" rx=\"34.425\" ry=\"18\"/>\r\n",
       "<polygon fill=\"#eef3f8\" stroke=\"none\" points=\"154.712,-118 154.712,-134 189.712,-134 189.712,-118 154.712,-118\"/>\r\n",
       "<text text-anchor=\"start\" x=\"157.212\" y=\"-124.2\" font-family=\"Helvetica,sans-Serif\" font-size=\"11.00\">D̅</text>\r\n",
       "<text text-anchor=\"start\" x=\"166.212\" y=\"-124.2\" font-family=\"Helvetica,sans-Serif\" baseline-shift=\"super\" font-size=\"11.00\">0</text>\r\n",
       "<text text-anchor=\"start\" x=\"176.212\" y=\"-124.2\" font-family=\"Helvetica,sans-Serif\" font-size=\"11.00\">π</text>\r\n",
       "<text text-anchor=\"start\" x=\"184.212\" y=\"-124.2\" font-family=\"Helvetica,sans-Serif\" baseline-shift=\"super\" font-size=\"11.00\">&#45;</text>\r\n",
       "</g>\r\n",
       "<!-- mother&#45;&gt;dec26 -->\r\n",
       "<g id=\"edge1\" class=\"edge\"><title>mother&#45;&gt;dec26</title>\r\n",
       "<path fill=\"none\" stroke=\"black\" d=\"M77.2433,-87.4742C95.4589,-94.9423 117.207,-103.859 135.191,-111.232\"/>\r\n",
       "<polygon fill=\"black\" stroke=\"black\" points=\"134.168,-114.595 144.749,-115.15 136.824,-108.119 134.168,-114.595\"/>\r\n",
       "<text text-anchor=\"middle\" x=\"107.5\" y=\"-106.2\" font-family=\"Times New Roman,serif\" font-size=\"11.00\" fill=\"#4c4c4c\">0.677</text>\r\n",
       "</g>\r\n",
       "<!-- dec27 -->\r\n",
       "<g id=\"node3\" class=\"node\"><title>dec27</title>\r\n",
       "<ellipse fill=\"#eef3f8\" stroke=\"black\" cx=\"172.212\" cy=\"-72\" rx=\"34.425\" ry=\"18\"/>\r\n",
       "<polygon fill=\"#eef3f8\" stroke=\"none\" points=\"154.712,-64 154.712,-80 189.712,-80 189.712,-64 154.712,-64\"/>\r\n",
       "<text text-anchor=\"start\" x=\"157.212\" y=\"-70.2\" font-family=\"Helvetica,sans-Serif\" font-size=\"11.00\">D</text>\r\n",
       "<text text-anchor=\"start\" x=\"166.212\" y=\"-70.2\" font-family=\"Helvetica,sans-Serif\" baseline-shift=\"super\" font-size=\"11.00\">&#45;</text>\r\n",
       "<text text-anchor=\"start\" x=\"174.212\" y=\"-70.2\" font-family=\"Helvetica,sans-Serif\" font-size=\"11.00\">π</text>\r\n",
       "<text text-anchor=\"start\" x=\"182.212\" y=\"-70.2\" font-family=\"Helvetica,sans-Serif\" baseline-shift=\"super\" font-size=\"11.00\">0</text>\r\n",
       "</g>\r\n",
       "<!-- mother&#45;&gt;dec27 -->\r\n",
       "<g id=\"edge2\" class=\"edge\"><title>mother&#45;&gt;dec27</title>\r\n",
       "<path fill=\"none\" stroke=\"black\" d=\"M77.2433,-72C92.9574,-72 111.3,-72 127.588,-72\"/>\r\n",
       "<polygon fill=\"black\" stroke=\"black\" points=\"127.946,-75.5001 137.946,-72 127.946,-68.5001 127.946,-75.5001\"/>\r\n",
       "<text text-anchor=\"middle\" x=\"107.5\" y=\"-75.2\" font-family=\"Times New Roman,serif\" font-size=\"11.00\" fill=\"#4c4c4c\">0.307</text>\r\n",
       "</g>\r\n",
       "<!-- dec28 -->\r\n",
       "<g id=\"node4\" class=\"node\"><title>dec28</title>\r\n",
       "<ellipse fill=\"#eef3f8\" stroke=\"black\" cx=\"172.212\" cy=\"-18\" rx=\"28.6914\" ry=\"18\"/>\r\n",
       "<polygon fill=\"#eef3f8\" stroke=\"none\" points=\"158.712,-10 158.712,-26 185.712,-26 185.712,-10 158.712,-10\"/>\r\n",
       "<text text-anchor=\"start\" x=\"161.212\" y=\"-16.2\" font-family=\"Helvetica,sans-Serif\" font-size=\"11.00\">D</text>\r\n",
       "<text text-anchor=\"start\" x=\"170.212\" y=\"-16.2\" font-family=\"Helvetica,sans-Serif\" baseline-shift=\"super\" font-size=\"11.00\">&#45;</text>\r\n",
       "<text text-anchor=\"start\" x=\"178.212\" y=\"-15.2\" font-family=\"Helvetica,sans-Serif\" font-size=\"11.00\">γ</text>\r\n",
       "</g>\r\n",
       "<!-- mother&#45;&gt;dec28 -->\r\n",
       "<g id=\"edge3\" class=\"edge\"><title>mother&#45;&gt;dec28</title>\r\n",
       "<path fill=\"none\" stroke=\"black\" d=\"M77.2433,-56.5258C96.4453,-48.6532 119.573,-39.1713 138.078,-31.5842\"/>\r\n",
       "<polygon fill=\"black\" stroke=\"black\" points=\"139.634,-34.7293 147.559,-27.6975 136.978,-28.2525 139.634,-34.7293\"/>\r\n",
       "<text text-anchor=\"middle\" x=\"107.5\" y=\"-51.2\" font-family=\"Times New Roman,serif\" font-size=\"11.00\" fill=\"#4c4c4c\">0.016</text>\r\n",
       "</g>\r\n",
       "</g>\r\n",
       "</svg>\r\n"
      ],
      "text/plain": [
       "<decaylanguage.decay.viewer.DecayChainViewer at 0x211938b1c88>"
      ]
     },
     "execution_count": 69,
     "metadata": {},
     "output_type": "execute_result"
    }
   ],
   "source": [
    "dc_cc = dfp_Dst.build_decay_chains('D*-', stable_particles=['D-', 'anti-D0', 'pi0'])\n",
    "DecayChainViewer(dc_cc)"
   ]
  },
  {
   "cell_type": "markdown",
   "metadata": {
    "slideshow": {
     "slide_type": "subslide"
    }
   },
   "source": [
    "#### Parsing several files\n",
    "\n",
    "Typically useful when the user decay file needs information from the master decay file."
   ]
  },
  {
   "cell_type": "code",
   "execution_count": 70,
   "metadata": {},
   "outputs": [],
   "source": [
    "s = u\"\"\"\n",
    "Alias      MyXic+              Xi_c+\n",
    "Alias      MyantiXic-          anti-Xi_c-\n",
    "ChargeConj MyXic+              MyantiXic-\n",
    "\n",
    "Decay Xi_cc+sig\n",
    "  1.000       MyXic+    pi-    pi+       PHSP;\n",
    "Enddecay\n",
    "CDecay anti-Xi_cc-sig\n",
    "\n",
    "Decay MyXic+\n",
    "  1.000       p+    K-    pi+       PHSP;\n",
    "Enddecay\n",
    "CDecay MyantiXic-\n",
    "\n",
    "End\n",
    "\"\"\""
   ]
  },
  {
   "cell_type": "code",
   "execution_count": 71,
   "metadata": {
    "slideshow": {
     "slide_type": "subslide"
    }
   },
   "outputs": [
    {
     "name": "stderr",
     "output_type": "stream",
     "text": [
      "C:\\home\\sw\\Anaconda3\\lib\\site-packages\\decaylanguage\\dec\\dec.py:445: UserWarning: \n",
      "Corresponding 'Decay' statement for 'CDecay' statement(s) of following particle(s) not found:\n",
      "anti-Xi_cc-sig.\n",
      "Skipping creation of these charge-conjugate decay trees.\n",
      "  warnings.warn(msg)\n"
     ]
    },
    {
     "data": {
      "text/plain": [
       "<DecFileParser: decfile(s)=<dec file input as a string>, n_decays=3>"
      ]
     },
     "execution_count": 71,
     "metadata": {},
     "output_type": "execute_result"
    }
   ],
   "source": [
    "dfp = DecFileParser.from_string(s)\n",
    "dfp.parse()\n",
    "dfp"
   ]
  },
  {
   "cell_type": "markdown",
   "metadata": {},
   "source": [
    "Note the subtletly: 3, not 4 decays, are found! This is because the file contains no statement\n",
    "`ChargeConj anti-Xi_cc-sigXi_cc+sig`, hence the parser cannot know to which particle (matching `Decay` statement) the charge-conjugate decay of `anti-Xi_cc-sig` relates to (code does not rely on position of statements to guess ;-))."
   ]
  },
  {
   "cell_type": "code",
   "execution_count": 72,
   "metadata": {
    "slideshow": {
     "slide_type": "subslide"
    }
   },
   "outputs": [
    {
     "data": {
      "image/svg+xml": [
       "<?xml version=\"1.0\" encoding=\"UTF-8\" standalone=\"no\"?>\r\n",
       "<!DOCTYPE svg PUBLIC \"-//W3C//DTD SVG 1.1//EN\"\r\n",
       " \"http://www.w3.org/Graphics/SVG/1.1/DTD/svg11.dtd\">\r\n",
       "<!-- Generated by graphviz version 2.38.0 (20140413.2041)\r\n",
       " -->\r\n",
       "<!-- Title: DecayChainGraph Pages: 1 -->\r\n",
       "<svg width=\"331pt\" height=\"90pt\"\r\n",
       " viewBox=\"0.00 0.00 330.84 90.00\" xmlns=\"http://www.w3.org/2000/svg\" xmlns:xlink=\"http://www.w3.org/1999/xlink\">\r\n",
       "<g id=\"graph0\" class=\"graph\" transform=\"scale(1 1) rotate(0) translate(4 86)\">\r\n",
       "<title>DecayChainGraph</title>\r\n",
       "<polygon fill=\"white\" stroke=\"none\" points=\"-4,4 -4,-86 326.84,-86 326.84,4 -4,4\"/>\r\n",
       "<!-- mother -->\r\n",
       "<g id=\"node1\" class=\"node\"><title>mother</title>\r\n",
       "<polygon fill=\"#568dba\" stroke=\"none\" points=\"8,-28 8,-52 69,-52 69,-28 8,-28\"/>\r\n",
       "<polygon fill=\"none\" stroke=\"black\" points=\"8.5,-28 8.5,-52 69.5,-52 69.5,-28 8.5,-28\"/>\r\n",
       "<text text-anchor=\"start\" x=\"14.5\" y=\"-37.2\" font-family=\"Helvetica,sans-Serif\" font-size=\"11.00\">Xi_cc+sig</text>\r\n",
       "</g>\r\n",
       "<!-- dec29 -->\r\n",
       "<g id=\"node2\" class=\"node\"><title>dec29</title>\r\n",
       "<polygon fill=\"#9abad6\" stroke=\"none\" points=\"135,-4 135,-76 183,-76 183,-4 135,-4\"/>\r\n",
       "<polygon fill=\"none\" stroke=\"black\" points=\"135,-52 135,-76 183,-76 183,-52 135,-52\"/>\r\n",
       "<text text-anchor=\"start\" x=\"141\" y=\"-61.2\" font-family=\"Helvetica,sans-Serif\" font-size=\"11.00\">MyXic+</text>\r\n",
       "<polygon fill=\"none\" stroke=\"black\" points=\"135,-28 135,-52 183,-52 183,-28 135,-28\"/>\r\n",
       "<text text-anchor=\"start\" x=\"153\" y=\"-38.2\" font-family=\"Helvetica,sans-Serif\" font-size=\"11.00\">π</text>\r\n",
       "<text text-anchor=\"start\" x=\"161\" y=\"-38.2\" font-family=\"Helvetica,sans-Serif\" baseline-shift=\"super\" font-size=\"11.00\">&#45;</text>\r\n",
       "<polygon fill=\"none\" stroke=\"black\" points=\"135,-4 135,-28 183,-28 183,-4 135,-4\"/>\r\n",
       "<text text-anchor=\"start\" x=\"152\" y=\"-14.2\" font-family=\"Helvetica,sans-Serif\" font-size=\"11.00\">π</text>\r\n",
       "<text text-anchor=\"start\" x=\"160\" y=\"-14.2\" font-family=\"Helvetica,sans-Serif\" baseline-shift=\"super\" font-size=\"11.00\">+</text>\r\n",
       "</g>\r\n",
       "<!-- mother&#45;&gt;dec29 -->\r\n",
       "<g id=\"edge1\" class=\"edge\"><title>mother&#45;&gt;dec29</title>\r\n",
       "<path fill=\"none\" stroke=\"black\" d=\"M77.3199,-40C89.8084,-40 103.765,-40 116.513,-40\"/>\r\n",
       "<polygon fill=\"black\" stroke=\"black\" points=\"116.878,-43.5001 126.878,-40 116.878,-36.5001 116.878,-43.5001\"/>\r\n",
       "<text text-anchor=\"middle\" x=\"102\" y=\"-43.2\" font-family=\"Times New Roman,serif\" font-size=\"11.00\" fill=\"#4c4c4c\">1.0</text>\r\n",
       "</g>\r\n",
       "<!-- dec30 -->\r\n",
       "<g id=\"node3\" class=\"node\"><title>dec30</title>\r\n",
       "<ellipse fill=\"#eef3f8\" stroke=\"black\" cx=\"281.92\" cy=\"-64\" rx=\"40.8402\" ry=\"18\"/>\r\n",
       "<polygon fill=\"#eef3f8\" stroke=\"none\" points=\"259.42,-56 259.42,-72 304.42,-72 304.42,-56 259.42,-56\"/>\r\n",
       "<text text-anchor=\"start\" x=\"261.92\" y=\"-61.2\" font-family=\"Helvetica,sans-Serif\" font-size=\"11.00\">p</text>\r\n",
       "<text text-anchor=\"start\" x=\"272.92\" y=\"-62.2\" font-family=\"Helvetica,sans-Serif\" font-size=\"11.00\">K</text>\r\n",
       "<text text-anchor=\"start\" x=\"280.92\" y=\"-62.2\" font-family=\"Helvetica,sans-Serif\" baseline-shift=\"super\" font-size=\"11.00\">&#45;</text>\r\n",
       "<text text-anchor=\"start\" x=\"288.92\" y=\"-62.2\" font-family=\"Helvetica,sans-Serif\" font-size=\"11.00\">π</text>\r\n",
       "<text text-anchor=\"start\" x=\"296.92\" y=\"-62.2\" font-family=\"Helvetica,sans-Serif\" baseline-shift=\"super\" font-size=\"11.00\">+</text>\r\n",
       "</g>\r\n",
       "<!-- dec29&#45;&gt;dec30 -->\r\n",
       "<g id=\"edge2\" class=\"edge\"><title>dec29:p0&#45;&gt;dec30</title>\r\n",
       "<path fill=\"none\" stroke=\"black\" d=\"M184,-64C199.175,-64 215.687,-64 230.71,-64\"/>\r\n",
       "<polygon fill=\"black\" stroke=\"black\" points=\"230.839,-67.5001 240.839,-64 230.839,-60.5001 230.839,-67.5001\"/>\r\n",
       "<text text-anchor=\"middle\" x=\"216\" y=\"-67.2\" font-family=\"Times New Roman,serif\" font-size=\"11.00\" fill=\"#4c4c4c\">1.0</text>\r\n",
       "</g>\r\n",
       "</g>\r\n",
       "</svg>\r\n"
      ],
      "text/plain": [
       "<decaylanguage.decay.viewer.DecayChainViewer at 0x211939dac08>"
      ]
     },
     "execution_count": 72,
     "metadata": {},
     "output_type": "execute_result"
    }
   ],
   "source": [
    "d = dfp.build_decay_chains('Xi_cc+sig')\n",
    "DecayChainViewer(d)"
   ]
  },
  {
   "cell_type": "markdown",
   "metadata": {
    "slideshow": {
     "slide_type": "subslide"
    }
   },
   "source": [
    "As said in the warning, the information provided is not enough for the anti-Xi_cc-sig to make sense:"
   ]
  },
  {
   "cell_type": "code",
   "execution_count": 73,
   "metadata": {},
   "outputs": [
    {
     "name": "stdout",
     "output_type": "stream",
     "text": [
      "Decays of particle 'anti-Xi_cc-sig' not found in .dec file!\n"
     ]
    }
   ],
   "source": [
    "from decaylanguage.dec.dec import DecayNotFound\n",
    "\n",
    "try:\n",
    "    d = dfp.build_decay_chains('anti-Xi_cc-sig')\n",
    "except DecayNotFound:\n",
    "    print(\"Decays of particle 'anti-Xi_cc-sig' not found in .dec file!\")"
   ]
  },
  {
   "cell_type": "markdown",
   "metadata": {},
   "source": [
    "But the missing information is easily providing **parsing two files simultaneously ...!** (Any number of files is allowed.)"
   ]
  },
  {
   "cell_type": "code",
   "execution_count": 75,
   "metadata": {
    "slideshow": {
     "slide_type": "subslide"
    }
   },
   "outputs": [],
   "source": [
    "from tempfile import NamedTemporaryFile\n",
    "\n",
    "with NamedTemporaryFile(delete=False) as tf:\n",
    "    tf.write(s.encode('utf-8'))\n",
    "    \n",
    "dfp = DecFileParser(tf.name, 'data/DECAY_LHCB.DEC')\n",
    "dfp.parse()"
   ]
  },
  {
   "cell_type": "code",
   "execution_count": 76,
   "metadata": {
    "slideshow": {
     "slide_type": "subslide"
    }
   },
   "outputs": [
    {
     "data": {
      "image/svg+xml": [
       "<?xml version=\"1.0\" encoding=\"UTF-8\" standalone=\"no\"?>\r\n",
       "<!DOCTYPE svg PUBLIC \"-//W3C//DTD SVG 1.1//EN\"\r\n",
       " \"http://www.w3.org/Graphics/SVG/1.1/DTD/svg11.dtd\">\r\n",
       "<!-- Generated by graphviz version 2.38.0 (20140413.2041)\r\n",
       " -->\r\n",
       "<!-- Title: DecayChainGraph Pages: 1 -->\r\n",
       "<svg width=\"331pt\" height=\"90pt\"\r\n",
       " viewBox=\"0.00 0.00 330.84 90.00\" xmlns=\"http://www.w3.org/2000/svg\" xmlns:xlink=\"http://www.w3.org/1999/xlink\">\r\n",
       "<g id=\"graph0\" class=\"graph\" transform=\"scale(1 1) rotate(0) translate(4 86)\">\r\n",
       "<title>DecayChainGraph</title>\r\n",
       "<polygon fill=\"white\" stroke=\"none\" points=\"-4,4 -4,-86 326.84,-86 326.84,4 -4,4\"/>\r\n",
       "<!-- mother -->\r\n",
       "<g id=\"node1\" class=\"node\"><title>mother</title>\r\n",
       "<polygon fill=\"#568dba\" stroke=\"none\" points=\"8,-28 8,-52 69,-52 69,-28 8,-28\"/>\r\n",
       "<polygon fill=\"none\" stroke=\"black\" points=\"8.5,-28 8.5,-52 69.5,-52 69.5,-28 8.5,-28\"/>\r\n",
       "<text text-anchor=\"start\" x=\"14.5\" y=\"-37.2\" font-family=\"Helvetica,sans-Serif\" font-size=\"11.00\">Xi_cc+sig</text>\r\n",
       "</g>\r\n",
       "<!-- dec31 -->\r\n",
       "<g id=\"node2\" class=\"node\"><title>dec31</title>\r\n",
       "<polygon fill=\"#9abad6\" stroke=\"none\" points=\"135,-4 135,-76 183,-76 183,-4 135,-4\"/>\r\n",
       "<polygon fill=\"none\" stroke=\"black\" points=\"135,-52 135,-76 183,-76 183,-52 135,-52\"/>\r\n",
       "<text text-anchor=\"start\" x=\"141\" y=\"-61.2\" font-family=\"Helvetica,sans-Serif\" font-size=\"11.00\">MyXic+</text>\r\n",
       "<polygon fill=\"none\" stroke=\"black\" points=\"135,-28 135,-52 183,-52 183,-28 135,-28\"/>\r\n",
       "<text text-anchor=\"start\" x=\"153\" y=\"-38.2\" font-family=\"Helvetica,sans-Serif\" font-size=\"11.00\">π</text>\r\n",
       "<text text-anchor=\"start\" x=\"161\" y=\"-38.2\" font-family=\"Helvetica,sans-Serif\" baseline-shift=\"super\" font-size=\"11.00\">&#45;</text>\r\n",
       "<polygon fill=\"none\" stroke=\"black\" points=\"135,-4 135,-28 183,-28 183,-4 135,-4\"/>\r\n",
       "<text text-anchor=\"start\" x=\"152\" y=\"-14.2\" font-family=\"Helvetica,sans-Serif\" font-size=\"11.00\">π</text>\r\n",
       "<text text-anchor=\"start\" x=\"160\" y=\"-14.2\" font-family=\"Helvetica,sans-Serif\" baseline-shift=\"super\" font-size=\"11.00\">+</text>\r\n",
       "</g>\r\n",
       "<!-- mother&#45;&gt;dec31 -->\r\n",
       "<g id=\"edge1\" class=\"edge\"><title>mother&#45;&gt;dec31</title>\r\n",
       "<path fill=\"none\" stroke=\"black\" d=\"M77.3199,-40C89.8084,-40 103.765,-40 116.513,-40\"/>\r\n",
       "<polygon fill=\"black\" stroke=\"black\" points=\"116.878,-43.5001 126.878,-40 116.878,-36.5001 116.878,-43.5001\"/>\r\n",
       "<text text-anchor=\"middle\" x=\"102\" y=\"-43.2\" font-family=\"Times New Roman,serif\" font-size=\"11.00\" fill=\"#4c4c4c\">1.0</text>\r\n",
       "</g>\r\n",
       "<!-- dec32 -->\r\n",
       "<g id=\"node3\" class=\"node\"><title>dec32</title>\r\n",
       "<ellipse fill=\"#eef3f8\" stroke=\"black\" cx=\"281.92\" cy=\"-64\" rx=\"40.8402\" ry=\"18\"/>\r\n",
       "<polygon fill=\"#eef3f8\" stroke=\"none\" points=\"259.42,-56 259.42,-72 304.42,-72 304.42,-56 259.42,-56\"/>\r\n",
       "<text text-anchor=\"start\" x=\"261.92\" y=\"-61.2\" font-family=\"Helvetica,sans-Serif\" font-size=\"11.00\">p</text>\r\n",
       "<text text-anchor=\"start\" x=\"272.92\" y=\"-62.2\" font-family=\"Helvetica,sans-Serif\" font-size=\"11.00\">K</text>\r\n",
       "<text text-anchor=\"start\" x=\"280.92\" y=\"-62.2\" font-family=\"Helvetica,sans-Serif\" baseline-shift=\"super\" font-size=\"11.00\">&#45;</text>\r\n",
       "<text text-anchor=\"start\" x=\"288.92\" y=\"-62.2\" font-family=\"Helvetica,sans-Serif\" font-size=\"11.00\">π</text>\r\n",
       "<text text-anchor=\"start\" x=\"296.92\" y=\"-62.2\" font-family=\"Helvetica,sans-Serif\" baseline-shift=\"super\" font-size=\"11.00\">+</text>\r\n",
       "</g>\r\n",
       "<!-- dec31&#45;&gt;dec32 -->\r\n",
       "<g id=\"edge2\" class=\"edge\"><title>dec31:p0&#45;&gt;dec32</title>\r\n",
       "<path fill=\"none\" stroke=\"black\" d=\"M184,-64C199.175,-64 215.687,-64 230.71,-64\"/>\r\n",
       "<polygon fill=\"black\" stroke=\"black\" points=\"230.839,-67.5001 240.839,-64 230.839,-60.5001 230.839,-67.5001\"/>\r\n",
       "<text text-anchor=\"middle\" x=\"216\" y=\"-67.2\" font-family=\"Times New Roman,serif\" font-size=\"11.00\" fill=\"#4c4c4c\">1.0</text>\r\n",
       "</g>\r\n",
       "</g>\r\n",
       "</svg>\r\n"
      ],
      "text/plain": [
       "<decaylanguage.decay.viewer.DecayChainViewer at 0x211938c2c08>"
      ]
     },
     "execution_count": 76,
     "metadata": {},
     "output_type": "execute_result"
    }
   ],
   "source": [
    "dc = dfp.build_decay_chains('Xi_cc+sig')\n",
    "\n",
    "DecayChainViewer(dc)"
   ]
  },
  {
   "cell_type": "code",
   "execution_count": 77,
   "metadata": {
    "slideshow": {
     "slide_type": "subslide"
    }
   },
   "outputs": [
    {
     "data": {
      "image/svg+xml": [
       "<?xml version=\"1.0\" encoding=\"UTF-8\" standalone=\"no\"?>\r\n",
       "<!DOCTYPE svg PUBLIC \"-//W3C//DTD SVG 1.1//EN\"\r\n",
       " \"http://www.w3.org/Graphics/SVG/1.1/DTD/svg11.dtd\">\r\n",
       "<!-- Generated by graphviz version 2.38.0 (20140413.2041)\r\n",
       " -->\r\n",
       "<!-- Title: DecayChainGraph Pages: 1 -->\r\n",
       "<svg width=\"363pt\" height=\"90pt\"\r\n",
       " viewBox=\"0.00 0.00 362.84 90.00\" xmlns=\"http://www.w3.org/2000/svg\" xmlns:xlink=\"http://www.w3.org/1999/xlink\">\r\n",
       "<g id=\"graph0\" class=\"graph\" transform=\"scale(1 1) rotate(0) translate(4 86)\">\r\n",
       "<title>DecayChainGraph</title>\r\n",
       "<polygon fill=\"white\" stroke=\"none\" points=\"-4,4 -4,-86 358.84,-86 358.84,4 -4,4\"/>\r\n",
       "<!-- mother -->\r\n",
       "<g id=\"node1\" class=\"node\"><title>mother</title>\r\n",
       "<polygon fill=\"#568dba\" stroke=\"none\" points=\"8,-28 8,-52 87,-52 87,-28 8,-28\"/>\r\n",
       "<polygon fill=\"none\" stroke=\"black\" points=\"8.5,-28 8.5,-52 87.5,-52 87.5,-28 8.5,-28\"/>\r\n",
       "<text text-anchor=\"start\" x=\"14.5\" y=\"-37.2\" font-family=\"Helvetica,sans-Serif\" font-size=\"11.00\">anti&#45;Xi_cc&#45;sig</text>\r\n",
       "</g>\r\n",
       "<!-- dec33 -->\r\n",
       "<g id=\"node2\" class=\"node\"><title>dec33</title>\r\n",
       "<polygon fill=\"#9abad6\" stroke=\"none\" points=\"153,-4 153,-76 215,-76 215,-4 153,-4\"/>\r\n",
       "<polygon fill=\"none\" stroke=\"black\" points=\"153,-52 153,-76 215,-76 215,-52 153,-52\"/>\r\n",
       "<text text-anchor=\"start\" x=\"159\" y=\"-61.2\" font-family=\"Helvetica,sans-Serif\" font-size=\"11.00\">MyantiXic&#45;</text>\r\n",
       "<polygon fill=\"none\" stroke=\"black\" points=\"153,-28 153,-52 215,-52 215,-28 153,-28\"/>\r\n",
       "<text text-anchor=\"start\" x=\"177\" y=\"-38.2\" font-family=\"Helvetica,sans-Serif\" font-size=\"11.00\">π</text>\r\n",
       "<text text-anchor=\"start\" x=\"185\" y=\"-38.2\" font-family=\"Helvetica,sans-Serif\" baseline-shift=\"super\" font-size=\"11.00\">+</text>\r\n",
       "<polygon fill=\"none\" stroke=\"black\" points=\"153,-4 153,-28 215,-28 215,-4 153,-4\"/>\r\n",
       "<text text-anchor=\"start\" x=\"178\" y=\"-14.2\" font-family=\"Helvetica,sans-Serif\" font-size=\"11.00\">π</text>\r\n",
       "<text text-anchor=\"start\" x=\"186\" y=\"-14.2\" font-family=\"Helvetica,sans-Serif\" baseline-shift=\"super\" font-size=\"11.00\">&#45;</text>\r\n",
       "</g>\r\n",
       "<!-- mother&#45;&gt;dec33 -->\r\n",
       "<g id=\"edge1\" class=\"edge\"><title>mother&#45;&gt;dec33</title>\r\n",
       "<path fill=\"none\" stroke=\"black\" d=\"M95.1641,-40C107.976,-40 121.891,-40 134.788,-40\"/>\r\n",
       "<polygon fill=\"black\" stroke=\"black\" points=\"134.872,-43.5001 144.872,-40 134.872,-36.5001 134.872,-43.5001\"/>\r\n",
       "<text text-anchor=\"middle\" x=\"120\" y=\"-43.2\" font-family=\"Times New Roman,serif\" font-size=\"11.00\" fill=\"#4c4c4c\">1.0</text>\r\n",
       "</g>\r\n",
       "<!-- dec34 -->\r\n",
       "<g id=\"node3\" class=\"node\"><title>dec34</title>\r\n",
       "<ellipse fill=\"#eef3f8\" stroke=\"black\" cx=\"313.92\" cy=\"-64\" rx=\"40.8402\" ry=\"18\"/>\r\n",
       "<polygon fill=\"#eef3f8\" stroke=\"none\" points=\"291.42,-56 291.42,-72 336.42,-72 336.42,-56 291.42,-56\"/>\r\n",
       "<text text-anchor=\"start\" x=\"293.92\" y=\"-61.2\" font-family=\"Helvetica,sans-Serif\" font-size=\"11.00\">p̅</text>\r\n",
       "<text text-anchor=\"start\" x=\"304.92\" y=\"-62.2\" font-family=\"Helvetica,sans-Serif\" font-size=\"11.00\">K</text>\r\n",
       "<text text-anchor=\"start\" x=\"312.92\" y=\"-62.2\" font-family=\"Helvetica,sans-Serif\" baseline-shift=\"super\" font-size=\"11.00\">+</text>\r\n",
       "<text text-anchor=\"start\" x=\"322.92\" y=\"-62.2\" font-family=\"Helvetica,sans-Serif\" font-size=\"11.00\">π</text>\r\n",
       "<text text-anchor=\"start\" x=\"330.92\" y=\"-62.2\" font-family=\"Helvetica,sans-Serif\" baseline-shift=\"super\" font-size=\"11.00\">&#45;</text>\r\n",
       "</g>\r\n",
       "<!-- dec33&#45;&gt;dec34 -->\r\n",
       "<g id=\"edge2\" class=\"edge\"><title>dec33:p0&#45;&gt;dec34</title>\r\n",
       "<path fill=\"none\" stroke=\"black\" d=\"M216,-64C231.175,-64 247.687,-64 262.71,-64\"/>\r\n",
       "<polygon fill=\"black\" stroke=\"black\" points=\"262.839,-67.5001 272.839,-64 262.839,-60.5001 262.839,-67.5001\"/>\r\n",
       "<text text-anchor=\"middle\" x=\"248\" y=\"-67.2\" font-family=\"Times New Roman,serif\" font-size=\"11.00\" fill=\"#4c4c4c\">1.0</text>\r\n",
       "</g>\r\n",
       "</g>\r\n",
       "</svg>\r\n"
      ],
      "text/plain": [
       "<decaylanguage.decay.viewer.DecayChainViewer at 0x211938c2408>"
      ]
     },
     "execution_count": 77,
     "metadata": {},
     "output_type": "execute_result"
    }
   ],
   "source": [
    "dc_cc = dfp.build_decay_chains('anti-Xi_cc-sig')\n",
    "\n",
    "DecayChainViewer(dc_cc)"
   ]
  },
  {
   "cell_type": "markdown",
   "metadata": {
    "slideshow": {
     "slide_type": "slide"
    }
   },
   "source": [
    "### 4. Representation of decay chains\n",
    "\n",
    "<span style=\"color:green\">The universal (and digital) representation of decay chains is of interest well outside the context of decay file parsing!</span>"
   ]
  },
  {
   "cell_type": "markdown",
   "metadata": {
    "slideshow": {
     "slide_type": "subslide"
    }
   },
   "source": [
    "#### Building blocks\n",
    "\n",
    "- A <span style=\"color:green\">daughters list</span> - list of final-state particles.\n",
    "- A <span style=\"color:green\">decay mode</span> - typically a branching fraction and a list of final-state particles (may also contain _any_ metadata such as decay model and optional decay-model parameters, as defined for example in .dec decay files).\n",
    "- A <span style=\"color:green\">decay chain</span> - can be seen as a mother particle and a list of decay modes."
   ]
  },
  {
   "cell_type": "code",
   "execution_count": 78,
   "metadata": {
    "slideshow": {
     "slide_type": "subslide"
    }
   },
   "outputs": [],
   "source": [
    "from decaylanguage.decay.decay import DaughtersDict, DecayMode, DecayChain"
   ]
  },
  {
   "cell_type": "markdown",
   "metadata": {},
   "source": [
    "**Daughters list** (actually a ``Counter`` dictionary, internally):"
   ]
  },
  {
   "cell_type": "code",
   "execution_count": 79,
   "metadata": {
    "slideshow": {
     "slide_type": "subslide"
    }
   },
   "outputs": [
    {
     "data": {
      "text/plain": [
       "<DaughtersDict: ['K+', 'K-', 'pi0']>"
      ]
     },
     "execution_count": 79,
     "metadata": {},
     "output_type": "execute_result"
    }
   ],
   "source": [
    "# Constructor from a dictionary\n",
    "dd = DaughtersDict({'K+': 1, 'K-': 2, 'pi+': 1, 'pi0': 1})\n",
    "\n",
    "# Constructor from a list of particle names\n",
    "dd = DaughtersDict(['K+', 'K-', 'K-', 'pi+', 'pi0'])\n",
    "\n",
    "# Constructor from a string representing the final state\n",
    "dd = DaughtersDict('K+ K- pi0')\n",
    "dd"
   ]
  },
  {
   "cell_type": "markdown",
   "metadata": {},
   "source": [
    "#### Decay Modes"
   ]
  },
  {
   "cell_type": "code",
   "execution_count": 80,
   "metadata": {
    "slideshow": {
     "slide_type": "subslide"
    }
   },
   "outputs": [
    {
     "data": {
      "text/plain": [
       "<DecayMode: daughters=nu_tau pi- pi0, BF=0.2551>"
      ]
     },
     "execution_count": 80,
     "metadata": {},
     "output_type": "execute_result"
    }
   ],
   "source": [
    "# A 'default' and hence empty, decay mode\n",
    "dm = DecayMode()\n",
    "\n",
    "# Decay mode with minimal input information\n",
    "dd = DaughtersDict('K+ K-')\n",
    "dm = DecayMode(0.5, dd)\n",
    "\n",
    "# Decay mode with decay model information and user metadata\n",
    "dm = DecayMode(0.2551,                                              # branching fraction\n",
    "               'pi- pi0 nu_tau',                                    # final-state particles\n",
    "               model='TAUHADNU',                                    # decay model\n",
    "               model_params=[-0.108, 0.775, 0.149, 1.364, 0.400],   # decay-model parameters\n",
    "               study='toy', year=2019                               # user metadata\n",
    "              )\n",
    "dm"
   ]
  },
  {
   "cell_type": "code",
   "execution_count": 81,
   "metadata": {
    "slideshow": {
     "slide_type": "subslide"
    }
   },
   "outputs": [
    {
     "name": "stdout",
     "output_type": "stream",
     "text": [
      "Daughters: pi- pi0 nu_tau , BF: 0.2551         \n",
      "    Decay model: TAUHADNU [-0.108, 0.775, 0.149, 1.364, 0.4]\n",
      "    Extra info:\n",
      "        study: toy\n",
      "        year: 2019\n",
      "\n"
     ]
    }
   ],
   "source": [
    "print(dm.describe())"
   ]
  },
  {
   "cell_type": "markdown",
   "metadata": {
    "slideshow": {
     "slide_type": "subslide"
    }
   },
   "source": [
    "Various manipulations are available:"
   ]
  },
  {
   "cell_type": "code",
   "execution_count": 82,
   "metadata": {},
   "outputs": [
    {
     "name": "stdout",
     "output_type": "stream",
     "text": [
      "<DecayMode: daughters=K+ K-, BF=0.5>\n"
     ]
    },
    {
     "data": {
      "text/plain": [
       "<DecayMode: daughters=K- K- pi+, BF=1.0>"
      ]
     },
     "execution_count": 82,
     "metadata": {},
     "output_type": "execute_result"
    }
   ],
   "source": [
    "dm = DecayMode.from_pdgids(0.5, [321, -321])\n",
    "print(dm)\n",
    "\n",
    "dm = DecayMode(1.0, 'K+ K+ pi-')\n",
    "dm.charge_conjugate()"
   ]
  },
  {
   "cell_type": "markdown",
   "metadata": {
    "slideshow": {
     "slide_type": "subslide"
    }
   },
   "source": [
    "#### Decay chains "
   ]
  },
  {
   "cell_type": "code",
   "execution_count": 83,
   "metadata": {},
   "outputs": [
    {
     "data": {
      "text/plain": [
       "<DecayChain: D0 -> K_S0 pi0 (2 sub-decays), BF=0.0124>"
      ]
     },
     "execution_count": 83,
     "metadata": {},
     "output_type": "execute_result"
    }
   ],
   "source": [
    "dm1 = DecayMode(0.0124, 'K_S0 pi0', model='PHSP')\n",
    "dm2 = DecayMode(0.692, 'pi+ pi-')\n",
    "dm3 = DecayMode(0.98823, 'gamma gamma')\n",
    "dc = DecayChain('D0', {'D0':dm1, 'K_S0':dm2, 'pi0':dm3})\n",
    "\n",
    "dc"
   ]
  },
  {
   "cell_type": "markdown",
   "metadata": {
    "slideshow": {
     "slide_type": "subslide"
    }
   },
   "source": [
    "Flatten the decay chain, i.e. replace all intermediate, decaying particles, with their final states:\n",
    "- The BF is now the *visible BF*"
   ]
  },
  {
   "cell_type": "code",
   "execution_count": 84,
   "metadata": {
    "slideshow": {
     "slide_type": "-"
    }
   },
   "outputs": [
    {
     "data": {
      "text/plain": [
       "<DecayChain: D0 -> gamma gamma pi+ pi- (0 sub-decays), BF=0.008479803984>"
      ]
     },
     "execution_count": 84,
     "metadata": {},
     "output_type": "execute_result"
    }
   ],
   "source": [
    "dc.flatten()"
   ]
  },
  {
   "cell_type": "code",
   "execution_count": 85,
   "metadata": {
    "scrolled": false,
    "slideshow": {
     "slide_type": "-"
    }
   },
   "outputs": [
    {
     "name": "stdout",
     "output_type": "stream",
     "text": [
      "D0\n",
      "+--> K_S0\n",
      "|    +--> pi+\n",
      "|    +--> pi-\n",
      "+--> pi0\n",
      "     +--> gamma\n",
      "     +--> gamma\n"
     ]
    }
   ],
   "source": [
    "dc.print_as_tree()"
   ]
  },
  {
   "cell_type": "code",
   "execution_count": 86,
   "metadata": {
    "slideshow": {
     "slide_type": "subslide"
    }
   },
   "outputs": [
    {
     "data": {
      "image/svg+xml": [
       "<?xml version=\"1.0\" encoding=\"UTF-8\" standalone=\"no\"?>\r\n",
       "<!DOCTYPE svg PUBLIC \"-//W3C//DTD SVG 1.1//EN\"\r\n",
       " \"http://www.w3.org/Graphics/SVG/1.1/DTD/svg11.dtd\">\r\n",
       "<!-- Generated by graphviz version 2.38.0 (20140413.2041)\r\n",
       " -->\r\n",
       "<!-- Title: DecayChainGraph Pages: 1 -->\r\n",
       "<svg width=\"320pt\" height=\"98pt\"\r\n",
       " viewBox=\"0.00 0.00 320.08 98.00\" xmlns=\"http://www.w3.org/2000/svg\" xmlns:xlink=\"http://www.w3.org/1999/xlink\">\r\n",
       "<g id=\"graph0\" class=\"graph\" transform=\"scale(1 1) rotate(0) translate(4 94)\">\r\n",
       "<title>DecayChainGraph</title>\r\n",
       "<polygon fill=\"white\" stroke=\"none\" points=\"-4,4 -4,-94 316.082,-94 316.082,4 -4,4\"/>\r\n",
       "<!-- mother -->\r\n",
       "<g id=\"node1\" class=\"node\"><title>mother</title>\r\n",
       "<polygon fill=\"#568dba\" stroke=\"none\" points=\"13.5,-33 13.5,-57 40.5,-57 40.5,-33 13.5,-33\"/>\r\n",
       "<polygon fill=\"none\" stroke=\"black\" points=\"14,-33 14,-57 41,-57 41,-33 14,-33\"/>\r\n",
       "<text text-anchor=\"start\" x=\"20\" y=\"-43.2\" font-family=\"Helvetica,sans-Serif\" font-size=\"11.00\">D</text>\r\n",
       "<text text-anchor=\"start\" x=\"29\" y=\"-43.2\" font-family=\"Helvetica,sans-Serif\" baseline-shift=\"super\" font-size=\"11.00\">0</text>\r\n",
       "</g>\r\n",
       "<!-- dec35 -->\r\n",
       "<g id=\"node2\" class=\"node\"><title>dec35</title>\r\n",
       "<polygon fill=\"#9abad6\" stroke=\"none\" points=\"130.5,-21 130.5,-69 163.5,-69 163.5,-21 130.5,-21\"/>\r\n",
       "<polygon fill=\"none\" stroke=\"black\" points=\"131,-45 131,-69 164,-69 164,-45 131,-45\"/>\r\n",
       "<text text-anchor=\"start\" x=\"137\" y=\"-55.2\" font-family=\"Helvetica,sans-Serif\" font-size=\"11.00\">K</text>\r\n",
       "<text text-anchor=\"start\" x=\"145\" y=\"-55.2\" font-family=\"Helvetica,sans-Serif\" baseline-shift=\"sub\" font-size=\"11.00\">S</text>\r\n",
       "<text text-anchor=\"start\" x=\"152\" y=\"-55.2\" font-family=\"Helvetica,sans-Serif\" baseline-shift=\"super\" font-size=\"11.00\">0</text>\r\n",
       "<polygon fill=\"none\" stroke=\"black\" points=\"131,-21 131,-45 164,-45 164,-21 131,-21\"/>\r\n",
       "<text text-anchor=\"start\" x=\"140.5\" y=\"-31.2\" font-family=\"Helvetica,sans-Serif\" font-size=\"11.00\">π</text>\r\n",
       "<text text-anchor=\"start\" x=\"148.5\" y=\"-31.2\" font-family=\"Helvetica,sans-Serif\" baseline-shift=\"super\" font-size=\"11.00\">0</text>\r\n",
       "</g>\r\n",
       "<!-- mother&#45;&gt;dec35 -->\r\n",
       "<g id=\"edge1\" class=\"edge\"><title>mother&#45;&gt;dec35</title>\r\n",
       "<path fill=\"none\" stroke=\"black\" d=\"M54.188,-45C70.5345,-45 91.808,-45 109.761,-45\"/>\r\n",
       "<polygon fill=\"black\" stroke=\"black\" points=\"109.885,-48.5001 119.885,-45 109.885,-41.5001 109.885,-48.5001\"/>\r\n",
       "<text text-anchor=\"middle\" x=\"87\" y=\"-48.2\" font-family=\"Times New Roman,serif\" font-size=\"11.00\" fill=\"#4c4c4c\">0.0124</text>\r\n",
       "</g>\r\n",
       "<!-- dec36 -->\r\n",
       "<g id=\"node3\" class=\"node\"><title>dec36</title>\r\n",
       "<ellipse fill=\"#eef3f8\" stroke=\"black\" cx=\"278.541\" cy=\"-72\" rx=\"33.5821\" ry=\"18\"/>\r\n",
       "<polygon fill=\"#eef3f8\" stroke=\"none\" points=\"261.541,-64 261.541,-80 295.541,-80 295.541,-64 261.541,-64\"/>\r\n",
       "<text text-anchor=\"start\" x=\"263.541\" y=\"-70.2\" font-family=\"Helvetica,sans-Serif\" font-size=\"11.00\">π</text>\r\n",
       "<text text-anchor=\"start\" x=\"271.541\" y=\"-70.2\" font-family=\"Helvetica,sans-Serif\" baseline-shift=\"super\" font-size=\"11.00\">+</text>\r\n",
       "<text text-anchor=\"start\" x=\"281.541\" y=\"-70.2\" font-family=\"Helvetica,sans-Serif\" font-size=\"11.00\">π</text>\r\n",
       "<text text-anchor=\"start\" x=\"289.541\" y=\"-70.2\" font-family=\"Helvetica,sans-Serif\" baseline-shift=\"super\" font-size=\"11.00\">&#45;</text>\r\n",
       "</g>\r\n",
       "<!-- dec35&#45;&gt;dec36 -->\r\n",
       "<g id=\"edge2\" class=\"edge\"><title>dec35:p0&#45;&gt;dec36</title>\r\n",
       "<path fill=\"none\" stroke=\"black\" d=\"M165,-57C188.884,-57 215.372,-60.3606 236.648,-63.9004\"/>\r\n",
       "<polygon fill=\"black\" stroke=\"black\" points=\"236.187,-67.3728 246.639,-65.6386 237.387,-60.4764 236.187,-67.3728\"/>\r\n",
       "<text text-anchor=\"middle\" x=\"209.5\" y=\"-65.2\" font-family=\"Times New Roman,serif\" font-size=\"11.00\" fill=\"#4c4c4c\">0.692</text>\r\n",
       "</g>\r\n",
       "<!-- dec37 -->\r\n",
       "<g id=\"node4\" class=\"node\"><title>dec37</title>\r\n",
       "<ellipse fill=\"#eef3f8\" stroke=\"black\" cx=\"278.541\" cy=\"-18\" rx=\"27\" ry=\"18\"/>\r\n",
       "<polygon fill=\"#eef3f8\" stroke=\"none\" points=\"268.541,-10 268.541,-26 288.541,-26 288.541,-10 268.541,-10\"/>\r\n",
       "<text text-anchor=\"start\" x=\"270.541\" y=\"-15.2\" font-family=\"Helvetica,sans-Serif\" font-size=\"11.00\">γ</text>\r\n",
       "<text text-anchor=\"start\" x=\"280.541\" y=\"-15.2\" font-family=\"Helvetica,sans-Serif\" font-size=\"11.00\">γ</text>\r\n",
       "</g>\r\n",
       "<!-- dec35&#45;&gt;dec37 -->\r\n",
       "<g id=\"edge3\" class=\"edge\"><title>dec35:p1&#45;&gt;dec37</title>\r\n",
       "<path fill=\"none\" stroke=\"black\" d=\"M165,-33C191.205,-33 220.544,-28.9546 242.694,-25.0656\"/>\r\n",
       "<polygon fill=\"black\" stroke=\"black\" points=\"243.43,-28.4892 252.637,-23.2463 242.17,-21.6035 243.43,-28.4892\"/>\r\n",
       "<text text-anchor=\"middle\" x=\"209.5\" y=\"-34.2\" font-family=\"Times New Roman,serif\" font-size=\"11.00\" fill=\"#4c4c4c\">0.98823</text>\r\n",
       "</g>\r\n",
       "</g>\r\n",
       "</svg>\r\n"
      ],
      "text/plain": [
       "<decaylanguage.decay.viewer.DecayChainViewer at 0x21191983108>"
      ]
     },
     "execution_count": 86,
     "metadata": {},
     "output_type": "execute_result"
    }
   ],
   "source": [
    "#dcv = DecayChainViewer(dc.to_dict())\n",
    "#dcv.graph.write_pdf('test.pdf')\n",
    "\n",
    "DecayChainViewer(dc.to_dict())"
   ]
  },
  {
   "cell_type": "markdown",
   "metadata": {
    "slideshow": {
     "slide_type": "slide"
    }
   },
   "source": [
    "### Interested ? Want to try it ?\n",
    "\n",
    "#### Particle\n",
    "- GitHub: https://github.com/scikit-hep/particle/\n",
    "- Releases: [PyPI](https://pypi.org/project/Particle/)\n",
    "\n",
    "#### DecayLanguage\n",
    "- GitHub: https://github.com/scikit-hep/decaylanguage\n",
    "- Releases: [PyPI](https://pypi.org/project/decaylanguage/)\n"
   ]
  }
 ],
 "metadata": {
  "celltoolbar": "Slideshow",
  "kernelspec": {
   "display_name": "Python 3",
   "language": "python",
   "name": "python3"
  },
  "language_info": {
   "codemirror_mode": {
    "name": "ipython",
    "version": 3
   },
   "file_extension": ".py",
   "mimetype": "text/x-python",
   "name": "python",
   "nbconvert_exporter": "python",
   "pygments_lexer": "ipython3",
   "version": "3.7.3"
  }
 },
 "nbformat": 4,
 "nbformat_minor": 2
}
